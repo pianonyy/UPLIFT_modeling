{
 "cells": [
  {
   "cell_type": "code",
   "execution_count": 2,
   "metadata": {},
   "outputs": [
    {
     "ename": "ModuleNotFoundError",
     "evalue": "No module named 'uplift.validation'",
     "output_type": "error",
     "traceback": [
      "\u001b[1;31m---------------------------------------------------------------------------\u001b[0m",
      "\u001b[1;31mModuleNotFoundError\u001b[0m                       Traceback (most recent call last)",
      "\u001b[1;32m<ipython-input-2-543d67b68a45>\u001b[0m in \u001b[0;36m<module>\u001b[1;34m\u001b[0m\n\u001b[1;32m----> 1\u001b[1;33m \u001b[1;32mfrom\u001b[0m \u001b[0muplift\u001b[0m\u001b[1;33m.\u001b[0m\u001b[0mensemble\u001b[0m \u001b[1;32mimport\u001b[0m \u001b[0mRandomForestClassifier\u001b[0m\u001b[1;33m\u001b[0m\u001b[1;33m\u001b[0m\u001b[0m\n\u001b[0m\u001b[0;32m      2\u001b[0m \u001b[1;32mfrom\u001b[0m \u001b[0msklearn\u001b[0m\u001b[1;33m.\u001b[0m\u001b[0mensemble\u001b[0m \u001b[1;32mimport\u001b[0m \u001b[0mGradientBoostingClassifier\u001b[0m\u001b[1;33m\u001b[0m\u001b[1;33m\u001b[0m\u001b[0m\n\u001b[0;32m      3\u001b[0m \u001b[1;31m# from uplift.datasets import make_radcliffe_surry\u001b[0m\u001b[1;33m\u001b[0m\u001b[1;33m\u001b[0m\u001b[1;33m\u001b[0m\u001b[0m\n\u001b[0;32m      4\u001b[0m \u001b[1;32mfrom\u001b[0m \u001b[0muplift\u001b[0m\u001b[1;33m.\u001b[0m\u001b[0mmetrics\u001b[0m \u001b[1;32mimport\u001b[0m \u001b[0mqini_q\u001b[0m\u001b[1;33m,\u001b[0m \u001b[0muplift_curve\u001b[0m\u001b[1;33m,\u001b[0m \u001b[0mnull_uplift_curve\u001b[0m\u001b[1;33m,\u001b[0m \u001b[0moptimal_uplift_curve\u001b[0m\u001b[1;33m\u001b[0m\u001b[1;33m\u001b[0m\u001b[0m\n\u001b[0;32m      5\u001b[0m \u001b[1;32mfrom\u001b[0m \u001b[0muplift\u001b[0m\u001b[1;33m.\u001b[0m\u001b[0mmetrics\u001b[0m \u001b[1;32mimport\u001b[0m \u001b[0mqini_curve\u001b[0m\u001b[1;33m\u001b[0m\u001b[1;33m\u001b[0m\u001b[0m\n",
      "\u001b[1;32mD:\\WORK\\ML_in_trading\\UPLIFT_modeling_lib\\uplift\\ensemble\\__init__.py\u001b[0m in \u001b[0;36m<module>\u001b[1;34m\u001b[0m\n\u001b[1;32m----> 1\u001b[1;33m \u001b[1;32mfrom\u001b[0m \u001b[0muplift\u001b[0m\u001b[1;33m.\u001b[0m\u001b[0mensemble\u001b[0m\u001b[1;33m.\u001b[0m\u001b[0mforest\u001b[0m \u001b[1;32mimport\u001b[0m \u001b[0mRandomForestClassifier\u001b[0m\u001b[1;33m\u001b[0m\u001b[1;33m\u001b[0m\u001b[0m\n\u001b[0m\u001b[0;32m      2\u001b[0m \u001b[1;32mfrom\u001b[0m \u001b[0muplift\u001b[0m\u001b[1;33m.\u001b[0m\u001b[0mensemble\u001b[0m\u001b[1;33m.\u001b[0m\u001b[0mforest\u001b[0m \u001b[1;32mimport\u001b[0m \u001b[0mRandomForestRegressor\u001b[0m\u001b[1;33m\u001b[0m\u001b[1;33m\u001b[0m\u001b[0m\n\u001b[0;32m      3\u001b[0m \u001b[1;33m\u001b[0m\u001b[0m\n\u001b[0;32m      4\u001b[0m \u001b[1;32mfrom\u001b[0m \u001b[0muplift\u001b[0m\u001b[1;33m.\u001b[0m\u001b[0mensemble\u001b[0m\u001b[1;33m.\u001b[0m\u001b[0mforest\u001b[0m \u001b[1;32mimport\u001b[0m \u001b[0mExtraTreesClassifier\u001b[0m\u001b[1;33m\u001b[0m\u001b[1;33m\u001b[0m\u001b[0m\n\u001b[0;32m      5\u001b[0m \u001b[1;32mfrom\u001b[0m \u001b[0muplift\u001b[0m\u001b[1;33m.\u001b[0m\u001b[0mensemble\u001b[0m\u001b[1;33m.\u001b[0m\u001b[0mforest\u001b[0m \u001b[1;32mimport\u001b[0m \u001b[0mExtraTreesRegressor\u001b[0m\u001b[1;33m\u001b[0m\u001b[1;33m\u001b[0m\u001b[0m\n",
      "\u001b[1;32mD:\\WORK\\ML_in_trading\\UPLIFT_modeling_lib\\uplift\\ensemble\\forest.py\u001b[0m in \u001b[0;36m<module>\u001b[1;34m\u001b[0m\n\u001b[0;32m     16\u001b[0m \u001b[1;32mfrom\u001b[0m \u001b[1;33m.\u001b[0m\u001b[0mbase\u001b[0m \u001b[1;32mimport\u001b[0m \u001b[0mBaseEnsemble\u001b[0m\u001b[1;33m,\u001b[0m \u001b[0m_partition_estimators\u001b[0m\u001b[1;33m\u001b[0m\u001b[1;33m\u001b[0m\u001b[0m\n\u001b[0;32m     17\u001b[0m \u001b[1;33m\u001b[0m\u001b[0m\n\u001b[1;32m---> 18\u001b[1;33m \u001b[1;32mfrom\u001b[0m \u001b[1;33m.\u001b[0m\u001b[1;33m.\u001b[0m\u001b[0mpreprocessing\u001b[0m \u001b[1;32mimport\u001b[0m \u001b[0mOneHotEncoder\u001b[0m\u001b[1;33m\u001b[0m\u001b[1;33m\u001b[0m\u001b[0m\n\u001b[0m\u001b[0;32m     19\u001b[0m \u001b[1;33m\u001b[0m\u001b[0m\n\u001b[0;32m     20\u001b[0m \u001b[1;32mfrom\u001b[0m \u001b[0mjoblib\u001b[0m \u001b[1;32mimport\u001b[0m \u001b[0mParallel\u001b[0m\u001b[1;33m,\u001b[0m \u001b[0mdelayed\u001b[0m\u001b[1;33m\u001b[0m\u001b[1;33m\u001b[0m\u001b[0m\n",
      "\u001b[1;32mD:\\WORK\\ML_in_trading\\UPLIFT_modeling_lib\\uplift\\preprocessing\\__init__.py\u001b[0m in \u001b[0;36m<module>\u001b[1;34m\u001b[0m\n\u001b[1;32m----> 1\u001b[1;33m \u001b[1;32mfrom\u001b[0m \u001b[1;33m.\u001b[0m\u001b[0mdata\u001b[0m \u001b[1;32mimport\u001b[0m \u001b[0mOneHotEncoder\u001b[0m\u001b[1;33m\u001b[0m\u001b[1;33m\u001b[0m\u001b[0m\n\u001b[0m\u001b[0;32m      2\u001b[0m \u001b[1;32mfrom\u001b[0m \u001b[1;33m.\u001b[0m\u001b[0mlabel\u001b[0m \u001b[1;32mimport\u001b[0m \u001b[0mLabelEncoder\u001b[0m\u001b[1;33m\u001b[0m\u001b[1;33m\u001b[0m\u001b[0m\n",
      "\u001b[1;32mD:\\WORK\\ML_in_trading\\UPLIFT_modeling_lib\\uplift\\preprocessing\\data.py\u001b[0m in \u001b[0;36m<module>\u001b[1;34m\u001b[0m\n\u001b[0;32m      7\u001b[0m \u001b[1;32mfrom\u001b[0m \u001b[0muplift\u001b[0m\u001b[1;33m.\u001b[0m\u001b[0mbase\u001b[0m \u001b[1;32mimport\u001b[0m \u001b[0mBaseEstimator\u001b[0m\u001b[1;33m\u001b[0m\u001b[1;33m\u001b[0m\u001b[0m\n\u001b[0;32m      8\u001b[0m \u001b[1;32mfrom\u001b[0m \u001b[0muplift\u001b[0m\u001b[1;33m.\u001b[0m\u001b[0mbase\u001b[0m \u001b[1;32mimport\u001b[0m \u001b[0mTransformerMixin\u001b[0m\u001b[1;33m\u001b[0m\u001b[1;33m\u001b[0m\u001b[0m\n\u001b[1;32m----> 9\u001b[1;33m \u001b[1;32mfrom\u001b[0m \u001b[0muplift\u001b[0m\u001b[1;33m.\u001b[0m\u001b[0mvalidation\u001b[0m\u001b[1;33m.\u001b[0m\u001b[0mcheck\u001b[0m \u001b[1;32mimport\u001b[0m \u001b[0mcheck_array\u001b[0m\u001b[1;33m\u001b[0m\u001b[1;33m\u001b[0m\u001b[0m\n\u001b[0m\u001b[0;32m     10\u001b[0m \u001b[1;33m\u001b[0m\u001b[0m\n\u001b[0;32m     11\u001b[0m \u001b[0mFLOAT_DTYPES\u001b[0m \u001b[1;33m=\u001b[0m \u001b[1;33m(\u001b[0m\u001b[0mnp\u001b[0m\u001b[1;33m.\u001b[0m\u001b[0mfloat64\u001b[0m\u001b[1;33m,\u001b[0m \u001b[0mnp\u001b[0m\u001b[1;33m.\u001b[0m\u001b[0mfloat32\u001b[0m\u001b[1;33m,\u001b[0m \u001b[0mnp\u001b[0m\u001b[1;33m.\u001b[0m\u001b[0mfloat16\u001b[0m\u001b[1;33m)\u001b[0m\u001b[1;33m\u001b[0m\u001b[1;33m\u001b[0m\u001b[0m\n",
      "\u001b[1;31mModuleNotFoundError\u001b[0m: No module named 'uplift.validation'"
     ]
    }
   ],
   "source": [
    "from uplift.ensemble import RandomForestClassifier\n",
    "from sklearn.ensemble import GradientBoostingClassifier\n",
    "# from uplift.datasets import make_radcliffe_surry\n",
    "from uplift.metrics import qini_q, uplift_curve, null_uplift_curve, optimal_uplift_curve\n",
    "from uplift.metrics import qini_curve\n",
    "from matplotlib.pyplot import plot\n",
    "import matplotlib.pyplot as plt\n",
    "import numpy as np\n",
    "import pandas as pd\n",
    "import datetime\n",
    "\n",
    "from sklearn.base import clone\n",
    "from sklearn.model_selection import train_test_split\n",
    "\n",
    "import warnings\n",
    "import numpy as np\n",
    "import pandas as pd\n",
    "from sklearn.base import BaseEstimator\n",
    "from sklearn.utils.validation import check_consistent_length\n",
    "from sklearn.utils.multiclass import type_of_target\n",
    "from sklearn.model_selection import StratifiedKFold\n",
    "from sklearn.metrics import log_loss\n",
    "from catboost import CatBoostClassifier\n",
    "\n",
    "from datetime import date, datetime\n",
    "import matplotlib.pyplot as plt\n",
    "import seaborn as sns\n",
    "\n"
   ]
  },
  {
   "cell_type": "markdown",
   "metadata": {},
   "source": [
    "# Auxialiary methods for Uplift"
   ]
  },
  {
   "cell_type": "code",
   "execution_count": 2,
   "metadata": {},
   "outputs": [],
   "source": [
    "def uplift_fit_predict(model, X_train, treatment_train, target_train, X_test):\n",
    "    #methods for two independent models\n",
    "    X_treatment, y_treatment = X_train[treatment_train == 1, :], target_train[treatment_train == 1]\n",
    "    X_control, y_control = X_train[treatment_train == 0, :], target_train[treatment_train == 0]\n",
    "    model_treatment = clone(model).fit(X_treatment, y_treatment)\n",
    "    model_control = clone(model).fit(X_control, y_control)\n",
    "    predict_treatment = model_treatment.predict_proba(X_test)[:, 1]\n",
    "    predict_control = model_control.predict_proba(X_test)[:, 1]\n",
    "    predict_uplift = predict_treatment - predict_control\n",
    "    return predict_uplift\n",
    "\n",
    "\n",
    "def uplift_score(prediction, treatment, target, rate=0.3):\n",
    "    \n",
    "    order = np.argsort(-prediction)\n",
    "    treatment_n = int((treatment == 1).sum() * rate)\n",
    "    treatment_p = target[order][treatment[order] == 1][:treatment_n].mean()\n",
    "    control_n = int((treatment == 0).sum() * rate)\n",
    "    control_p = target[order][treatment[order] == 0][:control_n].mean()\n",
    "    score = treatment_p - control_p\n",
    "    return score\n",
    "\n",
    "def control_fit_predict(model, X_train, treatment_train, target_train, X_test):\n",
    "    #methods for two independent models\n",
    "    \n",
    "    X_control, y_control = X_train[treatment_train == 0, :], target_train[treatment_train == 0]\n",
    "   \n",
    "    model_control = clone(model).fit(X_control, y_control)\n",
    "    predict_treatment = model_treatment.predict_proba(X_test)[:, 1]\n",
    "    predict_control = model_control.predict_proba(X_test)[:, 1]\n",
    "    predict_uplift = predict_treatment - predict_control\n",
    "    return predict_uplift"
   ]
  },
  {
   "cell_type": "code",
   "execution_count": 6,
   "metadata": {},
   "outputs": [],
   "source": [
    "class ClassTransformation(BaseEstimator):\n",
    "    def __init__(self, estimator):\n",
    "        self.estimator = estimator\n",
    "        self._type_of_target = None\n",
    "    def fit(self, X, y, treatment, estimator_fit_params=None):\n",
    "        check_consistent_length(X, y, treatment)\n",
    "        self._type_of_target = type_of_target(y)\n",
    "\n",
    "        if self._type_of_target != 'binary':\n",
    "\n",
    "            raise ValueError(\"This approach is only suitable for binary classification problem\")\n",
    "\n",
    "    \n",
    "\n",
    "        _, treatment_counts = np.unique(treatment, return_counts=True)\n",
    "\n",
    "        if treatment_counts[0] != treatment_counts[1]:\n",
    "            #так как метод использует предлоположение о равенстве 2-х групп\n",
    "            warnings.warn(\n",
    "\n",
    "                \"Current sample size is unbalanced.\",\n",
    "\n",
    "                category = UserWarning,\n",
    "\n",
    "                stacklevel = 2\n",
    "\n",
    "            )\n",
    "\n",
    "\n",
    "\n",
    "        y_mod = (np.array(y) == np.array(treatment)).astype(int)\n",
    "\n",
    "\n",
    "\n",
    "        if estimator_fit_params is None:\n",
    "\n",
    "            estimator_fit_params = {}\n",
    "\n",
    "        self.estimator.fit(X, y_mod, **estimator_fit_params)\n",
    "\n",
    "        return self\n",
    "\n",
    "\n",
    "\n",
    "    def predict(self, X):\n",
    "\n",
    "        uplift = 2 * self.estimator.predict_proba(X)[:, 1] - 1\n",
    "\n",
    "        return uplift"
   ]
  },
  {
   "cell_type": "markdown",
   "metadata": {},
   "source": [
    "# Purchase dataset"
   ]
  },
  {
   "cell_type": "code",
   "execution_count": 2,
   "metadata": {},
   "outputs": [],
   "source": [
    "def calc_purchase_hours(df_clients, df_purch):\n",
    "\n",
    "    for i in range(24):\n",
    "        df_dayfiltered = df_purch[df_purch['purch_hour'] == i][['client_id', 'transaction_id', 'purch_hour']]\n",
    "        ds_purch_hour = df_dayfiltered.groupby(['client_id', 'transaction_id']).last()\n",
    "        ds_counters = ds_purch_hour.groupby('client_id')['purch_hour'].count()\n",
    "        ds_counters.name = 'purch_hour_{}'.format(i)\n",
    "        df_clients = pd.merge(df_clients, ds_counters, how='left', on='client_id')\n",
    "\n",
    "    return df_clients\n",
    "\n",
    "def calc_purchase_days(df_clients, df_purch):\n",
    "\n",
    "    for i in range(7):\n",
    "        df_dayfiltered = df_purch[df_purch['purch_weekday'] == i][['client_id', 'transaction_id', \n",
    "                                                                   'purch_weekday', 'trn_sum_from_iss']]\n",
    "        ds_purch_dow = df_dayfiltered.groupby(['client_id', 'transaction_id']).last()\n",
    "        ds_counters = ds_purch_dow.groupby('client_id')['purch_weekday'].count()\n",
    "        # DOW = day of week\n",
    "        ds_counters.name = 'purch_dow_{}'.format(i)\n",
    "        df_clients = pd.merge(df_clients, ds_counters, how='left', on='client_id')\n",
    "\n",
    "        ds_purch_dow = df_dayfiltered.groupby('client_id')['trn_sum_from_iss'].sum()\n",
    "        ds_counters.name = 'purch_sum_dow_{}'.format(i)\n",
    "        df_clients = pd.merge(df_clients, ds_counters, how='left', on='client_id')\n",
    "        \n",
    "    return df_clients\n",
    "\n",
    "def fix_age(df_clients, real_fix=True):\n",
    "\n",
    "    # create a copy of age column. Modify the copy for now\n",
    "    df_clients['age2'] = df_clients['age']\n",
    "    \n",
    "    age_index = (df_clients['age'] < -900) & (df_clients['age'] > -1000)\n",
    "    df_clients.loc[age_index, 'age2'] = -1 * df_clients.loc[age_index, 'age'] + 1019\n",
    "    df_clients.loc[age_index, 'age_antinorm'] = 1\n",
    "\n",
    "    age_index = (df_clients['age'] > 900) & (df_clients['age'] < 1000)\n",
    "    df_clients.loc[age_index, 'age2'] = 1019 - df_clients.loc[age_index, 'age']\n",
    "    df_clients.loc[age_index, 'age_antinorm'] = 2\n",
    "\n",
    "    age_index = (df_clients['age'] > 1900) & (df_clients['age'] < 2000)\n",
    "    df_clients.loc[age_index, 'age2'] = 2019 - df_clients.loc[age_index, 'age']\n",
    "    df_clients.loc[age_index, 'age_antinorm'] = 3\n",
    "    \n",
    "    age_index = (df_clients['age'] > 120) & (df_clients['age'] < 200)\n",
    "    df_clients.loc[age_index, 'age2'] = df_clients.loc[age_index, 'age'] - 100\n",
    "    df_clients.loc[age_index, 'age_antinorm'] = 4\n",
    "\n",
    "    age_index = (df_clients['age'] > 1800) & (df_clients['age'] < 1900)\n",
    "    df_clients.loc[age_index, 'age2'] = df_clients.loc[age_index, 'age'] - 1800\n",
    "    df_clients.loc[age_index, 'age_antinorm'] = 5\n",
    "\n",
    "    # the following types of errors are impossible to recover\n",
    "    # so we set the age to mean of all clients (46), slightly randomizing it (std=16)\n",
    "    age_index = (df_clients['age'] > 120)\n",
    "    df_clients.loc[age_index, 'age2'] = normalvariate(46, 16)\n",
    "    df_clients.loc[age_index, 'age_antinorm'] = 6\n",
    "    \n",
    "    age_index = (df_clients['age'] > 0) & (df_clients['age'] < 12)\n",
    "    df_clients.loc[age_index, 'age2'] = normalvariate(46, 16)\n",
    "    df_clients.loc[age_index, 'age_antinorm'] = 7\n",
    "    \n",
    "    age_index = (df_clients['age'] == 0)\n",
    "    df_clients.loc[age_index, 'age2'] = normalvariate(46, 16)\n",
    "    df_clients.loc[age_index, 'age_antinorm'] = 8\n",
    "    \n",
    "    age_index = (df_clients['age'] < 0)\n",
    "    df_clients.loc[age_index, 'age2'] = normalvariate(46, 16)\n",
    "    df_clients.loc[age_index, 'age_antinorm'] = 9\n",
    "    \n",
    "    # use the modified copy \n",
    "    if (real_fix):\n",
    "        df_clients['age'] = df_clients['age2']\n",
    "    \n",
    "    df_clients.drop('age2', axis=1, inplace=True)\n",
    "    \n",
    "    return df_clients\n",
    "\n",
    "def calc_purchases_around_dates(df_clients, df):\n",
    "    \n",
    "    df['redeem_ord'] = df['first_redeem_date'].apply(lambda x: date.toordinal(x))\n",
    "    df['purch_ord'] = df['transaction_datetime'].apply(lambda x: date.toordinal(x))\n",
    "    df['ord_diff'] = df['redeem_ord'] - df['purch_ord']\n",
    "\n",
    "    df_before = df[df['ord_diff'] > 0][['client_id', 'transaction_id', 'purchase_sum']]\n",
    "    df_after = df[df['ord_diff'] <= 0][['client_id', 'transaction_id', 'purchase_sum']]\n",
    "    \n",
    "    df_before_all = df_before.groupby(['client_id', 'transaction_id']).last()\n",
    "    df_after_all = df_after.groupby(['client_id', 'transaction_id']).last()\n",
    "\n",
    "    ds_before_sum = df_before_all.groupby('client_id')['purchase_sum'].sum()\n",
    "    ds_after_sum = df_after_all.groupby('client_id')['purchase_sum'].sum()\n",
    "\n",
    "    ds_before_counters = df_before_all.groupby('client_id')['purchase_sum'].count()    \n",
    "    ds_after_counters = df_after_all.groupby('client_id')['purchase_sum'].count()    \n",
    "\n",
    "    ds_before_sum.name = 'before_redeem_sum'\n",
    "    ds_after_sum.name = 'after_redeem_sum'\n",
    "\n",
    "    ds_before_counters.name = 'before_redeem_counter'\n",
    "    ds_after_counters.name = 'after_redeem_counter'\n",
    "\n",
    "    df_clients = pd.merge(df_clients, ds_before_sum, how='left', on='client_id')    \n",
    "    df_clients = pd.merge(df_clients, ds_after_sum, how='left', on='client_id')    \n",
    "\n",
    "    df_clients = pd.merge(df_clients, ds_before_counters, how='left', on='client_id')    \n",
    "    df_clients = pd.merge(df_clients, ds_after_counters, how='left', on='client_id')    \n",
    "    \n",
    "    return df_clients\n",
    "\n",
    "def calc_special_purchases(df_clients, df_purch_det):\n",
    "\n",
    "    df_filtered = df_purch_det[df_purch_det['is_alcohol'] == 1][['client_id', 'trn_sum_from_iss']]\n",
    "    ds_alco = df_filtered.groupby('client_id')['trn_sum_from_iss'].sum()\n",
    "    ds_alco.name = 'sum_alco'\n",
    "    df_clients = pd.merge(df_clients, ds_alco, how='left', on='client_id')    \n",
    "\n",
    "    df_filtered = df_purch_det[df_purch_det['is_own_trademark'] == 1][['client_id', 'trn_sum_from_iss']]\n",
    "    ds_marked = df_filtered.groupby('client_id')['trn_sum_from_iss'].sum()\n",
    "    ds_marked.name = 'sum_mark'\n",
    "    df_clients = pd.merge(df_clients, ds_marked, how='left', on='client_id')    \n",
    "    \n",
    "    for threshold in sum_filter:\n",
    "        df_filtered = df_purch_det[df_purch_det['trn_sum_from_iss'] > threshold][['client_id', 'trn_sum_from_iss']]\n",
    "        ds_threshold = df_filtered.groupby('client_id')['trn_sum_from_iss'].count()\n",
    "        ds_threshold.name = 'over_{}'.format(threshold)\n",
    "        df_clients = pd.merge(df_clients, ds_threshold, how='left', on='client_id')    \n",
    "\n",
    "    df_purch_det['delta'] = df_purch_det.groupby('client_id')['purch_day'].transform(lambda x: x.max()-x.min()+1)\n",
    "    df_delta = df_purchase_detailed.groupby('client_id').last()['delta']\n",
    "    df_clients = pd.merge(df_clients, df_delta, how='left', on='client_id')\n",
    "    \n",
    "    return df_clients"
   ]
  },
  {
   "cell_type": "code",
   "execution_count": 3,
   "metadata": {},
   "outputs": [],
   "source": [
    "def prepare_dataset(df_set, df_clients, features):\n",
    "\n",
    "    # df_set is a test or train dataframe\n",
    "    df = pd.concat([df_set, df_clients, features], axis=1, sort=True)\n",
    "    # remove extra rows that were created during concat\n",
    "    # those are the rows that were missing from df_set, but were present in df_clients\n",
    "    df = df[~df['target'].isnull()].copy()\n",
    "#    df['first_issue_date_weekday'] = df['first_issue_date'].dt.weekday\n",
    "#    df['first_redeem_date_weekday'] = df['first_redeem_date'].dt.weekday\n",
    "#    df['first_issue_date_hour'] = df['first_issue_date'].dt.hour\n",
    "#    df['first_redeem_date_hour'] = df['first_redeem_date'].dt.hour\n",
    "\n",
    "    # we need more redeem date features\n",
    "#    df['redeem_date_mo'] = df['first_redeem_date'].dt.month  \n",
    "#    df['redeem_date_week'] = df['first_redeem_date'].dt.week\n",
    "#    df['redeem_date_doy'] = df['first_redeem_date'].dt.dayofyear\n",
    "#    df['redeem_date_q'] = df['first_redeem_date'].dt.quarter\n",
    "#    df['redeem_date_ms'] = df['first_redeem_date'].dt.is_month_start\n",
    "#    df['redeem_date_me'] = df['first_redeem_date'].dt.is_month_end\n",
    "    \n",
    "    # convert dates to numbers\n",
    "    df['first_issue_date'] = df['first_issue_date'].apply(lambda x: date.toordinal(x))\n",
    "    df['first_redeem_date'] = df['first_redeem_date'].apply(lambda x: date.toordinal(x))\n",
    "    df['diff'] = df['first_redeem_date'] - df['first_issue_date']\n",
    "    \n",
    "    # convert gender to one-hot encoding\n",
    "    # it is recommended to drop the first column, but it's not that important for boosting,\n",
    "    # and I decided to leave all of them to see them in the feature importance list\n",
    "    df = pd.get_dummies(df, prefix='gender', columns=['gender'])\n",
    "\n",
    "    df['alco_ratio'] = df['sum_alco'] / df['purchase_sum_sum_all']\n",
    "    df['mark_ratio'] = df['sum_mark'] / df['purchase_sum_sum_all']\n",
    "    # all transactions happened before 2019-03-19\n",
    "    cutoff_dt = date.toordinal(date(2019, 3, 19))\n",
    "    df['issue_diff'] = cutoff_dt - df['first_issue_date']\n",
    "    df['redeem_diff'] = cutoff_dt - df['first_redeem_date']\n",
    "\n",
    "    for threshold in sum_filter:\n",
    "        df['over_{}_ratio'.format(threshold)] = df['over_{}'.format(threshold)] / df['total_trans_count']\n",
    "\n",
    "    for i in range(7):\n",
    "        df['purch_dow_ratio_{}'.format(i)] = df['purch_dow_{}'.format(i)] / df['total_trans_count']\n",
    "        df['purch_sum_dow_ratio_{}'.format(i)] = df['purch_sum_dow_{}'.format(i)] / df['purchase_sum_sum_all']\n",
    "\n",
    "    for i in range(24):\n",
    "        df['purch_hour_ratio_{}'.format(i)] = df['purch_hour_{}'.format(i)] / df['total_trans_count']\n",
    "\n",
    "    df['before_redeem_sum_ratio'] = df['before_redeem_sum'] / df['purchase_sum_sum_all']\n",
    "    df['after_redeem_sum_ratio'] = df['after_redeem_sum'] / df['purchase_sum_sum_all']\n",
    "    \n",
    "    df['before_redeem_counter_ratio'] = df['before_redeem_counter'] / df['total_trans_count']\n",
    "    df['after_redeem_counter_ratio'] = df['after_redeem_counter'] / df['total_trans_count']\n",
    "\n",
    "    df['avg_spent_perday'] = df['purchase_sum_sum_all'] / df['delta']\n",
    "    df['sum_alco_perday'] = df['sum_alco'] / df['delta']\n",
    "\n",
    "    df['after_redeem_sum_perday'] = df['after_redeem_sum'] / df['delta']\n",
    "    df['epoints_spent_perday'] = df['express_points_spent_sum_all'] / df['delta']\n",
    "    df['rpoints_spent_perday'] = df['regular_points_spent_sum_all'] / df['delta']\n",
    "    df['epoints_recd_perday'] = df['express_points_received_sum_all'] / df['delta']\n",
    "    df['rpoints_recd_perday'] = df['regular_points_received_sum_all'] / df['delta']\n",
    "\n",
    "    df['rpoints_acced_last_month'] = df['regular_points_received_sum_last_month'] - df['regular_points_spent_sum_last_month']\n",
    "    df['epoints_acced_last_month'] = df['express_points_received_sum_last_month'] - df['express_points_spent_sum_last_month']    \n",
    "    \n",
    "    return df"
   ]
  },
  {
   "cell_type": "code",
   "execution_count": 30,
   "metadata": {},
   "outputs": [],
   "source": [
    "# thresholds to calculate purchase of expensive products\n",
    "sum_filter = [100, 250, 500, 1000, 2000]\n",
    "\n",
    "df_clients = pd.read_csv('data/clients.csv', index_col='client_id',\n",
    "                         parse_dates=['first_issue_date','first_redeem_date'])\n",
    "#df_clients['age_antinorm'] = 0\n",
    "#df_clients = fix_age(df_clients)\n",
    "# fill empty 1st redeem date with future date\n",
    "\n",
    "df_clients['first_redeem_date'] = df_clients['first_redeem_date'].fillna(datetime(2019, 3, 19, 0, 0))\n",
    "\n",
    "df_train = pd.read_csv('data/uplift_train.csv', index_col='client_id')\n",
    "df_test = pd.read_csv('data/uplift_test.csv', index_col='client_id')\n",
    "df_products = pd.read_csv('data/products.csv', index_col='product_id')\n",
    "df_purchases = pd.read_csv('data/purchases.csv',parse_dates=['transaction_datetime'],nrows = 100000)\n",
    "df_purchases['date'] = df_purchases['transaction_datetime'].dt.date\n",
    "df_purchases['purch_weekday'] = df_purchases['transaction_datetime'].dt.weekday\n",
    "df_purchases['purch_hour'] = df_purchases['transaction_datetime'].dt.hour\n",
    "df_purchases['purch_day'] = df_purchases['transaction_datetime'].apply(lambda x: date.toordinal(x))\n",
    "\n",
    "# merge products to purchases, and then to clients\n",
    "df_purchase_detailed = pd.merge(df_purchases, df_products, how='left', on='product_id')\n",
    "df_purchase_detailed = pd.merge(df_purchase_detailed, df_clients, how='left', on='client_id')\n",
    "\n",
    "df_clients = calc_purchases_around_dates(df_clients, df_purchase_detailed)\n",
    "df_clients = calc_purchase_days(df_clients, df_purchases)\n",
    "df_clients = calc_purchase_hours(df_clients, df_purchases)\n",
    "df_clients = calc_special_purchases(df_clients, df_purchase_detailed)\n",
    "df_clients = df_clients.fillna(value=0)\n",
    "\n",
    "last_cols = ['regular_points_received', 'express_points_received','regular_points_spent', \n",
    "             'express_points_spent', 'purchase_sum','store_id']\n",
    "all_hist = df_purchases.groupby(['client_id','transaction_id'])[last_cols].last()\n",
    "last_month = df_purchases[df_purchases['transaction_datetime'] > '2019-02-18'].groupby(['client_id', 'transaction_id'])[last_cols].last()"
   ]
  },
  {
   "cell_type": "code",
   "execution_count": 31,
   "metadata": {},
   "outputs": [],
   "source": [
    "features =  pd.concat([all_hist.groupby('client_id')['purchase_sum'].count(),\n",
    "                       last_month.groupby('client_id')['purchase_sum'].count(),\n",
    "                       all_hist.groupby('client_id')['purchase_sum'].mean(),\n",
    "                       all_hist.groupby('client_id')['purchase_sum'].std(),\n",
    "                       all_hist.groupby('client_id')['express_points_spent'].mean(),\n",
    "                       all_hist.groupby('client_id')['express_points_spent'].std(),\n",
    "                       all_hist.groupby('client_id')['express_points_received'].mean(),\n",
    "                       all_hist.groupby('client_id')['express_points_received'].std(),\n",
    "                       all_hist.groupby('client_id')['regular_points_spent'].mean(),\n",
    "                       all_hist.groupby('client_id')['regular_points_spent'].std(),\n",
    "                       all_hist.groupby('client_id')['regular_points_received'].mean(),\n",
    "                       all_hist.groupby('client_id')['regular_points_received'].std(),\n",
    "                       all_hist.groupby('client_id').sum(),\n",
    "                       all_hist.groupby('client_id')[['store_id']].nunique(),\n",
    "                       last_month.groupby('client_id').sum(),\n",
    "                       last_month.groupby('client_id')[['store_id']].nunique(),\n",
    "                      ],axis = 1, sort = True)\n",
    "\n",
    "features.columns = ['total_trans_count','last_month_trans_count', \n",
    "                    'mean_purchase', 'std_purchase', 'mean_epoints_spent', 'std_epoints_spent',\n",
    "                    'mean_epoints_recd', 'std_epoints_recd', 'mean_rpoints_spent', 'std_rpoints_spent',\n",
    "                    'mean_rpoints_recd', 'std_rpoints_recd'] + \\\n",
    "                    list(c+\"_sum_all\" for c in last_cols) + list(c+\"_sum_last_month\" for c in last_cols)"
   ]
  },
  {
   "cell_type": "code",
   "execution_count": 51,
   "metadata": {},
   "outputs": [],
   "source": [
    "\n",
    "train_X = prepare_dataset(df_train, df_clients, features).fillna(0)\n",
    "# need to create target for merge during processing\n",
    "df_test['target'] = 1\n",
    "test_X = prepare_dataset(df_test, df_clients, features).fillna(0)\n",
    "# remove target from test, it's not needed anymore\n",
    "Y_test = test_X['target'].values\n",
    "\n",
    "test_X.drop('target', axis=1, inplace=True)\n",
    "\n"
   ]
  },
  {
   "cell_type": "code",
   "execution_count": 2,
   "metadata": {},
   "outputs": [],
   "source": [
    "def plot_qini_curve(Y_test_visit, uplift_pred, treatment_test, name):\n",
    "    x , y = qini_curve(Y_test_visit, uplift_pred, treatment_test)\n",
    "    \n",
    "    point1 = [0,N_ROWS//2]\n",
    "    point2 = [0,y[len(y) - 1]]\n",
    "\n",
    "    plt.plot(point1, point2, marker='o')\n",
    "    plot(x,y)\n",
    "    \n",
    "    plt.xlabel('treatment number')\n",
    "    plt.ylabel('upluft-based reactions')\n",
    "    plt.title(name)\n",
    "    plt.grid(True)\n",
    "    plt.axis('off') \n",
    "    plt.show()\n",
    "    plt.close()\n",
    "    \n",
    "def plot_uplift_curve(Y_test_visit, uplift_pred, treatment_test, name):\n",
    "    x , y = uplift_curve(Y_test_visit, uplift_pred, treatment_test)\n",
    "    \n",
    "    point1 = [0,N_ROWS//2]\n",
    "    point2 = [0,y[len(y) - 1]]\n",
    "\n",
    "    plt.plot(point1, point2, marker='o')\n",
    "    plot(x,y)\n",
    "    \n",
    "    plt.xlabel('treatment number')\n",
    "    plt.ylabel('upluft-based reactions')\n",
    "    plt.title(name)\n",
    "    plt.axis('off')\n",
    "    plt.grid(True)\n",
    "    plt.show()\n",
    "    plt.close()\n",
    "    \n",
    "def plot_null_uplift_curve(Y_test_visit, treatment_test, name):\n",
    "    x, y = null_uplift_curve(Y_test_visit, treatment_test)\n",
    "    \n",
    "    point1 = [0,N_ROWS//2]\n",
    "    point2 = [0,y[len(y) - 1]]\n",
    "\n",
    "    plt.plot(point1, point2, marker='o')\n",
    "    plot(x,y)\n",
    "    plt.axis('off') \n",
    "    plt.xlabel('treatment number')\n",
    "    plt.ylabel('upluft-based reactions')\n",
    "    plt.title(name)\n",
    "    plt.show()\n",
    "    plt.close()\n",
    "    \n",
    "def plot_optimal_uplift_curve(Y_test_visit, treatment_test, name):\n",
    "    \n",
    "    x, y = optimal_uplift_curve(Y_test_visit, treatment_test)\n",
    "    print(x,y)\n",
    "    point1 = [0,N_ROWS//2]\n",
    "    point2 = [0,y[len(y) - 1]]\n",
    "\n",
    "    plt.plot(point1, point2, marker='o')\n",
    "    plot(x,y)\n",
    "    \n",
    "    \n",
    "    plt.xlabel('treatment number')\n",
    "    plt.ylabel('upluft-based reactions')\n",
    "    plt.axis('off') \n",
    "    #plt.title(name)\n",
    "    plt.show()\n",
    "    plt.close()\n",
    "    \n",
    "def plot_all_uplift_curves(Y_test_visit, treatment_test, uplift_pred, name):\n",
    "    x1, y1 = null_uplift_curve(Y_test_visit, treatment_test)\n",
    "    \n",
    "#     point1 = [0,N_ROWS//2]\n",
    "#     point2 = [0,y[len(y) - 1]]\n",
    "\n",
    "#     plt.plot(point1, point2, marker='o')\n",
    "    \n",
    "    \n",
    "    x2, y2 = optimal_uplift_curve(Y_test_visit, treatment_test,negative_effects = False)\n",
    "    #fig, ax = plt.subplots()\n",
    "    \n",
    "    \n",
    "    x3 , y3 = uplift_curve(Y_test_visit, uplift_pred, treatment_test)\n",
    "    x5 , y5 = qini_curve(Y_test_visit, uplift_pred, treatment_test)\n",
    "\n",
    "    x4,y4 = optimal_uplift_curve(Y_test_visit,treatment_test,negative_effects = True)\n",
    "    k = int(y1[1])/(N_ROWS//2)\n",
    "    \n",
    "    plot(x1,y1,x2,y2,x5,y5)\n",
    "#     temp = []\n",
    "#     for j in range(len(x3)):\n",
    "#         temp.append(x3[j])\n",
    "        \n",
    "#     for i in range(len(x3)):\n",
    "#          x3[i] *= k\n",
    "   \n",
    "#     plt.fill_between(temp, x3, y3, facecolor = 'red',edgecolor = 'black')  \n",
    "    \n",
    "#     temp = []\n",
    "#     for j in range(len(x2)):\n",
    "#         temp.append(x2[j])\n",
    "#     for i in range(len(x2)):\n",
    "#         x2[i]*=k\n",
    "#     plt.fill_between(temp,x2,y2, facecolor = 'blue',edgecolor = 'black')\n",
    "    \n",
    "    plt.xlabel('treatment number')\n",
    "    plt.ylabel('upluft-based reactions')\n",
    "    #plt.axis('off') \n",
    "    plt.grid(True)\n",
    "    plt.title(name)\n",
    "    plt.show()\n",
    "    plt.close()\n"
   ]
  },
  {
   "cell_type": "code",
   "execution_count": 45,
   "metadata": {},
   "outputs": [
    {
     "data": {
      "text/plain": [
       "RandomForestClassifier(bootstrap=True, class_weight=None,\n",
       "            criterion='uplift_RadcliffeSurry', max_depth=None,\n",
       "            max_features='auto', max_leaf_nodes=None, min_samples_leaf=5,\n",
       "            min_samples_split=2, min_weight_fraction_leaf=0.0,\n",
       "            n_estimators=10, n_jobs=1, oob_score=False, random_state=None,\n",
       "            verbose=0, warm_start=False)"
      ]
     },
     "execution_count": 45,
     "metadata": {},
     "output_type": "execute_result"
    }
   ],
   "source": [
    "treatment_train = train_X['treatment_flg'].fillna(0).values\n",
    "Y_train = train_X['target'].fillna(0).values\n",
    "\n",
    "train_X.drop('treatment_flg',axis = 1,inplace = True)\n",
    "rfc1 = RandomForestClassifier(n_estimators = 10, min_samples_leaf = 5, criterion='uplift_RadcliffeSurry')\n",
    "rfc1.fit(train_X, Y_train, treatment_train)"
   ]
  },
  {
   "cell_type": "code",
   "execution_count": 50,
   "metadata": {},
   "outputs": [
    {
     "ename": "IndexError",
     "evalue": "list index out of range",
     "output_type": "error",
     "traceback": [
      "\u001b[1;31m---------------------------------------------------------------------------\u001b[0m",
      "\u001b[1;31mIndexError\u001b[0m                                Traceback (most recent call last)",
      "\u001b[1;32m<ipython-input-50-759fda94e53b>\u001b[0m in \u001b[0;36m<module>\u001b[1;34m\u001b[0m\n\u001b[0;32m      1\u001b[0m \u001b[0muplift_pred\u001b[0m \u001b[1;33m=\u001b[0m \u001b[0mrfc1\u001b[0m\u001b[1;33m.\u001b[0m\u001b[0mpredict_uplift\u001b[0m\u001b[1;33m(\u001b[0m\u001b[0mtest_X\u001b[0m\u001b[1;33m)\u001b[0m\u001b[1;33m\u001b[0m\u001b[1;33m\u001b[0m\u001b[0m\n\u001b[0;32m      2\u001b[0m \u001b[1;33m\u001b[0m\u001b[0m\n\u001b[1;32m----> 3\u001b[1;33m \u001b[0mplot_all_uplift_curves\u001b[0m\u001b[1;33m(\u001b[0m\u001b[0mtest_X\u001b[0m\u001b[1;33m[\u001b[0m\u001b[1;34m'target'\u001b[0m\u001b[1;33m]\u001b[0m\u001b[1;33m.\u001b[0m\u001b[0mvalues\u001b[0m\u001b[1;33m,\u001b[0m \u001b[0mtreatment_train\u001b[0m\u001b[1;33m,\u001b[0m \u001b[0muplift_pred\u001b[0m\u001b[1;33m,\u001b[0m \u001b[1;34m\"uplift_Radcliffe_Surry_valid\"\u001b[0m\u001b[1;33m)\u001b[0m\u001b[1;33m\u001b[0m\u001b[1;33m\u001b[0m\u001b[0m\n\u001b[0m",
      "\u001b[1;32m<ipython-input-47-9c0a19134dcb>\u001b[0m in \u001b[0;36mplot_all_uplift_curves\u001b[1;34m(Y_test_visit, treatment_test, uplift_pred, name)\u001b[0m\n\u001b[0;32m     61\u001b[0m \u001b[1;33m\u001b[0m\u001b[0m\n\u001b[0;32m     62\u001b[0m \u001b[1;33m\u001b[0m\u001b[0m\n\u001b[1;32m---> 63\u001b[1;33m     \u001b[0mx3\u001b[0m \u001b[1;33m,\u001b[0m \u001b[0my3\u001b[0m \u001b[1;33m=\u001b[0m \u001b[0muplift_curve\u001b[0m\u001b[1;33m(\u001b[0m\u001b[0mY_test_visit\u001b[0m\u001b[1;33m,\u001b[0m \u001b[0muplift_pred\u001b[0m\u001b[1;33m,\u001b[0m \u001b[0mtreatment_test\u001b[0m\u001b[1;33m)\u001b[0m\u001b[1;33m\u001b[0m\u001b[1;33m\u001b[0m\u001b[0m\n\u001b[0m\u001b[0;32m     64\u001b[0m     \u001b[0mx4\u001b[0m\u001b[1;33m,\u001b[0m\u001b[0my4\u001b[0m \u001b[1;33m=\u001b[0m \u001b[0moptimal_uplift_curve\u001b[0m\u001b[1;33m(\u001b[0m\u001b[0mY_test_visit\u001b[0m\u001b[1;33m,\u001b[0m\u001b[0mtreatment_test\u001b[0m\u001b[1;33m,\u001b[0m\u001b[0mnegative_effects\u001b[0m \u001b[1;33m=\u001b[0m \u001b[1;32mTrue\u001b[0m\u001b[1;33m)\u001b[0m\u001b[1;33m\u001b[0m\u001b[1;33m\u001b[0m\u001b[0m\n\u001b[0;32m     65\u001b[0m     \u001b[0mk\u001b[0m \u001b[1;33m=\u001b[0m \u001b[0mint\u001b[0m\u001b[1;33m(\u001b[0m\u001b[0my1\u001b[0m\u001b[1;33m[\u001b[0m\u001b[1;36m1\u001b[0m\u001b[1;33m]\u001b[0m\u001b[1;33m)\u001b[0m\u001b[1;33m/\u001b[0m\u001b[1;33m(\u001b[0m\u001b[0mN_ROWS\u001b[0m\u001b[1;33m//\u001b[0m\u001b[1;36m2\u001b[0m\u001b[1;33m)\u001b[0m\u001b[1;33m\u001b[0m\u001b[1;33m\u001b[0m\u001b[0m\n",
      "\u001b[1;32mD:\\WORK\\ML_in_trading\\uplift-master\\uplift\\metrics\\ranking.py\u001b[0m in \u001b[0;36muplift_curve\u001b[1;34m(y_true, d_pred, group, n_nodes)\u001b[0m\n\u001b[0;32m     27\u001b[0m \u001b[1;33m\u001b[0m\u001b[0m\n\u001b[0;32m     28\u001b[0m     \u001b[0mxs\u001b[0m \u001b[1;33m=\u001b[0m \u001b[1;33m[\u001b[0m\u001b[0mint\u001b[0m\u001b[1;33m(\u001b[0m\u001b[0mi\u001b[0m\u001b[1;33m)\u001b[0m \u001b[1;32mfor\u001b[0m \u001b[0mi\u001b[0m \u001b[1;32min\u001b[0m \u001b[0mnp\u001b[0m\u001b[1;33m.\u001b[0m\u001b[0mlinspace\u001b[0m\u001b[1;33m(\u001b[0m\u001b[1;36m0\u001b[0m\u001b[1;33m,\u001b[0m \u001b[0mlen\u001b[0m\u001b[1;33m(\u001b[0m\u001b[0my_true\u001b[0m\u001b[1;33m)\u001b[0m\u001b[1;33m,\u001b[0m \u001b[0mn_nodes\u001b[0m\u001b[1;33m)\u001b[0m\u001b[1;33m]\u001b[0m\u001b[1;33m\u001b[0m\u001b[1;33m\u001b[0m\u001b[0m\n\u001b[1;32m---> 29\u001b[1;33m     \u001b[0mys\u001b[0m \u001b[1;33m=\u001b[0m \u001b[1;33m[\u001b[0m\u001b[0m_uplift\u001b[0m\u001b[1;33m(\u001b[0m\u001b[1;33m*\u001b[0m\u001b[0mcumulative_responses\u001b[0m\u001b[1;33m[\u001b[0m\u001b[0mx\u001b[0m\u001b[1;33m]\u001b[0m\u001b[1;33m)\u001b[0m \u001b[1;32mfor\u001b[0m \u001b[0mx\u001b[0m \u001b[1;32min\u001b[0m \u001b[0mxs\u001b[0m\u001b[1;33m]\u001b[0m\u001b[1;33m\u001b[0m\u001b[1;33m\u001b[0m\u001b[0m\n\u001b[0m\u001b[0;32m     30\u001b[0m \u001b[1;33m\u001b[0m\u001b[0m\n\u001b[0;32m     31\u001b[0m     \u001b[1;32mreturn\u001b[0m \u001b[0mxs\u001b[0m\u001b[1;33m,\u001b[0m \u001b[0mys\u001b[0m\u001b[1;33m\u001b[0m\u001b[1;33m\u001b[0m\u001b[0m\n",
      "\u001b[1;32mD:\\WORK\\ML_in_trading\\uplift-master\\uplift\\metrics\\ranking.py\u001b[0m in \u001b[0;36m<listcomp>\u001b[1;34m(.0)\u001b[0m\n\u001b[0;32m     27\u001b[0m \u001b[1;33m\u001b[0m\u001b[0m\n\u001b[0;32m     28\u001b[0m     \u001b[0mxs\u001b[0m \u001b[1;33m=\u001b[0m \u001b[1;33m[\u001b[0m\u001b[0mint\u001b[0m\u001b[1;33m(\u001b[0m\u001b[0mi\u001b[0m\u001b[1;33m)\u001b[0m \u001b[1;32mfor\u001b[0m \u001b[0mi\u001b[0m \u001b[1;32min\u001b[0m \u001b[0mnp\u001b[0m\u001b[1;33m.\u001b[0m\u001b[0mlinspace\u001b[0m\u001b[1;33m(\u001b[0m\u001b[1;36m0\u001b[0m\u001b[1;33m,\u001b[0m \u001b[0mlen\u001b[0m\u001b[1;33m(\u001b[0m\u001b[0my_true\u001b[0m\u001b[1;33m)\u001b[0m\u001b[1;33m,\u001b[0m \u001b[0mn_nodes\u001b[0m\u001b[1;33m)\u001b[0m\u001b[1;33m]\u001b[0m\u001b[1;33m\u001b[0m\u001b[1;33m\u001b[0m\u001b[0m\n\u001b[1;32m---> 29\u001b[1;33m     \u001b[0mys\u001b[0m \u001b[1;33m=\u001b[0m \u001b[1;33m[\u001b[0m\u001b[0m_uplift\u001b[0m\u001b[1;33m(\u001b[0m\u001b[1;33m*\u001b[0m\u001b[0mcumulative_responses\u001b[0m\u001b[1;33m[\u001b[0m\u001b[0mx\u001b[0m\u001b[1;33m]\u001b[0m\u001b[1;33m)\u001b[0m \u001b[1;32mfor\u001b[0m \u001b[0mx\u001b[0m \u001b[1;32min\u001b[0m \u001b[0mxs\u001b[0m\u001b[1;33m]\u001b[0m\u001b[1;33m\u001b[0m\u001b[1;33m\u001b[0m\u001b[0m\n\u001b[0m\u001b[0;32m     30\u001b[0m \u001b[1;33m\u001b[0m\u001b[0m\n\u001b[0;32m     31\u001b[0m     \u001b[1;32mreturn\u001b[0m \u001b[0mxs\u001b[0m\u001b[1;33m,\u001b[0m \u001b[0mys\u001b[0m\u001b[1;33m\u001b[0m\u001b[1;33m\u001b[0m\u001b[0m\n",
      "\u001b[1;31mIndexError\u001b[0m: list index out of range"
     ]
    }
   ],
   "source": [
    "uplift_pred = rfc1.predict_uplift(test_X)\n",
    "\n"
   ]
  },
  {
   "cell_type": "markdown",
   "metadata": {},
   "source": [
    "# Data extraction"
   ]
  },
  {
   "cell_type": "code",
   "execution_count": 3,
   "metadata": {},
   "outputs": [],
   "source": [
    "#const\n",
    "import pandas as pd\n",
    "N_ROWS = 1000000 #number of samples\n",
    "\n",
    "df_dataset = pd.read_csv(\"DATASETS/criteo-uplift.csv\", nrows = N_ROWS)\n",
    "# print(df_dataset.head)\n",
    "df_features = pd.DataFrame({\n",
    "    'f0': df_dataset['f0'],\n",
    "    'f1': df_dataset['f1'],\n",
    "    'f2': df_dataset['f2'],\n",
    "    'f3': df_dataset['f3'],\n",
    "    'f4': df_dataset['f4'],\n",
    "    'f5': df_dataset['f5'],\n",
    "    'f6': df_dataset['f6'],\n",
    "    'f7': df_dataset['f7'],\n",
    "    'f8': df_dataset['f8'],\n",
    "    'f9': df_dataset['f9'],\n",
    "    'f10': df_dataset['f10'],\n",
    "    'f11': df_dataset['f11'],\n",
    "})\n",
    "#fit on \n",
    "indices_train = [i for i in range(0,N_ROWS // 2)]\n",
    "indices_test = [i for i in range(N_ROWS // 2,N_ROWS)]\n",
    "\n",
    "\n",
    "\n",
    "X_train = df_features.loc[indices_train].values\n",
    "treatment_train = df_dataset.loc[indices_train,'treatment'].values\n",
    "visit_train = df_dataset.loc[indices_train,'visit'].values\n",
    "\n",
    "X_test = df_features.loc[indices_test].values\n",
    "Y_test_visit =  df_dataset.loc[indices_test,'visit'].values\n",
    "treatment_test = df_dataset.loc[indices_test,'treatment'].values\n",
    "\n",
    "#this part for class transformation\n",
    "sumar = 0\n",
    "\n"
   ]
  },
  {
   "cell_type": "markdown",
   "metadata": {},
   "source": [
    "# RandomForest and class transformation\n",
    "## 1) fitting"
   ]
  },
  {
   "cell_type": "code",
   "execution_count": 5,
   "metadata": {},
   "outputs": [
    {
     "data": {
      "text/plain": [
       "RandomForestClassifier(bootstrap=True, class_weight=None,\n",
       "            criterion='uplift_entropy', max_depth=None,\n",
       "            max_features='auto', max_leaf_nodes=None, min_samples_leaf=100,\n",
       "            min_samples_split=2, min_weight_fraction_leaf=0.0,\n",
       "            n_estimators=10, n_jobs=1, oob_score=False, random_state=None,\n",
       "            verbose=0, warm_start=False)"
      ]
     },
     "execution_count": 5,
     "metadata": {},
     "output_type": "execute_result"
    }
   ],
   "source": [
    "from catboost import CatBoostClassifier\n",
    "#models\n",
    "\n",
    "rfc2 = RandomForestClassifier(n_estimators = 10, min_samples_leaf = 100, criterion='uplift_entropy')\n",
    "# rfc3 = RandomForestClassifier(n_estimators = 10, min_samples_leaf = 100, criterion='uplift_gini')\n",
    "\n",
    "#fitting\n",
    "# rfc1.fit(X_train, visit_train, treatment_train)\n",
    "rfc2.fit(X_train, visit_train, treatment_train)\n",
    "# rfc3.fit(X_train, visit_train, treatment_train)\n",
    "\n",
    "\n",
    "# cm_full = ClassTransformation(GradientBoostingClassifier()) #CatBoostClassifier(silent=True, thread_count=2, random_state=43)\n",
    "# cm_full = cm_full.fit(X_train_transf, visit_train_transf, treatment_train_transf)"
   ]
  },
  {
   "cell_type": "code",
   "execution_count": 21,
   "metadata": {},
   "outputs": [],
   "source": [
    "from uplift import tree\n",
    "clf = tree.DecisionTreeClassifier(max_depth=12,  criterion='uplift_entropy')\n",
    "clf = clf.fit(X_train, visit_train, treatment_train)"
   ]
  },
  {
   "cell_type": "code",
   "execution_count": 22,
   "metadata": {},
   "outputs": [],
   "source": [
    "tree.export_graphviz(clf, out_file='tree12.dot')"
   ]
  },
  {
   "cell_type": "code",
   "execution_count": 9,
   "metadata": {},
   "outputs": [],
   "source": [
    "transf_pred = cm_full.predict(X_test)\n"
   ]
  },
  {
   "cell_type": "code",
   "execution_count": 6,
   "metadata": {},
   "outputs": [
    {
     "ename": "ModuleNotFoundError",
     "evalue": "No module named 'sklift'",
     "output_type": "error",
     "traceback": [
      "\u001b[0;31m---------------------------------------------------------------------------\u001b[0m",
      "\u001b[0;31mModuleNotFoundError\u001b[0m                       Traceback (most recent call last)",
      "\u001b[0;32m<ipython-input-6-4906159a5437>\u001b[0m in \u001b[0;36m<module>\u001b[0;34m\u001b[0m\n\u001b[0;32m----> 1\u001b[0;31m \u001b[0;32mfrom\u001b[0m \u001b[0msklift\u001b[0m\u001b[0;34m.\u001b[0m\u001b[0mmetrics\u001b[0m \u001b[0;32mimport\u001b[0m \u001b[0muplift_at_k\u001b[0m\u001b[0;34m\u001b[0m\u001b[0;34m\u001b[0m\u001b[0m\n\u001b[0m\u001b[1;32m      2\u001b[0m \u001b[0;34m\u001b[0m\u001b[0m\n\u001b[1;32m      3\u001b[0m \u001b[0;31m# uplift_pred1 = rfc1.predict_uplift(X_test)\u001b[0m\u001b[0;34m\u001b[0m\u001b[0;34m\u001b[0m\u001b[0;34m\u001b[0m\u001b[0m\n\u001b[1;32m      4\u001b[0m \u001b[0muplift_pred2\u001b[0m \u001b[0;34m=\u001b[0m \u001b[0mrfc2\u001b[0m\u001b[0;34m.\u001b[0m\u001b[0mpredict_uplift\u001b[0m\u001b[0;34m(\u001b[0m\u001b[0mX_test\u001b[0m\u001b[0;34m)\u001b[0m\u001b[0;34m\u001b[0m\u001b[0;34m\u001b[0m\u001b[0m\n\u001b[1;32m      5\u001b[0m \u001b[0;31m# uplift_pred3 = rfc3.predict_uplift(X_test)\u001b[0m\u001b[0;34m\u001b[0m\u001b[0;34m\u001b[0m\u001b[0;34m\u001b[0m\u001b[0m\n",
      "\u001b[0;31mModuleNotFoundError\u001b[0m: No module named 'sklift'"
     ]
    }
   ],
   "source": [
    "from sklift.metrics import uplift_at_k\n",
    "\n",
    "# uplift_pred1 = rfc1.predict_uplift(X_test)\n",
    "uplift_pred2 = rfc2.predict_uplift(X_test)\n",
    "# uplift_pred3 = rfc3.predict_uplift(X_test)\n",
    "\n",
    "score_forest1 = uplift_at_k(y_true=Y_test_visit, uplift=uplift_pred1, treatment=treatment_test, k=0.3)\n",
    "score_forest2 = uplift_at_k(y_true=Y_test_visit, uplift=uplift_pred2, treatment=treatment_test, k=0.3)\n",
    "score_forest3 = uplift_at_k(y_true=Y_test_visit, uplift=uplift_pred3, treatment=treatment_test, k=0.3)\n",
    "\n",
    "score_transf = uplift_at_k(y_true=Y_test_visit, uplift=transf_pred, treatment=treatment_test, k=0.3)\n",
    "print(\"uplift_at_k_forest\", score_forest1, score_forest2, score_forest3)\n",
    "print(\"uplift_at_k_transf\", score_transf)"
   ]
  },
  {
   "cell_type": "code",
   "execution_count": 16,
   "metadata": {},
   "outputs": [
    {
     "data": {
      "text/plain": [
       "array([<matplotlib.axes._subplots.AxesSubplot object at 0x000002B15647FC88>,\n",
       "       <matplotlib.axes._subplots.AxesSubplot object at 0x000002B15E08ED48>],\n",
       "      dtype=object)"
      ]
     },
     "execution_count": 16,
     "metadata": {},
     "output_type": "execute_result"
    },
    {
     "data": {
      "image/png": "[encoded data removed]",
      "text/plain": [
       "<Figure size 1008x504 with 2 Axes>"
      ]
     },
     "metadata": {
      "needs_background": "light"
     },
     "output_type": "display_data"
    }
   ],
   "source": [
    "from sklift.viz import plot_uplift_preds, plot_uplift_qini_curves\n",
    "plot_uplift_qini_curves(y_true=Y_test_visit, uplift=uplift_pred2, treatment=treatment_test)"
   ]
  },
  {
   "cell_type": "code",
   "execution_count": 17,
   "metadata": {},
   "outputs": [
    {
     "data": {
      "text/plain": [
       "array([<matplotlib.axes._subplots.AxesSubplot object at 0x000002B15E1B1748>,\n",
       "       <matplotlib.axes._subplots.AxesSubplot object at 0x000002B15E211E88>],\n",
       "      dtype=object)"
      ]
     },
     "execution_count": 17,
     "metadata": {},
     "output_type": "execute_result"
    },
    {
     "data": {
      "image/png": "[encoded data removed]",
      "text/plain": [
       "<Figure size 1008x504 with 2 Axes>"
      ]
     },
     "metadata": {
      "needs_background": "light"
     },
     "output_type": "display_data"
    }
   ],
   "source": [
    "plot_uplift_qini_curves(y_true=Y_test_visit, uplift=transf_pred, treatment=treatment_test)"
   ]
  },
  {
   "cell_type": "markdown",
   "metadata": {},
   "source": [
    "## 2) Validation two models"
   ]
  },
  {
   "cell_type": "code",
   "execution_count": 21,
   "metadata": {},
   "outputs": [
    {
     "name": "stdout",
     "output_type": "stream",
     "text": [
      "Validation score: 0.037278936644062115\n"
     ]
    }
   ],
   "source": [
    "indices_learn, indices_valid = train_test_split(df_dataset.loc[indices_train].index, test_size=0.3, random_state=123)\n",
    "\n",
    "valid_uplift = uplift_fit_predict(\n",
    "    model=GradientBoostingClassifier(),\n",
    "    X_train=df_features.loc[indices_learn].values,\n",
    "    treatment_train=df_dataset.loc[indices_learn,'treatment'].values,\n",
    "    target_train=df_dataset.loc[indices_learn,'visit'].values,\n",
    "    X_test=df_features.loc[indices_valid, :].fillna(0).values,\n",
    ")\n",
    "valid_score = uplift_score(\n",
    "    valid_uplift,\n",
    "    treatment=df_dataset.loc[indices_valid, 'treatment'].values,\n",
    "    target=df_dataset.loc[indices_valid, 'visit'].values,\n",
    ")\n",
    "print('Validation score:', valid_score)"
   ]
  },
  {
   "cell_type": "code",
   "execution_count": null,
   "metadata": {},
   "outputs": [],
   "source": []
  },
  {
   "cell_type": "markdown",
   "metadata": {},
   "source": [
    "## 2) Predict and plot"
   ]
  },
  {
   "cell_type": "code",
   "execution_count": 10,
   "metadata": {},
   "outputs": [
    {
     "data": {
      "image/png": "[encoded data removed]",
      "text/plain": [
       "<Figure size 432x288 with 1 Axes>"
      ]
     },
     "metadata": {
      "needs_background": "light"
     },
     "output_type": "display_data"
    },
    {
     "data": {
      "image/png": "[encoded data removed]",
      "text/plain": [
       "<Figure size 432x288 with 1 Axes>"
      ]
     },
     "metadata": {
      "needs_background": "light"
     },
     "output_type": "display_data"
    }
   ],
   "source": [
    "# plot_all_uplift_curves(Y_test_visit, treatment_test, pred, \"transformation\")\n",
    "#predict and plot\n",
    "# uplift_pred = rfc1.predict_uplift(X_test)\n",
    "\n",
    "# plot_all_uplift_curves(Y_test_visit, treatment_test, uplift_pred, \"uplift_Radcliffe_Surry_valid\")\n",
    "# plot_all_uplift_curves(visit_train, treatment_train, uplift_pred, \"uplift_Radcliffe_Surry_train\")\n",
    "\n",
    "#plot_optimal_uplift_curve(Y_test_visit, treatment_test,\"erf\")\n",
    "\n",
    "uplift_pred = rfc2.predict_uplift(X_test)\n",
    "\n",
    "#plot_all_uplift_curves(Y_test_visit, treatment_test, uplift_pred, \"uplift_entropy\")\n",
    "plot_uplift_curve(Y_test_visit, treatment_test, uplift_pred, \"uplift\")\n",
    "plot_qini_curve(Y_test_visit, treatment_test, uplift_pred, \"qini\")\n",
    "\n",
    "# uplift_pred = rfc3.predict_uplift(X_test)\n",
    "\n",
    "# plot_all_uplift_curves(Y_test_visit, treatment_test, uplift_pred, \"uplift_gini\")\n",
    "\n"
   ]
  },
  {
   "cell_type": "code",
   "execution_count": 4,
   "metadata": {},
   "outputs": [],
   "source": [
    "%matplotlib inline\n",
    "\n",
    "import pandas as pd; pd.set_option('display.max_columns', None)\n",
    "from sklearn.model_selection import train_test_split\n",
    "\n",
    "# Чтение данных\n",
    "df_clients = pd.read_csv('./data/clients.csv', index_col='client_id')\n",
    "df_train = pd.read_csv('./data/uplift_train.csv', index_col='client_id')\n",
    "df_test = pd.read_csv('./data/uplift_test.csv', index_col='client_id')\n",
    "\n",
    "# Извлечение признаков\n",
    "df_features = df_clients.copy()\n",
    "df_features['first_issue_time'] = pd.to_datetime(df_features['first_issue_date']).astype(np.int64) / 10 ** 9\n",
    "df_features['first_redeem_time'] = pd.to_datetime(df_features['first_redeem_date']).astype(np.int64) / 10 ** 9\n",
    "df_features['issue_redeem_delay'] = df_features['first_redeem_time'] - df_features['first_issue_time']\n",
    "df_features = df_features.drop(['first_issue_date', 'first_redeem_date'], axis=1)\n",
    "\n",
    "indices_train = df_train.index\n",
    "indices_test = df_test.index\n",
    "indices_learn, indices_valid = train_test_split(df_train.index, test_size=0.3, random_state=123)"
   ]
  },
  {
   "cell_type": "code",
   "execution_count": 5,
   "metadata": {},
   "outputs": [],
   "source": [
    "X_train = df_features.loc[indices_learn, :]\n",
    "y_train = df_train.loc[indices_learn, 'target']\n",
    "treat_train = df_train.loc[indices_learn, 'treatment_flg']\n",
    "\n",
    "X_val = df_features.loc[indices_valid, :]\n",
    "y_val = df_train.loc[indices_valid, 'target']\n",
    "treat_val =  df_train.loc[indices_valid, 'treatment_flg']\n",
    "\n",
    "X_train_full = df_features.loc[indices_train, :]\n",
    "y_train_full = df_train.loc[:, 'target']\n",
    "treat_train_full = df_train.loc[:, 'treatment_flg']\n",
    "\n",
    "X_test = df_features.loc[indices_test, :]\n",
    "\n",
    "cat_features = ['gender']\n",
    "\n",
    "models_results = {\n",
    "    'approach': [],\n",
    "    'uplift@30%': []\n",
    "}"
   ]
  },
  {
   "cell_type": "markdown",
   "metadata": {},
   "source": [
    "# solo\n"
   ]
  },
  {
   "cell_type": "code",
   "execution_count": 6,
   "metadata": {},
   "outputs": [
    {
     "data": {
      "image/png": "[encoded data removed]",
      "text/plain": [
       "<Figure size 1440x504 with 3 Axes>"
      ]
     },
     "metadata": {
      "needs_background": "light"
     },
     "output_type": "display_data"
    }
   ],
   "source": [
    "from sklift.metrics import uplift_at_k\n",
    "from sklift.viz import plot_uplift_preds\n",
    "from sklift.models import SoloModel\n",
    "\n",
    "# sklift поддерживает любые модели, \n",
    "# которые удовлетворяют соглашениями scikit-learn\n",
    "# Для примера воспользуемся catboost\n",
    "from catboost import CatBoostClassifier\n",
    "\n",
    "sm = SoloModel(CatBoostClassifier(thread_count=2, random_state=42, silent=True))\n",
    "sm = sm.fit(X_train, y_train, treat_train, estimator_fit_params={'cat_features': cat_features})\n",
    "\n",
    "uplift_sm = sm.predict(X_val)\n",
    "\n",
    "sm_score = uplift_at_k(y_true=y_val, uplift=uplift_sm, treatment=treat_val, k=0.3)\n",
    "\n",
    "models_results['approach'].append('SoloModel')\n",
    "models_results['uplift@30%'].append(sm_score)\n",
    "\n",
    "# Получим условные вероятности выполнения целевого действия при взаимодействии для каждого объекта\n",
    "sm_trmnt_preds = sm.trmnt_preds_\n",
    "# И условные вероятности выполнения целевого действия без взаимодействия для каждого объекта\n",
    "sm_ctrl_preds = sm.ctrl_preds_\n",
    "\n",
    "# Отрисуем распределения вероятностей и их разность (uplift)\n",
    "plot_uplift_preds(trmnt_preds=sm_trmnt_preds, ctrl_preds=sm_ctrl_preds);"
   ]
  }
 ],
 "metadata": {
  "kernelspec": {
   "display_name": "Python 3",
   "language": "python",
   "name": "python3"
  },
  "language_info": {
   "codemirror_mode": {
    "name": "ipython",
    "version": 3
   },
   "file_extension": ".py",
   "mimetype": "text/x-python",
   "name": "python",
   "nbconvert_exporter": "python",
   "pygments_lexer": "ipython3",
   "version": "3.8.2"
  }
 },
 "nbformat": 4,
 "nbformat_minor": 2
}
