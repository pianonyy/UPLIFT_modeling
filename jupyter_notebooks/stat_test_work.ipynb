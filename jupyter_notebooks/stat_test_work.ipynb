{
 "cells": [
  {
   "cell_type": "code",
   "execution_count": 24,
   "metadata": {},
   "outputs": [
    {
     "data": {
      "text/plain": [
       "-1.6448536269514729"
      ]
     },
     "execution_count": 24,
     "metadata": {},
     "output_type": "execute_result"
    }
   ],
   "source": [
    "from scipy.stats import norm\n",
    "alpha = 0.1\n",
    "\n",
    "norm.ppf(0.5*alpha, loc=0, scale=1)\n",
    "#qnorm(0.5*alpha, mean = 0, sd = 1, lower.tail = FALSE, log.p = FALSE)"
   ]
  },
  {
   "cell_type": "code",
   "execution_count": 1,
   "metadata": {},
   "outputs": [
    {
     "name": "stdout",
     "output_type": "stream",
     "text": [
      "Populating the interactive namespace from numpy and matplotlib\n"
     ]
    }
   ],
   "source": [
    "%pylab inline\n",
    "import logging\n",
    "import numpy as np\n",
    "import pandas as pd\n",
    "import xgboost as xgb\n",
    "from uplift.ensemble import RandomForestClassifier\n",
    "from sklearn.model_selection import train_test_split\n",
    "\n",
    "import logging\n",
    "import pickle\n",
    "from datetime import timedelta\n",
    "from os.path import join as pjoin\n",
    "import random\n",
    "\n",
    "\n",
    "log_format = '[%(asctime)s] %(name)-25s %(levelname)-8s %(message)s'\n",
    "logging.basicConfig(\n",
    "    format=log_format,\n",
    "    level=logging.INFO,\n",
    ")\n",
    "logger = logging.getLogger(__name__)\n"
   ]
  },
  {
   "cell_type": "code",
   "execution_count": 5,
   "metadata": {},
   "outputs": [],
   "source": [
    "# Чтение данных\n",
    "df_clients = pd.read_csv('data/clients.csv', index_col='client_id')\n",
    "df_train = pd.read_csv('data/uplift_train.csv', index_col='client_id')\n",
    "df_test = pd.read_csv('data/uplift_test.csv', index_col='client_id')\n",
    "\n",
    "# Извлечение признаков\n",
    "\n",
    "df_clients['first_issue_time'] = \\\n",
    "    (pd.to_datetime(df_clients['first_issue_date'])\n",
    "     - pd.Timestamp('1970-01-01')) // pd.Timedelta('1s')\n",
    "df_clients['first_redeem_time'] = \\\n",
    "    (pd.to_datetime(df_clients['first_redeem_date'])\n",
    "     - pd.Timestamp('1970-01-01')) // pd.Timedelta('1s')\n",
    "df_clients['issue_redeem_delay'] = df_clients['first_redeem_time'] \\\n",
    "    - df_clients['first_issue_time']\n",
    "df_clients = df_clients.drop(['first_issue_date', 'first_redeem_date'], axis=1)\n",
    "\n",
    "df_features = pd.DataFrame({\n",
    "    'gender_M': (df_clients['gender'] == 'M').astype(int),\n",
    "    'gender_F': (df_clients['gender'] == 'F').astype(int),\n",
    "    'gender_U': (df_clients['gender'] == 'U').astype(int),\n",
    "    'age': df_clients['age'],\n",
    "    'first_issue_time': df_clients['first_issue_time'],\n",
    "    'first_redeem_time': df_clients['first_redeem_time'],\n",
    "    'issue_redeem_delay': df_clients['issue_redeem_delay'],\n",
    "}).fillna(0)\n",
    "\n",
    "indices_train = df_train.index\n",
    "indices_learn, indices_valid = train_test_split(df_train.index, test_size=0.3, random_state=123)\n",
    "\n",
    "X_learn = df_features.loc[indices_train, :]\n",
    "target_learn = df_train.loc[indices_train, 'target']\n",
    "treatment_learn = df_train.loc[indices_train, 'treatment_flg']\n"
   ]
  },
  {
   "cell_type": "code",
   "execution_count": 3,
   "metadata": {},
   "outputs": [
    {
     "name": "stderr",
     "output_type": "stream",
     "text": [
      "[2020-11-07 17:30:44,867] __main__                  INFO     Loading features...\n",
      "[2020-11-07 17:30:57,510] __main__                  INFO     Features are loaded\n",
      "[2020-11-07 17:30:57,511] __main__                  INFO     Features shape: (400162, 334)\n",
      "[2020-11-07 17:30:57,512] __main__                  INFO     Preparing data sets...\n"
     ]
    }
   ],
   "source": [
    "logger.info('Loading features...')\n",
    "with open('features.pkl', 'rb') as f:\n",
    "    features: pd.DataFrame = pickle.load(f)\n",
    "logger.info('Features are loaded')\n",
    "\n",
    "logger.info(f'Features shape: {features.shape}')\n",
    "\n",
    "logger.info('Preparing data sets...')\n",
    "features.set_index('client_id', inplace=True)\n",
    "\n",
    "\n",
    "X_train = features.loc[indices_train, :]\n",
    "X_train = X_train.astype('float32')\n",
    "X_train = X_train.replace([np.inf, -np.inf], np.nan).fillna(0)"
   ]
  },
  {
   "cell_type": "code",
   "execution_count": 4,
   "metadata": {},
   "outputs": [
    {
     "name": "stdout",
     "output_type": "stream",
     "text": [
      "(200035, 333)\n"
     ]
    }
   ],
   "source": [
    "print(X_train.shape)"
   ]
  }
 ],
 "metadata": {
  "kernelspec": {
   "display_name": "Python 3",
   "language": "python",
   "name": "python3"
  },
  "language_info": {
   "codemirror_mode": {
    "name": "ipython",
    "version": 3
   },
   "file_extension": ".py",
   "mimetype": "text/x-python",
   "name": "python",
   "nbconvert_exporter": "python",
   "pygments_lexer": "ipython3",
   "version": "3.8.2"
  }
 },
 "nbformat": 4,
 "nbformat_minor": 4
}
