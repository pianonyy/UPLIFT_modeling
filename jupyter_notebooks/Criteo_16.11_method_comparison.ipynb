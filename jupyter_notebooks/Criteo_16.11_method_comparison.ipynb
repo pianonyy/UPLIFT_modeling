{
 "cells": [
  {
   "cell_type": "code",
   "execution_count": 2,
   "metadata": {},
   "outputs": [
    {
     "name": "stdout",
     "output_type": "stream",
     "text": [
      "Populating the interactive namespace from numpy and matplotlib\n"
     ]
    },
    {
     "name": "stderr",
     "output_type": "stream",
     "text": [
      "c:\\python38\\lib\\site-packages\\IPython\\core\\magics\\pylab.py:159: UserWarning: pylab import has clobbered these variables: ['pylab']\n",
      "`%matplotlib` prevents importing * from pylab and numpy\n",
      "  warn(\"pylab import has clobbered these variables: %s\"  % clobbered +\n"
     ]
    }
   ],
   "source": [
    "%pylab inline"
   ]
  },
  {
   "cell_type": "code",
   "execution_count": 1,
   "metadata": {},
   "outputs": [],
   "source": [
    "import numpy as np\n",
    "import pandas as pd\n",
    "from sklearn.model_selection import train_test_split\n",
    "import pylab\n",
    "\n",
    "from uplift.metrics import uplift_at_k,qini_auc_score\n",
    "from uplift.ensemble import RandomForestClassifier\n",
    "from uplift.vizualization import  plot_qini_curve\n",
    "\n",
    "from sklearn.model_selection import ParameterGrid\n",
    "from pprint import pprint"
   ]
  },
  {
   "cell_type": "code",
   "execution_count": null,
   "metadata": {},
   "outputs": [],
   "source": [
    "# # Functions to build the Uplift model and visualize the QINI Curve\n",
    "\n",
    "# import plotly.express as px\n",
    "\n",
    "\n",
    "# from plotly.offline import init_notebook_mode, plot, iplot\n",
    "# import plotly.graph_objs as go\n",
    "\n",
    "# init_notebook_mode(connected=True)\n",
    "\n",
    "# def qini_rank(uplift):\n",
    "#     \"\"\"Rank the data by the uplift score\n",
    "#     \"\"\"\n",
    "#     # Creat new dataframe\n",
    "#     ranked = pd.DataFrame({'n':[], 'target_class':[]})\n",
    "#     ranked['target_class'] = uplift['target_class']\n",
    "#     ranked['uplift_score'] = uplift['uplift_score']\n",
    "    \n",
    "    \n",
    "#     # Add proportion\n",
    "#     ranked['n'] = ranked.uplift_score.rank(pct=True, ascending=False)\n",
    "   \n",
    "#     # Data Ranking   \n",
    "#     ranked = ranked.sort_values(by='n').reset_index(drop=True)\n",
    "\n",
    "    \n",
    "#     print(ranked)\n",
    "#     return ranked\n",
    "\n",
    "\n",
    "# def qini_eval(ranked):\n",
    "#     \"\"\"Evaluate the uplift value with the QINI criterion\n",
    "#     \"\"\"\n",
    "    \n",
    "#     uplift_model, random_model = ranked.copy(), ranked.copy()\n",
    "#     # Using Treatment and Control Group to calculate the uplift (Incremental gain)\n",
    "#     C, T = sum(ranked['target_class'] <= 1), sum(ranked['target_class'] >= 2)\n",
    "#     ranked['cr'] = 0\n",
    "#     ranked['tr'] = 0\n",
    "#     ranked.loc[ranked.target_class == 1,'cr'] = 1\n",
    "#     ranked.loc[ranked.target_class == 3,'tr'] = 1\n",
    "#     ranked['cr/c'] = ranked.cr.cumsum() / C\n",
    "#     ranked['tr/t'] = ranked.tr.cumsum() / T\n",
    "#     # Calculate and put the uplift and random value into dataframe\n",
    "#     uplift_model['uplift'] = round(ranked['tr/t'] - ranked['cr/c'],5)\n",
    "#     random_model['uplift'] = round(ranked['n'] * uplift_model['uplift'].iloc[-1],5)\n",
    "    \n",
    "    \n",
    "#     # Add q0\n",
    "#     q0 = pd.DataFrame({'n':0, 'uplift':0, 'target_class': None}, index =[0])\n",
    "#     uplift_model = pd.concat([q0, uplift_model],sort=False).reset_index(drop = True)\n",
    "#     random_model = pd.concat([q0, random_model],sort=False).reset_index(drop = True)  \n",
    "#     # Add model name & concat\n",
    "#     uplift_model['model'] = 'Uplift model'\n",
    "#     random_model['model'] = 'Random model'\n",
    "#     merged = pd.concat([uplift_model, random_model]).sort_values(by='n').reset_index(drop = True)\n",
    "#     merged = merged.groupby(['n','model'],as_index=False).mean()\n",
    "#     print(merged)\n",
    "#     return merged\n",
    "\n",
    "\n",
    "# def qini_plot(merged):\n",
    "#     \"\"\"Plot the QINI\n",
    "#     \"\"\"\n",
    "\n",
    "   \n",
    "  \n",
    "\n",
    "\n",
    "#     fig = px.line(merged, x=\"n\", y=\"uplift\", color='model', labels={\n",
    "#                      \"n\": \"ratio\",\n",
    "#                      \"uplift\": \"uplift\"\n",
    "#                  })\n",
    "    \n",
    "#     fig.show()\n",
    "    \n",
    "\n",
    "    \n",
    "\n",
    "\n",
    "# def qini(uplift):\n",
    "#     \"\"\"Combine all functions\n",
    "#     \"\"\"\n",
    "#     ranked = qini_rank(uplift)\n",
    "#     merged = qini_eval(ranked)\n",
    "#     qini_plot(merged)\n",
    "   "
   ]
  },
  {
   "cell_type": "code",
   "execution_count": 3,
   "metadata": {},
   "outputs": [
    {
     "name": "stdout",
     "output_type": "stream",
     "text": [
      "                f0        f1        f2        f3        f4         f5  \\\n",
      "4         1.991981  3.263641  9.332619  3.735871  3.506733  10.161281   \n",
      "6         1.991981  3.263641  9.274632  3.735871  3.506733  10.161281   \n",
      "8         1.991981  3.263641  9.226277  3.735871  3.506733  10.161281   \n",
      "11        1.991981  3.263641  9.225938  3.735871  3.506733  10.161281   \n",
      "21        1.991981  3.263641  9.305200  3.735871  3.506733  10.161281   \n",
      "25        1.991981  3.263641  9.226143  3.735871  3.506733  10.161281   \n",
      "36        1.991981  3.263641  9.319042  3.735871  3.506733  10.161281   \n",
      "37        1.991981  3.263641  9.149571  3.735871  3.506733  10.161281   \n",
      "38        1.991981  3.263641  9.274588  3.735871  3.506733  10.161281   \n",
      "40        1.991981  3.263641  9.225908  3.735871  3.506733  10.161281   \n",
      "44        1.991981  3.263641  9.242269  3.735871  3.506733  10.161281   \n",
      "51        1.991981  3.263641  9.290252  3.735871  3.506733  10.161281   \n",
      "63        1.991981  3.263641  9.027589  3.735871  3.506733  10.161281   \n",
      "69        1.991981  3.263641  9.226057  3.735871  3.506733  10.161281   \n",
      "71        1.991981  3.263641  9.101714  3.735871  3.506733  10.161281   \n",
      "77        1.991981  3.263641  9.305084  3.735871  3.506733  10.161281   \n",
      "79        1.991981  3.263641  9.055043  3.735871  3.506733  10.161281   \n",
      "82        1.991981  3.263641  9.319187  3.735871  3.506733  10.161281   \n",
      "85        1.991981  3.263641  9.274536  3.735871  3.506733  10.161281   \n",
      "88        1.991981  3.263641  9.080051  3.735871  3.506733  10.161281   \n",
      "94        1.991981  3.263641  9.319291  3.735871  3.506733  10.161281   \n",
      "97        1.991981  3.263641  9.332424  3.735871  3.506733  10.161281   \n",
      "109       1.991981  3.263641  9.332435  3.735871  3.506733  10.161281   \n",
      "111       1.991981  3.263641  9.319252  3.735871  3.506733  10.161281   \n",
      "121       1.991981  3.263641  9.025177  3.735871  3.506733  10.161281   \n",
      "128       1.991981  3.263641  9.289791  3.735871  3.506733  10.161281   \n",
      "132       1.991981  3.263641  9.259648  3.735871  3.506733  10.161281   \n",
      "137       1.991981  3.263641  9.150271  3.735871  3.506733  10.161281   \n",
      "142       1.991981  3.263641  9.226599  3.735871  3.506733  10.161281   \n",
      "148       1.991981  3.263641  9.274632  3.735871  3.506733  10.161281   \n",
      "...            ...       ...       ...       ...       ...        ...   \n",
      "24999843 -0.787039  3.263641  8.272483  3.735871  3.506733  10.161281   \n",
      "24999845  1.403717  3.263641  8.272483  3.471742  3.506733  10.161281   \n",
      "24999854  1.606168  3.263641  8.272483  3.581365  3.506733  10.161281   \n",
      "24999857 -1.017686  3.263641  8.272483  3.735871  3.506733  10.161281   \n",
      "24999858 -0.948883  3.263641  8.272483  3.735871  3.506733  10.161281   \n",
      "24999865  1.991981  3.263641  8.272483  3.735871  3.506733  10.161281   \n",
      "24999868  1.991981  3.263641  8.272483  3.735871  3.506733  10.161281   \n",
      "24999870  1.991981  3.263641  8.272483  3.735871  3.506733  10.161281   \n",
      "24999879 -1.368527  3.263641  8.272483  3.735871  3.506733  10.161281   \n",
      "24999889 -0.909207  3.263641  8.272483  3.735871  3.506733  10.161281   \n",
      "24999892  1.991981  3.263641  8.272483  3.735871  3.506733  10.161281   \n",
      "24999894 -1.679179  3.263641  8.272483  3.735871  3.506733  10.161281   \n",
      "24999895 -1.189037  3.263641  8.272483  3.735871  3.506733  10.161281   \n",
      "24999903 -1.706365  3.263641  8.272483  3.735871  3.506733  10.161281   \n",
      "24999904  1.991981  3.263641  8.599596  3.735871  3.506733  10.161281   \n",
      "24999907  0.361722  3.263641  9.158471  3.581365  3.506733  10.161281   \n",
      "24999908 -0.722732  3.263641  8.272483  3.735871  3.506733  10.161281   \n",
      "24999916 -1.686784  3.263641  8.272483  3.735871  3.506733  10.161281   \n",
      "24999918 -0.705679  3.263641  8.272483  3.735871  3.506733  10.161281   \n",
      "24999929  0.221013  3.263641  8.272483  2.501748  3.506733  10.161281   \n",
      "24999931  1.991981  3.263641  9.263716  3.735871  3.506733  10.161281   \n",
      "24999936 -1.773453  3.263641  8.272483  3.735871  3.506733  10.161281   \n",
      "24999938  1.042207  3.263641  8.304872  3.581365  3.506733  10.161281   \n",
      "24999941  1.991981  3.263641  9.044076  3.735871  3.506733  10.161281   \n",
      "24999949 -0.845312  3.263641  8.272483  3.735871  3.506733  10.840586   \n",
      "24999952  1.991981  3.263641  8.272483  3.735871  3.506733  10.161281   \n",
      "24999970  1.991981  3.263641  9.250938  3.735871  3.506733  10.161281   \n",
      "24999978  1.991981  3.263641  8.272483  3.735871  3.506733  10.161281   \n",
      "24999979 -1.102043  3.263641  9.306967  3.735871  3.506733  10.161281   \n",
      "24999990  1.991981  3.263641  8.272483  3.735871  3.506733  10.161281   \n",
      "\n",
      "                f6        f7        f8         f9     f10       f11  visit  \\\n",
      "4         2.981721 -0.166689 -0.584392   9.850093 -1.8609  4.157648      0   \n",
      "6         2.981721 -0.166689 -0.584392   9.850093 -1.8609  4.157648      0   \n",
      "8         2.981721 -0.166689 -0.584392   9.850093 -1.8609  4.157648      0   \n",
      "11        2.981721 -0.166689 -0.584392   9.850093 -1.8609  4.157648      0   \n",
      "21        2.981721 -0.166689 -0.584392   9.850093 -1.8609  4.157648      0   \n",
      "25        2.981721 -0.166689 -0.584392   9.850093 -1.8609  4.157648      0   \n",
      "36        2.981721 -0.166689 -0.584392   9.850093 -1.8609  4.157648      0   \n",
      "37        2.981721 -0.166689 -0.584392   9.850093 -1.8609  4.157648      0   \n",
      "38        2.981721 -0.166689 -0.584392   9.850093 -1.8609  4.157648      0   \n",
      "40        2.981721 -0.166689 -0.584392   9.850093 -1.8609  4.157648      0   \n",
      "44        2.981721 -0.166689 -0.584392   9.850093 -1.8609  4.157648      0   \n",
      "51        2.981721 -0.166689 -0.584392   9.850093 -1.8609  4.157648      0   \n",
      "63        2.981721 -0.166689 -0.584392   9.850093 -1.8609  4.157648      0   \n",
      "69        2.981721 -0.166689 -0.584392   9.850093 -1.8609  4.157648      0   \n",
      "71        2.981721 -0.166689 -0.584392   9.850093 -1.8609  4.157648      0   \n",
      "77        2.981721 -0.166689 -0.584392   9.850093 -1.8609  4.157648      0   \n",
      "79        2.981721 -0.166689 -0.584392   9.850093 -1.8609  4.157648      0   \n",
      "82        2.981721 -0.166689 -0.584392   9.850093 -1.8609  4.157648      0   \n",
      "85        2.981721 -0.166689 -0.584392   9.850093 -1.8609  4.157648      0   \n",
      "88        2.981721 -0.166689 -0.584392   9.850093 -1.8609  4.157648      0   \n",
      "94        2.981721 -0.166689 -0.584392   9.850093 -1.8609  4.157648      0   \n",
      "97        2.981721 -0.166689 -0.584392   9.850093 -1.8609  4.157648      0   \n",
      "109       2.981721 -0.166689 -0.584392   9.850093 -1.8609  4.157648      0   \n",
      "111       2.981721 -0.166689 -0.584392   9.850093 -1.8609  4.157648      0   \n",
      "121       2.981721 -0.166689 -0.584392   9.850093 -1.8609  4.157648      0   \n",
      "128       2.981721 -0.166689 -0.584392   9.850093 -1.8609  4.157648      0   \n",
      "132       2.981721 -0.166689 -0.584392   9.850093 -1.8609  4.157648      0   \n",
      "137       2.981721 -0.166689 -0.584392   9.850093 -1.8609  4.157648      0   \n",
      "142       2.981721 -0.166689 -0.584392   9.850093 -1.8609  4.157648      0   \n",
      "148       2.981721 -0.166689 -0.584392   9.850093 -1.8609  4.157648      0   \n",
      "...            ...       ...       ...        ...     ...       ...    ...   \n",
      "24999843  2.386066 -0.166689  1.107571   9.850093 -1.8609  4.157648      0   \n",
      "24999845  1.963442 -0.166689  1.107571   9.850093 -1.8609  4.157648      0   \n",
      "24999854  2.386066 -0.166689  1.107571   9.850093 -1.8609  4.157648      0   \n",
      "24999857  1.963442 -0.166689  1.107571   9.850093 -1.8609  4.157648      0   \n",
      "24999858  2.386066 -0.166689  1.107571   9.850093 -1.8609  4.157648      0   \n",
      "24999865  2.981721 -0.166689  1.107571   9.850093 -1.8609  4.157648      0   \n",
      "24999868  2.981721 -0.166689  1.107571   9.850093 -1.8609  4.157648      0   \n",
      "24999870  2.981721 -0.166689  1.107571   9.850093 -1.8609  4.157648      0   \n",
      "24999879  1.635629 -0.166689  1.107571   9.850093 -1.8609  4.157648      0   \n",
      "24999889  1.963442 -0.166689  1.107571   9.850093 -1.8609  4.157648      0   \n",
      "24999892  2.981721 -0.166689  1.107571   9.850093 -1.8609  4.157648      0   \n",
      "24999894  0.477333 -0.166689  1.107571   9.850093 -1.8609  4.157648      0   \n",
      "24999895 -0.472605 -0.166689  1.107571   9.850093 -1.8609  4.157648      0   \n",
      "24999903  0.772132 -0.166689  1.107571   9.850093 -1.8609  4.157648      0   \n",
      "24999904  2.981721 -0.166689 -0.584392  10.932329 -1.8609  4.157648      0   \n",
      "24999907  2.386066 -0.166689 -1.784858   9.850093 -1.8609  4.157648      0   \n",
      "24999908  1.635629 -0.166689  1.107571   9.850093 -1.8609  4.157648      0   \n",
      "24999916  1.141329 -0.166689  1.107571   9.850093 -1.8609  4.157648      0   \n",
      "24999918  2.386066 -0.166689  1.107571   9.850093 -1.8609  4.157648      0   \n",
      "24999929 -1.776112 -0.166689  1.107571   9.850093 -1.8609  4.157648      0   \n",
      "24999931  2.981721 -0.166689 -0.584392   9.850093 -1.8609  4.157648      0   \n",
      "24999936  1.635629 -0.166689  1.107571   9.850093 -1.8609  4.157648      0   \n",
      "24999938  2.386066 -0.166689 -5.608441  12.295784 -1.8609  4.157648      0   \n",
      "24999941  2.981721 -0.166689 -0.584392   9.850093 -1.8609  4.157648      0   \n",
      "24999949 -2.594104 -3.450583  1.107571   9.850093 -1.8609  4.157648      0   \n",
      "24999952  2.981721 -0.166689  1.107571   9.850093 -1.8609  4.157648      0   \n",
      "24999970  2.981721 -0.166689 -1.784858   9.850093 -1.8609  4.157648      0   \n",
      "24999978  2.981721 -0.166689  1.107571   9.850093 -1.8609  4.157648      0   \n",
      "24999979 -1.223042 -0.166689 -6.703259   9.850093 -1.8609  4.157648      0   \n",
      "24999990  2.981721 -0.166689  1.107571   9.850093 -1.8609  4.157648      0   \n",
      "\n",
      "          treatment  \n",
      "4                 0  \n",
      "6                 0  \n",
      "8                 0  \n",
      "11                0  \n",
      "21                0  \n",
      "25                0  \n",
      "36                0  \n",
      "37                0  \n",
      "38                0  \n",
      "40                0  \n",
      "44                0  \n",
      "51                0  \n",
      "63                0  \n",
      "69                0  \n",
      "71                0  \n",
      "77                0  \n",
      "79                0  \n",
      "82                0  \n",
      "85                0  \n",
      "88                0  \n",
      "94                0  \n",
      "97                0  \n",
      "109               0  \n",
      "111               0  \n",
      "121               0  \n",
      "128               0  \n",
      "132               0  \n",
      "137               0  \n",
      "142               0  \n",
      "148               0  \n",
      "...             ...  \n",
      "24999843          0  \n",
      "24999845          0  \n",
      "24999854          0  \n",
      "24999857          0  \n",
      "24999858          0  \n",
      "24999865          0  \n",
      "24999868          0  \n",
      "24999870          0  \n",
      "24999879          0  \n",
      "24999889          0  \n",
      "24999892          0  \n",
      "24999894          0  \n",
      "24999895          0  \n",
      "24999903          0  \n",
      "24999904          0  \n",
      "24999907          0  \n",
      "24999908          0  \n",
      "24999916          0  \n",
      "24999918          0  \n",
      "24999929          0  \n",
      "24999931          0  \n",
      "24999936          0  \n",
      "24999938          0  \n",
      "24999941          0  \n",
      "24999949          0  \n",
      "24999952          0  \n",
      "24999970          0  \n",
      "24999978          0  \n",
      "24999979          0  \n",
      "24999990          0  \n",
      "\n",
      "[3853008 rows x 14 columns]\n"
     ]
    }
   ],
   "source": [
    "N_ROWS = 25000000 # number of samples\n",
    "\n",
    "df_dataset = pd.read_csv(\"DATASETS/criteo-uplift.csv\", nrows = N_ROWS)\n",
    "\n",
    "df_features = pd.DataFrame({\n",
    "    'f0': df_dataset['f0'],\n",
    "    'f1': df_dataset['f1'],\n",
    "    'f2': df_dataset['f2'],\n",
    "    'f3': df_dataset['f3'],\n",
    "    'f4': df_dataset['f4'],\n",
    "    'f5': df_dataset['f5'],\n",
    "    'f6': df_dataset['f6'],\n",
    "    'f7': df_dataset['f7'],\n",
    "    'f8': df_dataset['f8'],\n",
    "    'f9': df_dataset['f9'],\n",
    "    'f10': df_dataset['f10'],\n",
    "    'f11': df_dataset['f11'],\n",
    "})\n",
    "\n",
    "df_features_imp = pd.DataFrame({\n",
    "    'f0': df_dataset['f0'],\n",
    "    'f1': df_dataset['f1'],\n",
    "    'f2': df_dataset['f2'],\n",
    "    'f3': df_dataset['f3'],\n",
    "    'f4': df_dataset['f4'],\n",
    "    'f5': df_dataset['f5'],\n",
    "    'f6': df_dataset['f6'],\n",
    "    'f7': df_dataset['f7'],\n",
    "    'f8': df_dataset['f8'],\n",
    "    'f9': df_dataset['f9'],\n",
    "    'f10': df_dataset['f10'],\n",
    "    'f11': df_dataset['f11'],\n",
    "    'visit':df_dataset['visit'],\n",
    "    'treatment':df_dataset['treatment']\n",
    "})\n",
    "\n",
    "indices_all =  [i for i in range(N_ROWS)]\n",
    "\n",
    "indices_train, indices_test = train_test_split(\n",
    "         df_dataset.index,\n",
    "         test_size=0.3,\n",
    "         random_state = 12)\n",
    "print(df_features_imp.loc[ (df_features_imp['treatment'] == 0) ])\n",
    "# class_balanced_frame = pd.concat([df_features.loc[ (df_features['treatment'] == 1) ])])"
   ]
  },
  {
   "cell_type": "code",
   "execution_count": 4,
   "metadata": {},
   "outputs": [],
   "source": [
    "control_all = df_features_imp.loc[ (df_features_imp['treatment'] == 0) ]\n",
    "control_train = control_all[:1926504]\n",
    "control_test = control_all[1926504:]\n",
    "\n",
    "\n",
    "treatment_all = df_features_imp.loc[ (df_features_imp['treatment'] == 1) ]\n",
    "treatment_train = treatment_all[:1926504]\n",
    "treatment_test = treatment_all[1926504:3853008]\n",
    "\n",
    "train = pd.concat([control_train, treatment_train])\n",
    "test = pd.concat([control_test, treatment_test])\n"
   ]
  },
  {
   "cell_type": "markdown",
   "metadata": {},
   "source": [
    "# Feature importance\n"
   ]
  },
  {
   "cell_type": "code",
   "execution_count": 16,
   "metadata": {},
   "outputs": [
    {
     "data": {
      "image/png": "[encoded data removed]",
      "text/plain": [
       "<Figure size 432x288 with 1 Axes>"
      ]
     },
     "metadata": {
      "needs_background": "light"
     },
     "output_type": "display_data"
    }
   ],
   "source": [
    "from uplift.tree import feature_importance\n",
    "\n",
    "features = ['f0','f1','f2','f3','f4','f5','f6','f7','f8','f9','f10','f11']\n",
    "\n",
    "dict_feat = feature_importance(df_features_imp,features,num_bins =1000,regularization = 1.0,penalty = False)"
   ]
  },
  {
   "cell_type": "code",
   "execution_count": 5,
   "metadata": {},
   "outputs": [],
   "source": [
    "treatment_train = train.treatment\n",
    "target_train = train.visit\n",
    "train_features = train.drop('visit', 1) \n",
    "train_features = train_features.drop('treatment', 1) \n",
    "\n",
    "treatment_test = test.treatment\n",
    "target_test = test.visit\n",
    "test_features = test.drop('visit', 1) \n",
    "test_features = test_features.drop('treatment', 1) "
   ]
  },
  {
   "cell_type": "markdown",
   "metadata": {},
   "source": [
    "# 1) Solo(xgboost)\n"
   ]
  },
  {
   "cell_type": "code",
   "execution_count": 87,
   "metadata": {},
   "outputs": [
    {
     "name": "stdout",
     "output_type": "stream",
     "text": [
      "[{'colsample_bytree': 0.6, 'max_depth': 4, 'subsample': 0.5}, {'colsample_bytree': 0.6, 'max_depth': 4, 'subsample': 0.75}, {'colsample_bytree': 0.6, 'max_depth': 4, 'subsample': 1.0}, {'colsample_bytree': 0.6, 'max_depth': 6, 'subsample': 0.5}, {'colsample_bytree': 0.6, 'max_depth': 6, 'subsample': 0.75}, {'colsample_bytree': 0.6, 'max_depth': 6, 'subsample': 1.0}, {'colsample_bytree': 0.6, 'max_depth': 8, 'subsample': 0.5}, {'colsample_bytree': 0.6, 'max_depth': 8, 'subsample': 0.75}, {'colsample_bytree': 0.6, 'max_depth': 8, 'subsample': 1.0}, {'colsample_bytree': 0.6, 'max_depth': 10, 'subsample': 0.5}, {'colsample_bytree': 0.6, 'max_depth': 10, 'subsample': 0.75}, {'colsample_bytree': 0.6, 'max_depth': 10, 'subsample': 1.0}, {'colsample_bytree': 0.8, 'max_depth': 4, 'subsample': 0.5}, {'colsample_bytree': 0.8, 'max_depth': 4, 'subsample': 0.75}, {'colsample_bytree': 0.8, 'max_depth': 4, 'subsample': 1.0}, {'colsample_bytree': 0.8, 'max_depth': 6, 'subsample': 0.5}, {'colsample_bytree': 0.8, 'max_depth': 6, 'subsample': 0.75}, {'colsample_bytree': 0.8, 'max_depth': 6, 'subsample': 1.0}, {'colsample_bytree': 0.8, 'max_depth': 8, 'subsample': 0.5}, {'colsample_bytree': 0.8, 'max_depth': 8, 'subsample': 0.75}, {'colsample_bytree': 0.8, 'max_depth': 8, 'subsample': 1.0}, {'colsample_bytree': 0.8, 'max_depth': 10, 'subsample': 0.5}, {'colsample_bytree': 0.8, 'max_depth': 10, 'subsample': 0.75}, {'colsample_bytree': 0.8, 'max_depth': 10, 'subsample': 1.0}, {'colsample_bytree': 1.0, 'max_depth': 4, 'subsample': 0.5}, {'colsample_bytree': 1.0, 'max_depth': 4, 'subsample': 0.75}, {'colsample_bytree': 1.0, 'max_depth': 4, 'subsample': 1.0}, {'colsample_bytree': 1.0, 'max_depth': 6, 'subsample': 0.5}, {'colsample_bytree': 1.0, 'max_depth': 6, 'subsample': 0.75}, {'colsample_bytree': 1.0, 'max_depth': 6, 'subsample': 1.0}, {'colsample_bytree': 1.0, 'max_depth': 8, 'subsample': 0.5}, {'colsample_bytree': 1.0, 'max_depth': 8, 'subsample': 0.75}, {'colsample_bytree': 1.0, 'max_depth': 8, 'subsample': 1.0}, {'colsample_bytree': 1.0, 'max_depth': 10, 'subsample': 0.5}, {'colsample_bytree': 1.0, 'max_depth': 10, 'subsample': 0.75}, {'colsample_bytree': 1.0, 'max_depth': 10, 'subsample': 1.0}]\n",
      "36\n"
     ]
    }
   ],
   "source": [
    "n_trees = 110\n",
    "learning_rate = 0.045\n",
    "subsample = [0.5, 0.75, 1.0]\n",
    "colsample_bytree = [0.6, 0.8, 1.0]\n",
    "max_depth = [4,6,8,10]\n",
    "\n",
    "\n",
    "\n",
    "\n",
    "param_grid = {\n",
    "\n",
    "            'subsample': subsample,\n",
    "            'colsample_bytree': colsample_bytree,\n",
    "            'max_depth': max_depth\n",
    "    }\n",
    "\n",
    "grid_list = list(ParameterGrid(param_grid))\n",
    "grid_size = len(grid_list)\n",
    "    \n",
    "print(grid_list)\n",
    "print(len(grid_list))"
   ]
  },
  {
   "cell_type": "code",
   "execution_count": 90,
   "metadata": {},
   "outputs": [
    {
     "name": "stdout",
     "output_type": "stream",
     "text": [
      "parametres =  {'colsample_bytree': 0.6, 'max_depth': 4, 'subsample': 0.5}\n",
      "1 point 84847 84847.0\n",
      "2 point 3802538 84847.0\n",
      "3 point 3853008 34377.0\n",
      "AUQC 52913029433.46115\n"
     ]
    },
    {
     "name": "stderr",
     "output_type": "stream",
     "text": [
      "c:\\python38\\lib\\site-packages\\pandas\\core\\series.py:942: FutureWarning: \n",
      "Passing list-likes to .loc or [] with any missing label will raise\n",
      "KeyError in the future, you can use .reindex() as an alternative.\n",
      "\n",
      "See the documentation here:\n",
      "https://pandas.pydata.org/pandas-docs/stable/indexing.html#deprecate-loc-reindex-listlike\n",
      "  return self.loc[key]\n"
     ]
    },
    {
     "name": "stdout",
     "output_type": "stream",
     "text": [
      "uplift_30% nan\n",
      "1 point 84847 84847.0\n",
      "2 point 3802538 84847.0\n",
      "3 point 3853008 34377.0\n",
      "parametres =  {'colsample_bytree': 0.6, 'max_depth': 4, 'subsample': 0.75}\n",
      "1 point 84847 84847.0\n",
      "2 point 3802538 84847.0\n",
      "3 point 3853008 34377.0\n",
      "AUQC 53995211104.67258\n"
     ]
    },
    {
     "name": "stderr",
     "output_type": "stream",
     "text": [
      "c:\\python38\\lib\\site-packages\\pandas\\core\\series.py:942: FutureWarning: \n",
      "Passing list-likes to .loc or [] with any missing label will raise\n",
      "KeyError in the future, you can use .reindex() as an alternative.\n",
      "\n",
      "See the documentation here:\n",
      "https://pandas.pydata.org/pandas-docs/stable/indexing.html#deprecate-loc-reindex-listlike\n",
      "  return self.loc[key]\n"
     ]
    },
    {
     "name": "stdout",
     "output_type": "stream",
     "text": [
      "uplift_30% nan\n",
      "1 point 84847 84847.0\n",
      "2 point 3802538 84847.0\n",
      "3 point 3853008 34377.0\n",
      "parametres =  {'colsample_bytree': 0.6, 'max_depth': 4, 'subsample': 1.0}\n",
      "1 point 84847 84847.0\n",
      "2 point 3802538 84847.0\n",
      "3 point 3853008 34377.0\n",
      "AUQC 51912359917.31433\n"
     ]
    },
    {
     "name": "stderr",
     "output_type": "stream",
     "text": [
      "c:\\python38\\lib\\site-packages\\pandas\\core\\series.py:942: FutureWarning: \n",
      "Passing list-likes to .loc or [] with any missing label will raise\n",
      "KeyError in the future, you can use .reindex() as an alternative.\n",
      "\n",
      "See the documentation here:\n",
      "https://pandas.pydata.org/pandas-docs/stable/indexing.html#deprecate-loc-reindex-listlike\n",
      "  return self.loc[key]\n"
     ]
    },
    {
     "name": "stdout",
     "output_type": "stream",
     "text": [
      "uplift_30% nan\n",
      "parametres =  {'colsample_bytree': 0.6, 'max_depth': 6, 'subsample': 0.5}\n",
      "1 point 84847 84847.0\n",
      "2 point 3802538 84847.0\n",
      "3 point 3853008 34377.0\n",
      "AUQC 55198032921.506\n"
     ]
    },
    {
     "name": "stderr",
     "output_type": "stream",
     "text": [
      "c:\\python38\\lib\\site-packages\\pandas\\core\\series.py:942: FutureWarning: \n",
      "Passing list-likes to .loc or [] with any missing label will raise\n",
      "KeyError in the future, you can use .reindex() as an alternative.\n",
      "\n",
      "See the documentation here:\n",
      "https://pandas.pydata.org/pandas-docs/stable/indexing.html#deprecate-loc-reindex-listlike\n",
      "  return self.loc[key]\n"
     ]
    },
    {
     "name": "stdout",
     "output_type": "stream",
     "text": [
      "uplift_30% nan\n",
      "1 point 84847 84847.0\n",
      "2 point 3802538 84847.0\n",
      "3 point 3853008 34377.0\n",
      "parametres =  {'colsample_bytree': 0.6, 'max_depth': 6, 'subsample': 0.75}\n",
      "1 point 84847 84847.0\n",
      "2 point 3802538 84847.0\n",
      "3 point 3853008 34377.0\n",
      "AUQC 55554127478.03789\n"
     ]
    },
    {
     "name": "stderr",
     "output_type": "stream",
     "text": [
      "c:\\python38\\lib\\site-packages\\pandas\\core\\series.py:942: FutureWarning: \n",
      "Passing list-likes to .loc or [] with any missing label will raise\n",
      "KeyError in the future, you can use .reindex() as an alternative.\n",
      "\n",
      "See the documentation here:\n",
      "https://pandas.pydata.org/pandas-docs/stable/indexing.html#deprecate-loc-reindex-listlike\n",
      "  return self.loc[key]\n"
     ]
    },
    {
     "name": "stdout",
     "output_type": "stream",
     "text": [
      "uplift_30% nan\n",
      "1 point 84847 84847.0\n",
      "2 point 3802538 84847.0\n",
      "3 point 3853008 34377.0\n",
      "parametres =  {'colsample_bytree': 0.6, 'max_depth': 6, 'subsample': 1.0}\n",
      "1 point 84847 84847.0\n",
      "2 point 3802538 84847.0\n",
      "3 point 3853008 34377.0\n",
      "AUQC 55666619444.962555\n"
     ]
    },
    {
     "name": "stderr",
     "output_type": "stream",
     "text": [
      "c:\\python38\\lib\\site-packages\\pandas\\core\\series.py:942: FutureWarning: \n",
      "Passing list-likes to .loc or [] with any missing label will raise\n",
      "KeyError in the future, you can use .reindex() as an alternative.\n",
      "\n",
      "See the documentation here:\n",
      "https://pandas.pydata.org/pandas-docs/stable/indexing.html#deprecate-loc-reindex-listlike\n",
      "  return self.loc[key]\n"
     ]
    },
    {
     "name": "stdout",
     "output_type": "stream",
     "text": [
      "uplift_30% nan\n",
      "1 point 84847 84847.0\n",
      "2 point 3802538 84847.0\n",
      "3 point 3853008 34377.0\n",
      "parametres =  {'colsample_bytree': 0.6, 'max_depth': 8, 'subsample': 0.5}\n",
      "1 point 84847 84847.0\n",
      "2 point 3802538 84847.0\n",
      "3 point 3853008 34377.0\n",
      "AUQC 54128385583.5511\n"
     ]
    },
    {
     "name": "stderr",
     "output_type": "stream",
     "text": [
      "c:\\python38\\lib\\site-packages\\pandas\\core\\series.py:942: FutureWarning: \n",
      "Passing list-likes to .loc or [] with any missing label will raise\n",
      "KeyError in the future, you can use .reindex() as an alternative.\n",
      "\n",
      "See the documentation here:\n",
      "https://pandas.pydata.org/pandas-docs/stable/indexing.html#deprecate-loc-reindex-listlike\n",
      "  return self.loc[key]\n"
     ]
    },
    {
     "name": "stdout",
     "output_type": "stream",
     "text": [
      "uplift_30% nan\n",
      "parametres =  {'colsample_bytree': 0.6, 'max_depth': 8, 'subsample': 0.75}\n",
      "1 point 84847 84847.0\n",
      "2 point 3802538 84847.0\n",
      "3 point 3853008 34377.0\n",
      "AUQC 53830473702.22897\n"
     ]
    },
    {
     "name": "stderr",
     "output_type": "stream",
     "text": [
      "c:\\python38\\lib\\site-packages\\pandas\\core\\series.py:942: FutureWarning: \n",
      "Passing list-likes to .loc or [] with any missing label will raise\n",
      "KeyError in the future, you can use .reindex() as an alternative.\n",
      "\n",
      "See the documentation here:\n",
      "https://pandas.pydata.org/pandas-docs/stable/indexing.html#deprecate-loc-reindex-listlike\n",
      "  return self.loc[key]\n"
     ]
    },
    {
     "name": "stdout",
     "output_type": "stream",
     "text": [
      "uplift_30% nan\n",
      "parametres =  {'colsample_bytree': 0.6, 'max_depth': 8, 'subsample': 1.0}\n",
      "1 point 84847 84847.0\n",
      "2 point 3802538 84847.0\n",
      "3 point 3853008 34377.0\n",
      "AUQC 54925257785.843445\n"
     ]
    },
    {
     "name": "stderr",
     "output_type": "stream",
     "text": [
      "c:\\python38\\lib\\site-packages\\pandas\\core\\series.py:942: FutureWarning: \n",
      "Passing list-likes to .loc or [] with any missing label will raise\n",
      "KeyError in the future, you can use .reindex() as an alternative.\n",
      "\n",
      "See the documentation here:\n",
      "https://pandas.pydata.org/pandas-docs/stable/indexing.html#deprecate-loc-reindex-listlike\n",
      "  return self.loc[key]\n"
     ]
    },
    {
     "name": "stdout",
     "output_type": "stream",
     "text": [
      "uplift_30% nan\n",
      "parametres =  {'colsample_bytree': 0.6, 'max_depth': 10, 'subsample': 0.5}\n",
      "1 point 84847 84847.0\n",
      "2 point 3802538 84847.0\n",
      "3 point 3853008 34377.0\n",
      "AUQC 52716673379.07123\n"
     ]
    },
    {
     "name": "stderr",
     "output_type": "stream",
     "text": [
      "c:\\python38\\lib\\site-packages\\pandas\\core\\series.py:942: FutureWarning: \n",
      "Passing list-likes to .loc or [] with any missing label will raise\n",
      "KeyError in the future, you can use .reindex() as an alternative.\n",
      "\n",
      "See the documentation here:\n",
      "https://pandas.pydata.org/pandas-docs/stable/indexing.html#deprecate-loc-reindex-listlike\n",
      "  return self.loc[key]\n"
     ]
    },
    {
     "name": "stdout",
     "output_type": "stream",
     "text": [
      "uplift_30% nan\n",
      "parametres =  {'colsample_bytree': 0.6, 'max_depth': 10, 'subsample': 0.75}\n",
      "1 point 84847 84847.0\n",
      "2 point 3802538 84847.0\n",
      "3 point 3853008 34377.0\n",
      "AUQC 52593791991.291626\n"
     ]
    },
    {
     "name": "stderr",
     "output_type": "stream",
     "text": [
      "c:\\python38\\lib\\site-packages\\pandas\\core\\series.py:942: FutureWarning: \n",
      "Passing list-likes to .loc or [] with any missing label will raise\n",
      "KeyError in the future, you can use .reindex() as an alternative.\n",
      "\n",
      "See the documentation here:\n",
      "https://pandas.pydata.org/pandas-docs/stable/indexing.html#deprecate-loc-reindex-listlike\n",
      "  return self.loc[key]\n"
     ]
    },
    {
     "name": "stdout",
     "output_type": "stream",
     "text": [
      "uplift_30% nan\n",
      "parametres =  {'colsample_bytree': 0.6, 'max_depth': 10, 'subsample': 1.0}\n",
      "1 point 84847 84847.0\n",
      "2 point 3802538 84847.0\n",
      "3 point 3853008 34377.0\n",
      "AUQC 53471874288.03606\n"
     ]
    },
    {
     "name": "stderr",
     "output_type": "stream",
     "text": [
      "c:\\python38\\lib\\site-packages\\pandas\\core\\series.py:942: FutureWarning: \n",
      "Passing list-likes to .loc or [] with any missing label will raise\n",
      "KeyError in the future, you can use .reindex() as an alternative.\n",
      "\n",
      "See the documentation here:\n",
      "https://pandas.pydata.org/pandas-docs/stable/indexing.html#deprecate-loc-reindex-listlike\n",
      "  return self.loc[key]\n"
     ]
    },
    {
     "name": "stdout",
     "output_type": "stream",
     "text": [
      "uplift_30% nan\n",
      "parametres =  {'colsample_bytree': 0.8, 'max_depth': 4, 'subsample': 0.5}\n",
      "1 point 84847 84847.0\n",
      "2 point 3802538 84847.0\n",
      "3 point 3853008 34377.0\n",
      "AUQC 52223361240.23427\n"
     ]
    },
    {
     "name": "stderr",
     "output_type": "stream",
     "text": [
      "c:\\python38\\lib\\site-packages\\pandas\\core\\series.py:942: FutureWarning: \n",
      "Passing list-likes to .loc or [] with any missing label will raise\n",
      "KeyError in the future, you can use .reindex() as an alternative.\n",
      "\n",
      "See the documentation here:\n",
      "https://pandas.pydata.org/pandas-docs/stable/indexing.html#deprecate-loc-reindex-listlike\n",
      "  return self.loc[key]\n"
     ]
    },
    {
     "name": "stdout",
     "output_type": "stream",
     "text": [
      "uplift_30% nan\n",
      "parametres =  {'colsample_bytree': 0.8, 'max_depth': 4, 'subsample': 0.75}\n",
      "1 point 84847 84847.0\n",
      "2 point 3802538 84847.0\n",
      "3 point 3853008 34377.0\n",
      "AUQC 52783105667.84053\n"
     ]
    },
    {
     "name": "stderr",
     "output_type": "stream",
     "text": [
      "c:\\python38\\lib\\site-packages\\pandas\\core\\series.py:942: FutureWarning: \n",
      "Passing list-likes to .loc or [] with any missing label will raise\n",
      "KeyError in the future, you can use .reindex() as an alternative.\n",
      "\n",
      "See the documentation here:\n",
      "https://pandas.pydata.org/pandas-docs/stable/indexing.html#deprecate-loc-reindex-listlike\n",
      "  return self.loc[key]\n"
     ]
    },
    {
     "name": "stdout",
     "output_type": "stream",
     "text": [
      "uplift_30% nan\n",
      "parametres =  {'colsample_bytree': 0.8, 'max_depth': 4, 'subsample': 1.0}\n",
      "1 point 84847 84847.0\n",
      "2 point 3802538 84847.0\n",
      "3 point 3853008 34377.0\n",
      "AUQC 50776096564.44586\n"
     ]
    },
    {
     "name": "stderr",
     "output_type": "stream",
     "text": [
      "c:\\python38\\lib\\site-packages\\pandas\\core\\series.py:942: FutureWarning: \n",
      "Passing list-likes to .loc or [] with any missing label will raise\n",
      "KeyError in the future, you can use .reindex() as an alternative.\n",
      "\n",
      "See the documentation here:\n",
      "https://pandas.pydata.org/pandas-docs/stable/indexing.html#deprecate-loc-reindex-listlike\n",
      "  return self.loc[key]\n"
     ]
    },
    {
     "name": "stdout",
     "output_type": "stream",
     "text": [
      "uplift_30% nan\n",
      "parametres =  {'colsample_bytree': 0.8, 'max_depth': 6, 'subsample': 0.5}\n",
      "1 point 84847 84847.0\n",
      "2 point 3802538 84847.0\n",
      "3 point 3853008 34377.0\n",
      "AUQC 56171911348.34599\n"
     ]
    },
    {
     "name": "stderr",
     "output_type": "stream",
     "text": [
      "c:\\python38\\lib\\site-packages\\pandas\\core\\series.py:942: FutureWarning: \n",
      "Passing list-likes to .loc or [] with any missing label will raise\n",
      "KeyError in the future, you can use .reindex() as an alternative.\n",
      "\n",
      "See the documentation here:\n",
      "https://pandas.pydata.org/pandas-docs/stable/indexing.html#deprecate-loc-reindex-listlike\n",
      "  return self.loc[key]\n"
     ]
    },
    {
     "name": "stdout",
     "output_type": "stream",
     "text": [
      "uplift_30% nan\n",
      "1 point 84847 84847.0\n",
      "2 point 3802538 84847.0\n",
      "3 point 3853008 34377.0\n",
      "parametres =  {'colsample_bytree': 0.8, 'max_depth': 6, 'subsample': 0.75}\n",
      "1 point 84847 84847.0\n",
      "2 point 3802538 84847.0\n",
      "3 point 3853008 34377.0\n",
      "AUQC 56161655976.58566\n"
     ]
    },
    {
     "name": "stderr",
     "output_type": "stream",
     "text": [
      "c:\\python38\\lib\\site-packages\\pandas\\core\\series.py:942: FutureWarning: \n",
      "Passing list-likes to .loc or [] with any missing label will raise\n",
      "KeyError in the future, you can use .reindex() as an alternative.\n",
      "\n",
      "See the documentation here:\n",
      "https://pandas.pydata.org/pandas-docs/stable/indexing.html#deprecate-loc-reindex-listlike\n",
      "  return self.loc[key]\n"
     ]
    },
    {
     "name": "stdout",
     "output_type": "stream",
     "text": [
      "uplift_30% nan\n",
      "parametres =  {'colsample_bytree': 0.8, 'max_depth': 6, 'subsample': 1.0}\n",
      "1 point 84847 84847.0\n",
      "2 point 3802538 84847.0\n",
      "3 point 3853008 34377.0\n",
      "AUQC 55666333025.73921\n"
     ]
    },
    {
     "name": "stderr",
     "output_type": "stream",
     "text": [
      "c:\\python38\\lib\\site-packages\\pandas\\core\\series.py:942: FutureWarning: \n",
      "Passing list-likes to .loc or [] with any missing label will raise\n",
      "KeyError in the future, you can use .reindex() as an alternative.\n",
      "\n",
      "See the documentation here:\n",
      "https://pandas.pydata.org/pandas-docs/stable/indexing.html#deprecate-loc-reindex-listlike\n",
      "  return self.loc[key]\n"
     ]
    },
    {
     "name": "stdout",
     "output_type": "stream",
     "text": [
      "uplift_30% nan\n",
      "parametres =  {'colsample_bytree': 0.8, 'max_depth': 8, 'subsample': 0.5}\n",
      "1 point 84847 84847.0\n",
      "2 point 3802538 84847.0\n",
      "3 point 3853008 34377.0\n",
      "AUQC 54548326649.982864\n"
     ]
    },
    {
     "name": "stderr",
     "output_type": "stream",
     "text": [
      "c:\\python38\\lib\\site-packages\\pandas\\core\\series.py:942: FutureWarning: \n",
      "Passing list-likes to .loc or [] with any missing label will raise\n",
      "KeyError in the future, you can use .reindex() as an alternative.\n",
      "\n",
      "See the documentation here:\n",
      "https://pandas.pydata.org/pandas-docs/stable/indexing.html#deprecate-loc-reindex-listlike\n",
      "  return self.loc[key]\n"
     ]
    },
    {
     "name": "stdout",
     "output_type": "stream",
     "text": [
      "uplift_30% nan\n",
      "parametres =  {'colsample_bytree': 0.8, 'max_depth': 8, 'subsample': 0.75}\n",
      "1 point 84847 84847.0\n",
      "2 point 3802538 84847.0\n",
      "3 point 3853008 34377.0\n",
      "AUQC 54769916808.67967\n"
     ]
    },
    {
     "name": "stderr",
     "output_type": "stream",
     "text": [
      "c:\\python38\\lib\\site-packages\\pandas\\core\\series.py:942: FutureWarning: \n",
      "Passing list-likes to .loc or [] with any missing label will raise\n",
      "KeyError in the future, you can use .reindex() as an alternative.\n",
      "\n",
      "See the documentation here:\n",
      "https://pandas.pydata.org/pandas-docs/stable/indexing.html#deprecate-loc-reindex-listlike\n",
      "  return self.loc[key]\n"
     ]
    },
    {
     "name": "stdout",
     "output_type": "stream",
     "text": [
      "uplift_30% nan\n",
      "parametres =  {'colsample_bytree': 0.8, 'max_depth': 8, 'subsample': 1.0}\n",
      "1 point 84847 84847.0\n",
      "2 point 3802538 84847.0\n",
      "3 point 3853008 34377.0\n",
      "AUQC 54762119044.32576\n"
     ]
    },
    {
     "name": "stderr",
     "output_type": "stream",
     "text": [
      "c:\\python38\\lib\\site-packages\\pandas\\core\\series.py:942: FutureWarning: \n",
      "Passing list-likes to .loc or [] with any missing label will raise\n",
      "KeyError in the future, you can use .reindex() as an alternative.\n",
      "\n",
      "See the documentation here:\n",
      "https://pandas.pydata.org/pandas-docs/stable/indexing.html#deprecate-loc-reindex-listlike\n",
      "  return self.loc[key]\n"
     ]
    },
    {
     "name": "stdout",
     "output_type": "stream",
     "text": [
      "uplift_30% nan\n",
      "parametres =  {'colsample_bytree': 0.8, 'max_depth': 10, 'subsample': 0.5}\n",
      "1 point 84847 84847.0\n",
      "2 point 3802538 84847.0\n",
      "3 point 3853008 34377.0\n",
      "AUQC 52905654001.905655\n"
     ]
    },
    {
     "name": "stderr",
     "output_type": "stream",
     "text": [
      "c:\\python38\\lib\\site-packages\\pandas\\core\\series.py:942: FutureWarning: \n",
      "Passing list-likes to .loc or [] with any missing label will raise\n",
      "KeyError in the future, you can use .reindex() as an alternative.\n",
      "\n",
      "See the documentation here:\n",
      "https://pandas.pydata.org/pandas-docs/stable/indexing.html#deprecate-loc-reindex-listlike\n",
      "  return self.loc[key]\n"
     ]
    },
    {
     "name": "stdout",
     "output_type": "stream",
     "text": [
      "uplift_30% nan\n",
      "parametres =  {'colsample_bytree': 0.8, 'max_depth': 10, 'subsample': 0.75}\n",
      "1 point 84847 84847.0\n",
      "2 point 3802538 84847.0\n",
      "3 point 3853008 34377.0\n",
      "AUQC 51813990994.74338\n"
     ]
    },
    {
     "name": "stderr",
     "output_type": "stream",
     "text": [
      "c:\\python38\\lib\\site-packages\\pandas\\core\\series.py:942: FutureWarning: \n",
      "Passing list-likes to .loc or [] with any missing label will raise\n",
      "KeyError in the future, you can use .reindex() as an alternative.\n",
      "\n",
      "See the documentation here:\n",
      "https://pandas.pydata.org/pandas-docs/stable/indexing.html#deprecate-loc-reindex-listlike\n",
      "  return self.loc[key]\n"
     ]
    },
    {
     "name": "stdout",
     "output_type": "stream",
     "text": [
      "uplift_30% nan\n",
      "parametres =  {'colsample_bytree': 0.8, 'max_depth': 10, 'subsample': 1.0}\n",
      "1 point 84847 84847.0\n",
      "2 point 3802538 84847.0\n",
      "3 point 3853008 34377.0\n",
      "AUQC 52362736811.71962\n"
     ]
    },
    {
     "name": "stderr",
     "output_type": "stream",
     "text": [
      "c:\\python38\\lib\\site-packages\\pandas\\core\\series.py:942: FutureWarning: \n",
      "Passing list-likes to .loc or [] with any missing label will raise\n",
      "KeyError in the future, you can use .reindex() as an alternative.\n",
      "\n",
      "See the documentation here:\n",
      "https://pandas.pydata.org/pandas-docs/stable/indexing.html#deprecate-loc-reindex-listlike\n",
      "  return self.loc[key]\n"
     ]
    },
    {
     "name": "stdout",
     "output_type": "stream",
     "text": [
      "uplift_30% nan\n",
      "parametres =  {'colsample_bytree': 1.0, 'max_depth': 4, 'subsample': 0.5}\n",
      "1 point 84847 84847.0\n",
      "2 point 3802538 84847.0\n",
      "3 point 3853008 34377.0\n",
      "AUQC 49088193934.73172\n"
     ]
    },
    {
     "name": "stderr",
     "output_type": "stream",
     "text": [
      "c:\\python38\\lib\\site-packages\\pandas\\core\\series.py:942: FutureWarning: \n",
      "Passing list-likes to .loc or [] with any missing label will raise\n",
      "KeyError in the future, you can use .reindex() as an alternative.\n",
      "\n",
      "See the documentation here:\n",
      "https://pandas.pydata.org/pandas-docs/stable/indexing.html#deprecate-loc-reindex-listlike\n",
      "  return self.loc[key]\n"
     ]
    },
    {
     "name": "stdout",
     "output_type": "stream",
     "text": [
      "uplift_30% nan\n",
      "parametres =  {'colsample_bytree': 1.0, 'max_depth': 4, 'subsample': 0.75}\n",
      "1 point 84847 84847.0\n",
      "2 point 3802538 84847.0\n",
      "3 point 3853008 34377.0\n",
      "AUQC 50573853675.883575\n"
     ]
    },
    {
     "name": "stderr",
     "output_type": "stream",
     "text": [
      "c:\\python38\\lib\\site-packages\\pandas\\core\\series.py:942: FutureWarning: \n",
      "Passing list-likes to .loc or [] with any missing label will raise\n",
      "KeyError in the future, you can use .reindex() as an alternative.\n",
      "\n",
      "See the documentation here:\n",
      "https://pandas.pydata.org/pandas-docs/stable/indexing.html#deprecate-loc-reindex-listlike\n",
      "  return self.loc[key]\n"
     ]
    },
    {
     "name": "stdout",
     "output_type": "stream",
     "text": [
      "uplift_30% nan\n",
      "parametres =  {'colsample_bytree': 1.0, 'max_depth': 4, 'subsample': 1.0}\n",
      "1 point 84847 84847.0\n",
      "2 point 3802538 84847.0\n",
      "3 point 3853008 34377.0\n",
      "AUQC 50843100190.32732\n"
     ]
    },
    {
     "name": "stderr",
     "output_type": "stream",
     "text": [
      "c:\\python38\\lib\\site-packages\\pandas\\core\\series.py:942: FutureWarning: \n",
      "Passing list-likes to .loc or [] with any missing label will raise\n",
      "KeyError in the future, you can use .reindex() as an alternative.\n",
      "\n",
      "See the documentation here:\n",
      "https://pandas.pydata.org/pandas-docs/stable/indexing.html#deprecate-loc-reindex-listlike\n",
      "  return self.loc[key]\n"
     ]
    },
    {
     "name": "stdout",
     "output_type": "stream",
     "text": [
      "uplift_30% nan\n",
      "parametres =  {'colsample_bytree': 1.0, 'max_depth': 6, 'subsample': 0.5}\n",
      "1 point 84847 84847.0\n",
      "2 point 3802538 84847.0\n",
      "3 point 3853008 34377.0\n",
      "AUQC 55903036235.90282\n"
     ]
    },
    {
     "name": "stderr",
     "output_type": "stream",
     "text": [
      "c:\\python38\\lib\\site-packages\\pandas\\core\\series.py:942: FutureWarning: \n",
      "Passing list-likes to .loc or [] with any missing label will raise\n",
      "KeyError in the future, you can use .reindex() as an alternative.\n",
      "\n",
      "See the documentation here:\n",
      "https://pandas.pydata.org/pandas-docs/stable/indexing.html#deprecate-loc-reindex-listlike\n",
      "  return self.loc[key]\n"
     ]
    },
    {
     "name": "stdout",
     "output_type": "stream",
     "text": [
      "uplift_30% nan\n",
      "parametres =  {'colsample_bytree': 1.0, 'max_depth': 6, 'subsample': 0.75}\n",
      "1 point 84847 84847.0\n",
      "2 point 3802538 84847.0\n",
      "3 point 3853008 34377.0\n",
      "AUQC 56995854802.78618\n"
     ]
    },
    {
     "name": "stderr",
     "output_type": "stream",
     "text": [
      "c:\\python38\\lib\\site-packages\\pandas\\core\\series.py:942: FutureWarning: \n",
      "Passing list-likes to .loc or [] with any missing label will raise\n",
      "KeyError in the future, you can use .reindex() as an alternative.\n",
      "\n",
      "See the documentation here:\n",
      "https://pandas.pydata.org/pandas-docs/stable/indexing.html#deprecate-loc-reindex-listlike\n",
      "  return self.loc[key]\n"
     ]
    },
    {
     "name": "stdout",
     "output_type": "stream",
     "text": [
      "uplift_30% nan\n",
      "1 point 84847 84847.0\n",
      "2 point 3802538 84847.0\n",
      "3 point 3853008 34377.0\n",
      "parametres =  {'colsample_bytree': 1.0, 'max_depth': 6, 'subsample': 1.0}\n",
      "1 point 84847 84847.0\n",
      "2 point 3802538 84847.0\n",
      "3 point 3853008 34377.0\n",
      "AUQC 56885135770.23901\n"
     ]
    },
    {
     "name": "stderr",
     "output_type": "stream",
     "text": [
      "c:\\python38\\lib\\site-packages\\pandas\\core\\series.py:942: FutureWarning: \n",
      "Passing list-likes to .loc or [] with any missing label will raise\n",
      "KeyError in the future, you can use .reindex() as an alternative.\n",
      "\n",
      "See the documentation here:\n",
      "https://pandas.pydata.org/pandas-docs/stable/indexing.html#deprecate-loc-reindex-listlike\n",
      "  return self.loc[key]\n"
     ]
    },
    {
     "name": "stdout",
     "output_type": "stream",
     "text": [
      "uplift_30% nan\n",
      "parametres =  {'colsample_bytree': 1.0, 'max_depth': 8, 'subsample': 0.5}\n",
      "1 point 84847 84847.0\n",
      "2 point 3802538 84847.0\n",
      "3 point 3853008 34377.0\n",
      "AUQC 55120978549.44447\n"
     ]
    },
    {
     "name": "stderr",
     "output_type": "stream",
     "text": [
      "c:\\python38\\lib\\site-packages\\pandas\\core\\series.py:942: FutureWarning: \n",
      "Passing list-likes to .loc or [] with any missing label will raise\n",
      "KeyError in the future, you can use .reindex() as an alternative.\n",
      "\n",
      "See the documentation here:\n",
      "https://pandas.pydata.org/pandas-docs/stable/indexing.html#deprecate-loc-reindex-listlike\n",
      "  return self.loc[key]\n"
     ]
    },
    {
     "name": "stdout",
     "output_type": "stream",
     "text": [
      "uplift_30% nan\n",
      "parametres =  {'colsample_bytree': 1.0, 'max_depth': 8, 'subsample': 0.75}\n",
      "1 point 84847 84847.0\n",
      "2 point 3802538 84847.0\n",
      "3 point 3853008 34377.0\n",
      "AUQC 55700837096.345535\n"
     ]
    },
    {
     "name": "stderr",
     "output_type": "stream",
     "text": [
      "c:\\python38\\lib\\site-packages\\pandas\\core\\series.py:942: FutureWarning: \n",
      "Passing list-likes to .loc or [] with any missing label will raise\n",
      "KeyError in the future, you can use .reindex() as an alternative.\n",
      "\n",
      "See the documentation here:\n",
      "https://pandas.pydata.org/pandas-docs/stable/indexing.html#deprecate-loc-reindex-listlike\n",
      "  return self.loc[key]\n"
     ]
    },
    {
     "name": "stdout",
     "output_type": "stream",
     "text": [
      "uplift_30% nan\n",
      "parametres =  {'colsample_bytree': 1.0, 'max_depth': 8, 'subsample': 1.0}\n",
      "1 point 84847 84847.0\n",
      "2 point 3802538 84847.0\n",
      "3 point 3853008 34377.0\n",
      "AUQC 56312382581.118546\n"
     ]
    },
    {
     "name": "stderr",
     "output_type": "stream",
     "text": [
      "c:\\python38\\lib\\site-packages\\pandas\\core\\series.py:942: FutureWarning: \n",
      "Passing list-likes to .loc or [] with any missing label will raise\n",
      "KeyError in the future, you can use .reindex() as an alternative.\n",
      "\n",
      "See the documentation here:\n",
      "https://pandas.pydata.org/pandas-docs/stable/indexing.html#deprecate-loc-reindex-listlike\n",
      "  return self.loc[key]\n"
     ]
    },
    {
     "name": "stdout",
     "output_type": "stream",
     "text": [
      "uplift_30% nan\n",
      "parametres =  {'colsample_bytree': 1.0, 'max_depth': 10, 'subsample': 0.5}\n",
      "1 point 84847 84847.0\n",
      "2 point 3802538 84847.0\n",
      "3 point 3853008 34377.0\n",
      "AUQC 51850860899.89613\n"
     ]
    },
    {
     "name": "stderr",
     "output_type": "stream",
     "text": [
      "c:\\python38\\lib\\site-packages\\pandas\\core\\series.py:942: FutureWarning: \n",
      "Passing list-likes to .loc or [] with any missing label will raise\n",
      "KeyError in the future, you can use .reindex() as an alternative.\n",
      "\n",
      "See the documentation here:\n",
      "https://pandas.pydata.org/pandas-docs/stable/indexing.html#deprecate-loc-reindex-listlike\n",
      "  return self.loc[key]\n"
     ]
    },
    {
     "name": "stdout",
     "output_type": "stream",
     "text": [
      "uplift_30% nan\n",
      "parametres =  {'colsample_bytree': 1.0, 'max_depth': 10, 'subsample': 0.75}\n",
      "1 point 84847 84847.0\n",
      "2 point 3802538 84847.0\n",
      "3 point 3853008 34377.0\n",
      "AUQC 52564150640.238495\n"
     ]
    },
    {
     "name": "stderr",
     "output_type": "stream",
     "text": [
      "c:\\python38\\lib\\site-packages\\pandas\\core\\series.py:942: FutureWarning: \n",
      "Passing list-likes to .loc or [] with any missing label will raise\n",
      "KeyError in the future, you can use .reindex() as an alternative.\n",
      "\n",
      "See the documentation here:\n",
      "https://pandas.pydata.org/pandas-docs/stable/indexing.html#deprecate-loc-reindex-listlike\n",
      "  return self.loc[key]\n"
     ]
    },
    {
     "name": "stdout",
     "output_type": "stream",
     "text": [
      "uplift_30% nan\n",
      "parametres =  {'colsample_bytree': 1.0, 'max_depth': 10, 'subsample': 1.0}\n",
      "1 point 84847 84847.0\n",
      "2 point 3802538 84847.0\n",
      "3 point 3853008 34377.0\n",
      "AUQC 50920346146.012695\n"
     ]
    },
    {
     "name": "stderr",
     "output_type": "stream",
     "text": [
      "c:\\python38\\lib\\site-packages\\pandas\\core\\series.py:942: FutureWarning: \n",
      "Passing list-likes to .loc or [] with any missing label will raise\n",
      "KeyError in the future, you can use .reindex() as an alternative.\n",
      "\n",
      "See the documentation here:\n",
      "https://pandas.pydata.org/pandas-docs/stable/indexing.html#deprecate-loc-reindex-listlike\n",
      "  return self.loc[key]\n"
     ]
    },
    {
     "name": "stdout",
     "output_type": "stream",
     "text": [
      "uplift_30% nan\n"
     ]
    },
    {
     "data": {
      "image/png": "[encoded data removed]",
      "text/plain": [
       "<Figure size 432x288 with 1 Axes>"
      ]
     },
     "metadata": {
      "needs_background": "light"
     },
     "output_type": "display_data"
    }
   ],
   "source": [
    "from uplift.models import SoloModel\n",
    "import xgboost as xgb\n",
    "from uplift.vizualization import  plot_qini_curve\n",
    "\n",
    "scoring_solo = []\n",
    "best_res = 0\n",
    " \n",
    "for params in grid_list:\n",
    "    print(\"parametres = \",params)\n",
    "    clf = xgb.XGBClassifier(learning_rate = learning_rate, max_depth=params['max_depth'], \n",
    "                                      n_estimators=n_trees,subsample = params['subsample'] , colsample_bytree= params['colsample_bytree'])  \n",
    "    sm = SoloModel(clf)\n",
    "    sm = sm.fit(train_features, target_train, treatment_train)\n",
    "    uplift_sm = sm.predict(test_features)\n",
    "    plot_qini_curve(target_test,uplift_sm, treatment_test)\n",
    "    cur_res = qini_auc_score(target_test,uplift_sm, treatment_test)\n",
    "    print(\"AUQC\",cur_res)\n",
    "    print(\"uplift_30%\",uplift_at_k(target_test,uplift_sm, treatment_test))\n",
    "    scoring_solo.append(cur_res)\n",
    "    if cur_res > best_res:\n",
    "        best_res = cur_res\n",
    "        best_param = params\n",
    "        plot_qini_curve(target_test,uplift_sm, treatment_test)"
   ]
  },
  {
   "cell_type": "code",
   "execution_count": 92,
   "metadata": {},
   "outputs": [
    {
     "name": "stdout",
     "output_type": "stream",
     "text": [
      "best AUQC =  56995854802.78618 on parametr: {'colsample_bytree': 1.0, 'max_depth': 6, 'subsample': 0.75}\n"
     ]
    }
   ],
   "source": [
    "print(\"best AUQC = \",best_res,\"on parametr:\",best_param)"
   ]
  },
  {
   "cell_type": "code",
   "execution_count": 93,
   "metadata": {},
   "outputs": [
    {
     "data": {
      "text/plain": [
       "<matplotlib.legend.Legend at 0x13ba15c4460>"
      ]
     },
     "execution_count": 93,
     "metadata": {},
     "output_type": "execute_result"
    },
    {
     "data": {
      "image/png": "[encoded data removed]",
      "text/plain": [
       "<Figure size 432x288 with 1 Axes>"
      ]
     },
     "metadata": {
      "needs_background": "light"
     },
     "output_type": "display_data"
    }
   ],
   "source": [
    "x_axis = [i for i in range(0,36)]\n",
    "pylab.plot(x_axis, scoring_solo, marker='.', label='Solo model')\n",
    "pylab.grid(True)\n",
    "pylab.xlabel('params')\n",
    "pylab.ylabel('auqc')\n",
    "pylab.title('Accuracy score')\n",
    "pylab.legend(loc='lower right')\n"
   ]
  },
  {
   "cell_type": "code",
   "execution_count": 94,
   "metadata": {},
   "outputs": [
    {
     "name": "stdout",
     "output_type": "stream",
     "text": [
      "0\n",
      "12\n",
      "24\n",
      "[[5.29130294e+10 5.39952111e+10 5.19123599e+10]\n",
      " [5.22233612e+10 5.27831057e+10 5.07760966e+10]\n",
      " [4.90881939e+10 5.05738537e+10 5.08431002e+10]]\n",
      "3\n",
      "15\n",
      "27\n",
      "[[5.51980329e+10 5.55541275e+10 5.56666194e+10]\n",
      " [5.61719113e+10 5.61616560e+10 5.56663330e+10]\n",
      " [5.59030362e+10 5.69958548e+10 5.68851358e+10]]\n",
      "6\n",
      "18\n",
      "30\n",
      "[[5.41283856e+10 5.38304737e+10 5.49252578e+10]\n",
      " [5.45483266e+10 5.47699168e+10 5.47621190e+10]\n",
      " [5.51209785e+10 5.57008371e+10 5.63123826e+10]]\n",
      "9\n",
      "21\n",
      "33\n",
      "[[5.27166734e+10 5.25937920e+10 5.34718743e+10]\n",
      " [5.29056540e+10 5.18139910e+10 5.23627368e+10]\n",
      " [5.18508609e+10 5.25641506e+10 5.09203461e+10]]\n"
     ]
    },
    {
     "data": {
      "text/plain": [
       "<matplotlib.colorbar.Colorbar at 0x13c86de76a0>"
      ]
     },
     "execution_count": 94,
     "metadata": {},
     "output_type": "execute_result"
    },
    {
     "data": {
      "image/png": "[encoded data removed]",
      "text/plain": [
       "<Figure size 432x288 with 2 Axes>"
      ]
     },
     "metadata": {
      "needs_background": "light"
     },
     "output_type": "display_data"
    },
    {
     "data": {
      "image/png": "[encoded data removed]",
      "text/plain": [
       "<Figure size 432x288 with 2 Axes>"
      ]
     },
     "metadata": {
      "needs_background": "light"
     },
     "output_type": "display_data"
    },
    {
     "data": {
      "image/png": "[encoded data removed]",
      "text/plain": [
       "<Figure size 432x288 with 2 Axes>"
      ]
     },
     "metadata": {
      "needs_background": "light"
     },
     "output_type": "display_data"
    },
    {
     "data": {
      "image/png": "[encoded data removed]",
      "text/plain": [
       "<Figure size 432x288 with 2 Axes>"
      ]
     },
     "metadata": {
      "needs_background": "light"
     },
     "output_type": "display_data"
    }
   ],
   "source": [
    "\n",
    "np_scoring_solo = np.array(scoring_solo)\n",
    "colsample_subsample_depth4_solo = []\n",
    "for i in range(0,36,12):\n",
    "    print(i)\n",
    "    colsample_subsample_depth4_solo.append(np_scoring_solo[i])\n",
    "    colsample_subsample_depth4_solo.append(np_scoring_solo[i+1])\n",
    "    colsample_subsample_depth4_solo.append(np_scoring_solo[i+2])\n",
    "    \n",
    "colsample_subsample_depth4_solo = np.array(colsample_subsample_depth4_solo).reshape(3,3)\n",
    "print(colsample_subsample_depth4_solo)\n",
    "\n",
    "\n",
    "fig, ax = plt.subplots()\n",
    "\n",
    "img = ax.imshow(colsample_subsample_depth4_solo)\n",
    "\n",
    "x_label_list = ['0.5', '0.75', '1.0']\n",
    "\n",
    "ax.set_xticks(np.arange(3))\n",
    "ax.set_yticks(np.arange(3))\n",
    "\n",
    "ax.set_xticklabels(x_label_list)\n",
    "\n",
    "y_label_list = ['0.6', '0.8', '1.0']\n",
    "\n",
    "\n",
    "ax.set_yticklabels(y_label_list)\n",
    "plt.ylabel('colsample_bytree')\n",
    "plt.xlabel('sub_sample')\n",
    "plt.title('AUQC max_depth = 4')\n",
    "\n",
    "fig.colorbar(img)\n",
    "\n",
    "#____________________________________________________________________\n",
    "\n",
    "\n",
    "colsample_subsample_depth6_solo = []\n",
    "for i in range(3,36,12):\n",
    "    print(i)\n",
    "    colsample_subsample_depth6_solo.append(np_scoring_solo[i])\n",
    "    colsample_subsample_depth6_solo.append(np_scoring_solo[i+1])\n",
    "    colsample_subsample_depth6_solo.append(np_scoring_solo[i+2])\n",
    "    \n",
    "colsample_subsample_depth6_solo = np.array(colsample_subsample_depth6_solo).reshape(3,3)\n",
    "print(colsample_subsample_depth6_solo)\n",
    "\n",
    "\n",
    "fig, ax = plt.subplots()\n",
    "\n",
    "img = ax.imshow(colsample_subsample_depth6_solo)\n",
    "\n",
    "x_label_list = ['0.5', '0.75', '1.0']\n",
    "\n",
    "ax.set_xticks(np.arange(3))\n",
    "ax.set_yticks(np.arange(3))\n",
    "\n",
    "ax.set_xticklabels(x_label_list)\n",
    "\n",
    "y_label_list = ['0.6', '0.8', '1.0']\n",
    "\n",
    "\n",
    "ax.set_yticklabels(y_label_list)\n",
    "plt.ylabel('colsample_bytree')\n",
    "plt.xlabel('sub_sample')\n",
    "plt.title('AUQC max_depth = 6')\n",
    "\n",
    "fig.colorbar(img)\n",
    "\n",
    "#____________________________________________________________________\n",
    "\n",
    "\n",
    "colsample_subsample_depth8_solo = []\n",
    "for i in range(6,36,12):\n",
    "    print(i)\n",
    "    colsample_subsample_depth8_solo.append(np_scoring_solo[i])\n",
    "    colsample_subsample_depth8_solo.append(np_scoring_solo[i+1])\n",
    "    colsample_subsample_depth8_solo.append(np_scoring_solo[i+2])\n",
    "    \n",
    "colsample_subsample_depth8_solo = np.array(colsample_subsample_depth8_solo).reshape(3,3)\n",
    "print(colsample_subsample_depth8_solo)\n",
    "\n",
    "\n",
    "fig, ax = plt.subplots()\n",
    "\n",
    "img = ax.imshow(colsample_subsample_depth8_solo)\n",
    "\n",
    "x_label_list = ['0.5', '0.75', '1.0']\n",
    "\n",
    "ax.set_xticks(np.arange(3))\n",
    "ax.set_yticks(np.arange(3))\n",
    "\n",
    "ax.set_xticklabels(x_label_list)\n",
    "\n",
    "y_label_list = ['0.6', '0.8', '1.0']\n",
    "\n",
    "\n",
    "ax.set_yticklabels(y_label_list)\n",
    "plt.ylabel('colsample_bytree')\n",
    "plt.xlabel('sub_sample')\n",
    "plt.title('AUQC max_depth = 8')\n",
    "\n",
    "fig.colorbar(img)\n",
    "\n",
    "#____________________________________________________________________\n",
    "\n",
    "\n",
    "colsample_subsample_depth10_solo = []\n",
    "for i in range(9,36,12):\n",
    "    print(i)\n",
    "    colsample_subsample_depth10_solo.append(np_scoring_solo[i])\n",
    "    colsample_subsample_depth10_solo.append(np_scoring_solo[i+1])\n",
    "    colsample_subsample_depth10_solo.append(np_scoring_solo[i+2])\n",
    "    \n",
    "colsample_subsample_depth10_solo = np.array(colsample_subsample_depth10_solo).reshape(3,3)\n",
    "print(colsample_subsample_depth10_solo)\n",
    "\n",
    "\n",
    "fig, ax = plt.subplots()\n",
    "\n",
    "img = ax.imshow(colsample_subsample_depth10_solo)\n",
    "\n",
    "x_label_list = ['0.5', '0.75', '1.0']\n",
    "\n",
    "ax.set_xticks(np.arange(3))\n",
    "ax.set_yticks(np.arange(3))\n",
    "\n",
    "ax.set_xticklabels(x_label_list)\n",
    "\n",
    "y_label_list = ['0.6', '0.8', '1.0']\n",
    "\n",
    "\n",
    "ax.set_yticklabels(y_label_list)\n",
    "plt.ylabel('colsample_bytree')\n",
    "plt.xlabel('sub_sample')\n",
    "plt.title('AUQC max_depth = 10')\n",
    "\n",
    "fig.colorbar(img)"
   ]
  },
  {
   "cell_type": "markdown",
   "metadata": {},
   "source": [
    "# 2) Class Transformation"
   ]
  },
  {
   "cell_type": "code",
   "execution_count": 20,
   "metadata": {},
   "outputs": [
    {
     "name": "stdout",
     "output_type": "stream",
     "text": [
      "[{'colsample_bytree': 0.6, 'max_depth': 4, 'subsample': 0.5}, {'colsample_bytree': 0.6, 'max_depth': 4, 'subsample': 0.75}, {'colsample_bytree': 0.6, 'max_depth': 4, 'subsample': 1.0}, {'colsample_bytree': 0.6, 'max_depth': 6, 'subsample': 0.5}, {'colsample_bytree': 0.6, 'max_depth': 6, 'subsample': 0.75}, {'colsample_bytree': 0.6, 'max_depth': 6, 'subsample': 1.0}, {'colsample_bytree': 0.6, 'max_depth': 8, 'subsample': 0.5}, {'colsample_bytree': 0.6, 'max_depth': 8, 'subsample': 0.75}, {'colsample_bytree': 0.6, 'max_depth': 8, 'subsample': 1.0}, {'colsample_bytree': 0.6, 'max_depth': 10, 'subsample': 0.5}, {'colsample_bytree': 0.6, 'max_depth': 10, 'subsample': 0.75}, {'colsample_bytree': 0.6, 'max_depth': 10, 'subsample': 1.0}, {'colsample_bytree': 0.8, 'max_depth': 4, 'subsample': 0.5}, {'colsample_bytree': 0.8, 'max_depth': 4, 'subsample': 0.75}, {'colsample_bytree': 0.8, 'max_depth': 4, 'subsample': 1.0}, {'colsample_bytree': 0.8, 'max_depth': 6, 'subsample': 0.5}, {'colsample_bytree': 0.8, 'max_depth': 6, 'subsample': 0.75}, {'colsample_bytree': 0.8, 'max_depth': 6, 'subsample': 1.0}, {'colsample_bytree': 0.8, 'max_depth': 8, 'subsample': 0.5}, {'colsample_bytree': 0.8, 'max_depth': 8, 'subsample': 0.75}, {'colsample_bytree': 0.8, 'max_depth': 8, 'subsample': 1.0}, {'colsample_bytree': 0.8, 'max_depth': 10, 'subsample': 0.5}, {'colsample_bytree': 0.8, 'max_depth': 10, 'subsample': 0.75}, {'colsample_bytree': 0.8, 'max_depth': 10, 'subsample': 1.0}, {'colsample_bytree': 1.0, 'max_depth': 4, 'subsample': 0.5}, {'colsample_bytree': 1.0, 'max_depth': 4, 'subsample': 0.75}, {'colsample_bytree': 1.0, 'max_depth': 4, 'subsample': 1.0}, {'colsample_bytree': 1.0, 'max_depth': 6, 'subsample': 0.5}, {'colsample_bytree': 1.0, 'max_depth': 6, 'subsample': 0.75}, {'colsample_bytree': 1.0, 'max_depth': 6, 'subsample': 1.0}, {'colsample_bytree': 1.0, 'max_depth': 8, 'subsample': 0.5}, {'colsample_bytree': 1.0, 'max_depth': 8, 'subsample': 0.75}, {'colsample_bytree': 1.0, 'max_depth': 8, 'subsample': 1.0}, {'colsample_bytree': 1.0, 'max_depth': 10, 'subsample': 0.5}, {'colsample_bytree': 1.0, 'max_depth': 10, 'subsample': 0.75}, {'colsample_bytree': 1.0, 'max_depth': 10, 'subsample': 1.0}]\n",
      "36\n"
     ]
    }
   ],
   "source": [
    "n_trees = 110\n",
    "learning_rate = 0.045\n",
    "subsample = [0.5, 0.75, 1.0]\n",
    "colsample_bytree = [0.6, 0.8, 1.0]\n",
    "max_depth = [4,6,8,10]\n",
    "\n",
    "\n",
    "max_features = [1.0]\n",
    "max_samples = [0.9,0.7,0.5,0.3, 0.1]\n",
    "\n",
    "param_grid = {\n",
    "\n",
    "            'subsample': subsample,\n",
    "            'colsample_bytree': colsample_bytree,\n",
    "            'max_depth': max_depth\n",
    "    }\n",
    "\n",
    "grid_list = list(ParameterGrid(param_grid))\n",
    "grid_size = len(grid_list)\n",
    "    \n",
    "print(grid_list)\n",
    "print(len(grid_list))"
   ]
  },
  {
   "cell_type": "code",
   "execution_count": 15,
   "metadata": {},
   "outputs": [
    {
     "name": "stdout",
     "output_type": "stream",
     "text": [
      "parametres =  {'colsample_bytree': 0.6, 'max_depth': 4, 'subsample': 0.5}\n",
      "AUQC 8718980215.759949\n"
     ]
    },
    {
     "name": "stderr",
     "output_type": "stream",
     "text": [
      "c:\\python38\\lib\\site-packages\\pandas\\core\\series.py:942: FutureWarning: \n",
      "Passing list-likes to .loc or [] with any missing label will raise\n",
      "KeyError in the future, you can use .reindex() as an alternative.\n",
      "\n",
      "See the documentation here:\n",
      "https://pandas.pydata.org/pandas-docs/stable/indexing.html#deprecate-loc-reindex-listlike\n",
      "  return self.loc[key]\n"
     ]
    },
    {
     "name": "stdout",
     "output_type": "stream",
     "text": [
      "uplift_30% nan\n",
      "1 point 84847 84847.0\n",
      "2 point 3802538 84847.0\n",
      "3 point 3853008 34377.0\n",
      "parametres =  {'colsample_bytree': 0.6, 'max_depth': 4, 'subsample': 0.75}\n",
      "AUQC 8611132241.637283\n"
     ]
    },
    {
     "name": "stderr",
     "output_type": "stream",
     "text": [
      "c:\\python38\\lib\\site-packages\\pandas\\core\\series.py:942: FutureWarning: \n",
      "Passing list-likes to .loc or [] with any missing label will raise\n",
      "KeyError in the future, you can use .reindex() as an alternative.\n",
      "\n",
      "See the documentation here:\n",
      "https://pandas.pydata.org/pandas-docs/stable/indexing.html#deprecate-loc-reindex-listlike\n",
      "  return self.loc[key]\n"
     ]
    },
    {
     "name": "stdout",
     "output_type": "stream",
     "text": [
      "uplift_30% nan\n",
      "parametres =  {'colsample_bytree': 0.6, 'max_depth': 4, 'subsample': 1.0}\n",
      "AUQC 8625440473.660217\n",
      "uplift_30% nan\n",
      "parametres =  {'colsample_bytree': 0.6, 'max_depth': 6, 'subsample': 0.5}\n",
      "AUQC 11476443555.39885\n",
      "uplift_30% nan\n",
      "1 point 84847 84847.0\n",
      "2 point 3802538 84847.0\n",
      "3 point 3853008 34377.0\n",
      "parametres =  {'colsample_bytree': 0.6, 'max_depth': 6, 'subsample': 0.75}\n",
      "AUQC 11589274421.434784\n"
     ]
    },
    {
     "name": "stderr",
     "output_type": "stream",
     "text": [
      "c:\\python38\\lib\\site-packages\\pandas\\core\\series.py:942: FutureWarning: \n",
      "Passing list-likes to .loc or [] with any missing label will raise\n",
      "KeyError in the future, you can use .reindex() as an alternative.\n",
      "\n",
      "See the documentation here:\n",
      "https://pandas.pydata.org/pandas-docs/stable/indexing.html#deprecate-loc-reindex-listlike\n",
      "  return self.loc[key]\n"
     ]
    },
    {
     "name": "stdout",
     "output_type": "stream",
     "text": [
      "uplift_30% nan\n",
      "1 point 84847 84847.0\n",
      "2 point 3802538 84847.0\n",
      "3 point 3853008 34377.0\n",
      "parametres =  {'colsample_bytree': 0.6, 'max_depth': 6, 'subsample': 1.0}\n",
      "AUQC 11285801168.058975\n"
     ]
    },
    {
     "name": "stderr",
     "output_type": "stream",
     "text": [
      "c:\\python38\\lib\\site-packages\\pandas\\core\\series.py:942: FutureWarning: \n",
      "Passing list-likes to .loc or [] with any missing label will raise\n",
      "KeyError in the future, you can use .reindex() as an alternative.\n",
      "\n",
      "See the documentation here:\n",
      "https://pandas.pydata.org/pandas-docs/stable/indexing.html#deprecate-loc-reindex-listlike\n",
      "  return self.loc[key]\n"
     ]
    },
    {
     "name": "stdout",
     "output_type": "stream",
     "text": [
      "uplift_30% nan\n",
      "parametres =  {'colsample_bytree': 0.6, 'max_depth': 8, 'subsample': 0.5}\n",
      "AUQC 12062835827.304733\n",
      "uplift_30% nan\n",
      "1 point 84847 84847.0\n",
      "2 point 3802538 84847.0\n",
      "3 point 3853008 34377.0\n",
      "parametres =  {'colsample_bytree': 0.6, 'max_depth': 8, 'subsample': 0.75}\n",
      "AUQC 12178667254.553726\n"
     ]
    },
    {
     "name": "stderr",
     "output_type": "stream",
     "text": [
      "c:\\python38\\lib\\site-packages\\pandas\\core\\series.py:942: FutureWarning: \n",
      "Passing list-likes to .loc or [] with any missing label will raise\n",
      "KeyError in the future, you can use .reindex() as an alternative.\n",
      "\n",
      "See the documentation here:\n",
      "https://pandas.pydata.org/pandas-docs/stable/indexing.html#deprecate-loc-reindex-listlike\n",
      "  return self.loc[key]\n"
     ]
    },
    {
     "name": "stdout",
     "output_type": "stream",
     "text": [
      "uplift_30% nan\n",
      "1 point 84847 84847.0\n",
      "2 point 3802538 84847.0\n",
      "3 point 3853008 34377.0\n",
      "parametres =  {'colsample_bytree': 0.6, 'max_depth': 8, 'subsample': 1.0}\n",
      "AUQC 12348395911.149002\n"
     ]
    },
    {
     "name": "stderr",
     "output_type": "stream",
     "text": [
      "c:\\python38\\lib\\site-packages\\pandas\\core\\series.py:942: FutureWarning: \n",
      "Passing list-likes to .loc or [] with any missing label will raise\n",
      "KeyError in the future, you can use .reindex() as an alternative.\n",
      "\n",
      "See the documentation here:\n",
      "https://pandas.pydata.org/pandas-docs/stable/indexing.html#deprecate-loc-reindex-listlike\n",
      "  return self.loc[key]\n"
     ]
    },
    {
     "name": "stdout",
     "output_type": "stream",
     "text": [
      "uplift_30% nan\n",
      "1 point 84847 84847.0\n",
      "2 point 3802538 84847.0\n",
      "3 point 3853008 34377.0\n",
      "parametres =  {'colsample_bytree': 0.6, 'max_depth': 10, 'subsample': 0.5}\n",
      "AUQC 12757039948.07193\n"
     ]
    },
    {
     "name": "stderr",
     "output_type": "stream",
     "text": [
      "c:\\python38\\lib\\site-packages\\pandas\\core\\series.py:942: FutureWarning: \n",
      "Passing list-likes to .loc or [] with any missing label will raise\n",
      "KeyError in the future, you can use .reindex() as an alternative.\n",
      "\n",
      "See the documentation here:\n",
      "https://pandas.pydata.org/pandas-docs/stable/indexing.html#deprecate-loc-reindex-listlike\n",
      "  return self.loc[key]\n"
     ]
    },
    {
     "name": "stdout",
     "output_type": "stream",
     "text": [
      "uplift_30% nan\n",
      "1 point 84847 84847.0\n",
      "2 point 3802538 84847.0\n",
      "3 point 3853008 34377.0\n",
      "parametres =  {'colsample_bytree': 0.6, 'max_depth': 10, 'subsample': 0.75}\n",
      "AUQC 12844637268.378998\n"
     ]
    },
    {
     "name": "stderr",
     "output_type": "stream",
     "text": [
      "c:\\python38\\lib\\site-packages\\pandas\\core\\series.py:942: FutureWarning: \n",
      "Passing list-likes to .loc or [] with any missing label will raise\n",
      "KeyError in the future, you can use .reindex() as an alternative.\n",
      "\n",
      "See the documentation here:\n",
      "https://pandas.pydata.org/pandas-docs/stable/indexing.html#deprecate-loc-reindex-listlike\n",
      "  return self.loc[key]\n"
     ]
    },
    {
     "name": "stdout",
     "output_type": "stream",
     "text": [
      "uplift_30% nan\n",
      "1 point 84847 84847.0\n",
      "2 point 3802538 84847.0\n",
      "3 point 3853008 34377.0\n",
      "parametres =  {'colsample_bytree': 0.6, 'max_depth': 10, 'subsample': 1.0}\n",
      "AUQC 12736302499.976593\n"
     ]
    },
    {
     "name": "stderr",
     "output_type": "stream",
     "text": [
      "c:\\python38\\lib\\site-packages\\pandas\\core\\series.py:942: FutureWarning: \n",
      "Passing list-likes to .loc or [] with any missing label will raise\n",
      "KeyError in the future, you can use .reindex() as an alternative.\n",
      "\n",
      "See the documentation here:\n",
      "https://pandas.pydata.org/pandas-docs/stable/indexing.html#deprecate-loc-reindex-listlike\n",
      "  return self.loc[key]\n"
     ]
    },
    {
     "name": "stdout",
     "output_type": "stream",
     "text": [
      "uplift_30% nan\n",
      "parametres =  {'colsample_bytree': 0.8, 'max_depth': 4, 'subsample': 0.5}\n",
      "AUQC 9033328347.347748\n",
      "uplift_30% nan\n",
      "parametres =  {'colsample_bytree': 0.8, 'max_depth': 4, 'subsample': 0.75}\n",
      "AUQC 9015184628.258163\n",
      "uplift_30% nan\n",
      "parametres =  {'colsample_bytree': 0.8, 'max_depth': 4, 'subsample': 1.0}\n",
      "AUQC 9203686513.50438\n",
      "uplift_30% nan\n",
      "parametres =  {'colsample_bytree': 0.8, 'max_depth': 6, 'subsample': 0.5}\n",
      "AUQC 11348294360.873123\n",
      "uplift_30% nan\n",
      "parametres =  {'colsample_bytree': 0.8, 'max_depth': 6, 'subsample': 0.75}\n",
      "AUQC 11418936409.673355\n",
      "uplift_30% nan\n",
      "parametres =  {'colsample_bytree': 0.8, 'max_depth': 6, 'subsample': 1.0}\n",
      "AUQC 11628938766.820206\n",
      "uplift_30% nan\n",
      "parametres =  {'colsample_bytree': 0.8, 'max_depth': 8, 'subsample': 0.5}\n",
      "AUQC 12331111589.850357\n",
      "uplift_30% nan\n",
      "parametres =  {'colsample_bytree': 0.8, 'max_depth': 8, 'subsample': 0.75}\n",
      "AUQC 12387771057.89032\n",
      "uplift_30% nan\n",
      "parametres =  {'colsample_bytree': 0.8, 'max_depth': 8, 'subsample': 1.0}\n",
      "AUQC 12426453679.641647\n",
      "uplift_30% nan\n",
      "parametres =  {'colsample_bytree': 0.8, 'max_depth': 10, 'subsample': 0.5}\n",
      "AUQC 12721844386.187943\n",
      "uplift_30% nan\n",
      "parametres =  {'colsample_bytree': 0.8, 'max_depth': 10, 'subsample': 0.75}\n",
      "AUQC 12721643883.939484\n",
      "uplift_30% nan\n",
      "parametres =  {'colsample_bytree': 0.8, 'max_depth': 10, 'subsample': 1.0}\n",
      "AUQC 12797568627.52333\n",
      "uplift_30% nan\n",
      "parametres =  {'colsample_bytree': 1.0, 'max_depth': 4, 'subsample': 0.5}\n",
      "AUQC 9726058711.977936\n",
      "uplift_30% nan\n",
      "parametres =  {'colsample_bytree': 1.0, 'max_depth': 4, 'subsample': 0.75}\n",
      "AUQC 9732338763.912415\n",
      "uplift_30% nan\n",
      "parametres =  {'colsample_bytree': 1.0, 'max_depth': 4, 'subsample': 1.0}\n",
      "AUQC 9708499114.837433\n",
      "uplift_30% nan\n",
      "parametres =  {'colsample_bytree': 1.0, 'max_depth': 6, 'subsample': 0.5}\n",
      "AUQC 11712932042.045227\n",
      "uplift_30% nan\n",
      "parametres =  {'colsample_bytree': 1.0, 'max_depth': 6, 'subsample': 0.75}\n",
      "AUQC 11643033483.005249\n",
      "uplift_30% nan\n",
      "parametres =  {'colsample_bytree': 1.0, 'max_depth': 6, 'subsample': 1.0}\n",
      "AUQC 11595887524.51564\n",
      "uplift_30% nan\n",
      "parametres =  {'colsample_bytree': 1.0, 'max_depth': 8, 'subsample': 0.5}\n",
      "AUQC 12456637854.026443\n",
      "uplift_30% nan\n",
      "parametres =  {'colsample_bytree': 1.0, 'max_depth': 8, 'subsample': 0.75}\n",
      "AUQC 12539980189.142471\n",
      "uplift_30% nan\n",
      "parametres =  {'colsample_bytree': 1.0, 'max_depth': 8, 'subsample': 1.0}\n",
      "AUQC 12370465694.62709\n",
      "uplift_30% nan\n",
      "parametres =  {'colsample_bytree': 1.0, 'max_depth': 10, 'subsample': 0.5}\n",
      "AUQC 12770394552.175903\n",
      "uplift_30% nan\n",
      "parametres =  {'colsample_bytree': 1.0, 'max_depth': 10, 'subsample': 0.75}\n",
      "AUQC 12767431846.957901\n",
      "uplift_30% nan\n",
      "parametres =  {'colsample_bytree': 1.0, 'max_depth': 10, 'subsample': 1.0}\n",
      "AUQC 12934316328.183289\n",
      "uplift_30% nan\n",
      "1 point 84847 84847.0\n",
      "2 point 3802538 84847.0\n",
      "3 point 3853008 34377.0\n"
     ]
    },
    {
     "data": {
      "image/png": "[encoded data removed]",
      "text/plain": [
       "<Figure size 432x288 with 1 Axes>"
      ]
     },
     "metadata": {
      "needs_background": "light"
     },
     "output_type": "display_data"
    }
   ],
   "source": [
    "from uplift.models import  ClassTransformation\n",
    "import xgboost as xgb\n",
    "from uplift.vizualization import  plot_qini_curve\n",
    "\n",
    "scoring = []\n",
    "best_res = 0\n",
    "\n",
    "for params in grid_list:\n",
    "    \n",
    " \n",
    "    print(\"parametres = \", params)\n",
    "    clf = xgb.XGBClassifier(learning_rate=learning_rate, max_depth=params['max_depth'], \n",
    "                                      n_estimators=n_trees,min_split_gain = 0,subsample = params['subsample'] ,colsample_bytree = params['colsample_bytree'])  \n",
    "    ct =  ClassTransformation(clf)\n",
    "    ct = ct.fit(train_features, target_train, treatment_train)\n",
    "    uplift_ct = ct.predict(test_features)\n",
    "    \n",
    "    cur_res = qini_auc_score(target_test,uplift_ct, treatment_test)\n",
    "    print(\"AUQC\", cur_res)\n",
    "    print(\"uplift_30%\",uplift_at_k(target_test,uplift_ct, treatment_test))\n",
    "    scoring.append(cur_res)\n",
    "    if cur_res > best_res:\n",
    "        best_res = cur_res\n",
    "        best_param = params\n",
    "        plot_qini_curve(target_test,uplift_ct, treatment_test)"
   ]
  },
  {
   "cell_type": "code",
   "execution_count": 24,
   "metadata": {},
   "outputs": [
    {
     "name": "stdout",
     "output_type": "stream",
     "text": [
      "best AUQC =  12934316328.183289  on parametres =  {'colsample_bytree': 1.0, 'max_depth': 10, 'subsample': 1.0}\n"
     ]
    },
    {
     "data": {
      "image/png": "[encoded data removed]",
      "text/plain": [
       "<Figure size 432x288 with 1 Axes>"
      ]
     },
     "metadata": {
      "needs_background": "light"
     },
     "output_type": "display_data"
    }
   ],
   "source": [
    "x_axis = [i for i in range(0,36)]\n",
    "pylab.plot(x_axis, scoring, marker='.', label='Class_transformation')\n",
    "pylab.grid(True)\n",
    "pylab.xlabel('params')\n",
    "pylab.ylabel('auqc')\n",
    "pylab.title('Accuracy score')\n",
    "pylab.legend(loc='lower right')\n",
    "\n",
    "print(\"best AUQC = \",best_res,\" on parametres = \",best_param)"
   ]
  },
  {
   "cell_type": "code",
   "execution_count": 25,
   "metadata": {},
   "outputs": [
    {
     "name": "stdout",
     "output_type": "stream",
     "text": [
      "1 point 84847 84847.0\n",
      "2 point 3802538 84847.0\n",
      "3 point 3853008 34377.0\n"
     ]
    },
    {
     "data": {
      "text/plain": [
       "<module 'pylab' from 'c:\\\\python38\\\\lib\\\\site-packages\\\\pylab.py'>"
      ]
     },
     "execution_count": 25,
     "metadata": {},
     "output_type": "execute_result"
    },
    {
     "data": {
      "image/png": "[encoded data removed]",
      "text/plain": [
       "<Figure size 432x288 with 1 Axes>"
      ]
     },
     "metadata": {
      "needs_background": "light"
     },
     "output_type": "display_data"
    }
   ],
   "source": [
    "\n",
    "\n",
    "\n",
    "clf = xgb.XGBClassifier(learning_rate=learning_rate, max_depth=10, \n",
    "                                      n_estimators=n_trees,min_split_gain = 0,subsample = 1.0 ,colsample_bytree = 1.0)  \n",
    "ct =  ClassTransformation(clf)\n",
    "ct = ct.fit(train_features, target_train, treatment_train)\n",
    "uplift_ct = ct.predict(test_features)\n",
    "\n",
    "plot_qini_curve(target_test,uplift_ct, treatment_test)"
   ]
  },
  {
   "cell_type": "code",
   "execution_count": 39,
   "metadata": {},
   "outputs": [
    {
     "name": "stdout",
     "output_type": "stream",
     "text": [
      "[8718980215.759949, 8611132241.637283, 8625440473.660217, 11476443555.39885, 11589274421.434784, 11285801168.058975, 12062835827.304733, 12178667254.553726, 12348395911.149002, 12757039948.07193, 12844637268.378998, 12736302499.976593, 9033328347.347748, 9015184628.258163, 9203686513.50438, 11348294360.873123, 11418936409.673355, 11628938766.820206, 12331111589.850357, 12387771057.89032, 12426453679.641647, 12721844386.187943, 12721643883.939484, 12797568627.52333, 9726058711.977936, 9732338763.912415, 9708499114.837433, 11712932042.045227, 11643033483.005249, 11595887524.51564, 12456637854.026443, 12539980189.142471, 12370465694.62709, 12770394552.175903, 12767431846.957901, 12934316328.183289]\n",
      "[{'colsample_bytree': 0.6, 'max_depth': 4, 'subsample': 0.5}, {'colsample_bytree': 0.6, 'max_depth': 4, 'subsample': 0.75}, {'colsample_bytree': 0.6, 'max_depth': 4, 'subsample': 1.0}, {'colsample_bytree': 0.6, 'max_depth': 6, 'subsample': 0.5}, {'colsample_bytree': 0.6, 'max_depth': 6, 'subsample': 0.75}, {'colsample_bytree': 0.6, 'max_depth': 6, 'subsample': 1.0}, {'colsample_bytree': 0.6, 'max_depth': 8, 'subsample': 0.5}, {'colsample_bytree': 0.6, 'max_depth': 8, 'subsample': 0.75}, {'colsample_bytree': 0.6, 'max_depth': 8, 'subsample': 1.0}, {'colsample_bytree': 0.6, 'max_depth': 10, 'subsample': 0.5}, {'colsample_bytree': 0.6, 'max_depth': 10, 'subsample': 0.75}, {'colsample_bytree': 0.6, 'max_depth': 10, 'subsample': 1.0}, {'colsample_bytree': 0.8, 'max_depth': 4, 'subsample': 0.5}, {'colsample_bytree': 0.8, 'max_depth': 4, 'subsample': 0.75}, {'colsample_bytree': 0.8, 'max_depth': 4, 'subsample': 1.0}, {'colsample_bytree': 0.8, 'max_depth': 6, 'subsample': 0.5}, {'colsample_bytree': 0.8, 'max_depth': 6, 'subsample': 0.75}, {'colsample_bytree': 0.8, 'max_depth': 6, 'subsample': 1.0}, {'colsample_bytree': 0.8, 'max_depth': 8, 'subsample': 0.5}, {'colsample_bytree': 0.8, 'max_depth': 8, 'subsample': 0.75}, {'colsample_bytree': 0.8, 'max_depth': 8, 'subsample': 1.0}, {'colsample_bytree': 0.8, 'max_depth': 10, 'subsample': 0.5}, {'colsample_bytree': 0.8, 'max_depth': 10, 'subsample': 0.75}, {'colsample_bytree': 0.8, 'max_depth': 10, 'subsample': 1.0}, {'colsample_bytree': 1.0, 'max_depth': 4, 'subsample': 0.5}, {'colsample_bytree': 1.0, 'max_depth': 4, 'subsample': 0.75}, {'colsample_bytree': 1.0, 'max_depth': 4, 'subsample': 1.0}, {'colsample_bytree': 1.0, 'max_depth': 6, 'subsample': 0.5}, {'colsample_bytree': 1.0, 'max_depth': 6, 'subsample': 0.75}, {'colsample_bytree': 1.0, 'max_depth': 6, 'subsample': 1.0}, {'colsample_bytree': 1.0, 'max_depth': 8, 'subsample': 0.5}, {'colsample_bytree': 1.0, 'max_depth': 8, 'subsample': 0.75}, {'colsample_bytree': 1.0, 'max_depth': 8, 'subsample': 1.0}, {'colsample_bytree': 1.0, 'max_depth': 10, 'subsample': 0.5}, {'colsample_bytree': 1.0, 'max_depth': 10, 'subsample': 0.75}, {'colsample_bytree': 1.0, 'max_depth': 10, 'subsample': 1.0}]\n"
     ]
    }
   ],
   "source": [
    "print(scoring)\n",
    "print(grid_list)"
   ]
  },
  {
   "cell_type": "code",
   "execution_count": 69,
   "metadata": {},
   "outputs": [
    {
     "data": {
      "text/plain": [
       "<matplotlib.colorbar.Colorbar at 0x13b9e109e50>"
      ]
     },
     "execution_count": 69,
     "metadata": {},
     "output_type": "execute_result"
    },
    {
     "data": {
      "image/png": "[encoded data removed]",
      "text/plain": [
       "<Figure size 432x288 with 2 Axes>"
      ]
     },
     "metadata": {
      "needs_background": "light"
     },
     "output_type": "display_data"
    }
   ],
   "source": [
    "arr_scoring = np.array(scoring)\n",
    "# print(arr_scoring)\n",
    "depth_subsample = arr_scoring[:12].reshape(4,3)\n",
    "\n",
    "\n",
    "fig, ax = plt.subplots()\n",
    "\n",
    "img = ax.imshow(depth_subsample)\n",
    "\n",
    "x_label_list = ['0.5', '0.75', '1.0']\n",
    "\n",
    "ax.set_xticks(np.arange(3))\n",
    "ax.set_yticks(np.arange(4))\n",
    "\n",
    "ax.set_xticklabels(x_label_list)\n",
    "\n",
    "y_label_list = ['4', '6', '8', '10']\n",
    "\n",
    "\n",
    "ax.set_yticklabels(y_label_list)\n",
    "plt.ylabel('max_depth')\n",
    "plt.xlabel('sub_sample')\n",
    "plt.title('AUQC')\n",
    "\n",
    "fig.colorbar(img)"
   ]
  },
  {
   "cell_type": "code",
   "execution_count": 86,
   "metadata": {},
   "outputs": [
    {
     "name": "stdout",
     "output_type": "stream",
     "text": [
      "[8718980215.759949, 8611132241.637283, 8625440473.660217, 11476443555.39885, 11589274421.434784, 11285801168.058975, 12062835827.304733, 12178667254.553726, 12348395911.149002, 12757039948.07193, 12844637268.378998, 12736302499.976593, 9033328347.347748, 9015184628.258163, 9203686513.50438, 11348294360.873123, 11418936409.673355, 11628938766.820206, 12331111589.850357, 12387771057.89032, 12426453679.641647, 12721844386.187943, 12721643883.939484, 12797568627.52333, 9726058711.977936, 9732338763.912415, 9708499114.837433, 11712932042.045227, 11643033483.005249, 11595887524.51564, 12456637854.026443, 12539980189.142471, 12370465694.62709, 12770394552.175903, 12767431846.957901, 12934316328.183289]\n",
      "0\n",
      "12\n",
      "24\n",
      "[[8.71898022e+09 8.61113224e+09 8.62544047e+09]\n",
      " [9.03332835e+09 9.01518463e+09 9.20368651e+09]\n",
      " [9.72605871e+09 9.73233876e+09 9.70849911e+09]]\n",
      "3\n",
      "15\n",
      "27\n",
      "[[1.14764436e+10 1.15892744e+10 1.12858012e+10]\n",
      " [1.13482944e+10 1.14189364e+10 1.16289388e+10]\n",
      " [1.17129320e+10 1.16430335e+10 1.15958875e+10]]\n",
      "6\n",
      "18\n",
      "30\n",
      "[[1.20628358e+10 1.21786673e+10 1.23483959e+10]\n",
      " [1.23311116e+10 1.23877711e+10 1.24264537e+10]\n",
      " [1.24566379e+10 1.25399802e+10 1.23704657e+10]]\n",
      "9\n",
      "21\n",
      "33\n",
      "[[1.27570399e+10 1.28446373e+10 1.27363025e+10]\n",
      " [1.27218444e+10 1.27216439e+10 1.27975686e+10]\n",
      " [1.27703946e+10 1.27674318e+10 1.29343163e+10]]\n"
     ]
    },
    {
     "data": {
      "text/plain": [
       "<matplotlib.colorbar.Colorbar at 0x13b9e979070>"
      ]
     },
     "execution_count": 86,
     "metadata": {},
     "output_type": "execute_result"
    },
    {
     "data": {
      "image/png": "[encoded data removed]",
      "text/plain": [
       "<Figure size 432x288 with 2 Axes>"
      ]
     },
     "metadata": {
      "needs_background": "light"
     },
     "output_type": "display_data"
    },
    {
     "data": {
      "image/png": "[encoded data removed]",
      "text/plain": [
       "<Figure size 432x288 with 2 Axes>"
      ]
     },
     "metadata": {
      "needs_background": "light"
     },
     "output_type": "display_data"
    },
    {
     "data": {
      "image/png": "[encoded data removed]",
      "text/plain": [
       "<Figure size 432x288 with 2 Axes>"
      ]
     },
     "metadata": {
      "needs_background": "light"
     },
     "output_type": "display_data"
    },
    {
     "data": {
      "image/png": "[encoded data removed]",
      "text/plain": [
       "<Figure size 432x288 with 2 Axes>"
      ]
     },
     "metadata": {
      "needs_background": "light"
     },
     "output_type": "display_data"
    }
   ],
   "source": [
    "print(scoring)\n",
    "np_scoring = np.array(scoring)\n",
    "colsample_subsample_depth4 = []\n",
    "for i in range(0,36,12):\n",
    "    print(i)\n",
    "    colsample_subsample_depth4.append(np_scoring[i])\n",
    "    colsample_subsample_depth4.append(np_scoring[i+1])\n",
    "    colsample_subsample_depth4.append(np_scoring[i+2])\n",
    "    \n",
    "colsample_subsample_depth4 = np.array(colsample_subsample_depth4).reshape(3,3)\n",
    "print(colsample_subsample_depth4)\n",
    "\n",
    "\n",
    "fig, ax = plt.subplots()\n",
    "\n",
    "img = ax.imshow(colsample_subsample_depth4)\n",
    "\n",
    "x_label_list = ['0.5', '0.75', '1.0']\n",
    "\n",
    "ax.set_xticks(np.arange(3))\n",
    "ax.set_yticks(np.arange(3))\n",
    "\n",
    "ax.set_xticklabels(x_label_list)\n",
    "\n",
    "y_label_list = ['0.6', '0.8', '1.0']\n",
    "\n",
    "\n",
    "ax.set_yticklabels(y_label_list)\n",
    "plt.ylabel('colsample_bytree')\n",
    "plt.xlabel('sub_sample')\n",
    "plt.title('AUQC max_depth = 4')\n",
    "\n",
    "fig.colorbar(img)\n",
    "\n",
    "#____________________________________________________________________\n",
    "\n",
    "np_scoring = np.array(scoring)\n",
    "colsample_subsample_depth6 = []\n",
    "for i in range(3,36,12):\n",
    "    print(i)\n",
    "    colsample_subsample_depth6.append(np_scoring[i])\n",
    "    colsample_subsample_depth6.append(np_scoring[i+1])\n",
    "    colsample_subsample_depth6.append(np_scoring[i+2])\n",
    "    \n",
    "colsample_subsample_depth6 = np.array(colsample_subsample_depth6).reshape(3,3)\n",
    "print(colsample_subsample_depth6)\n",
    "\n",
    "\n",
    "fig, ax = plt.subplots()\n",
    "\n",
    "img = ax.imshow(colsample_subsample_depth6)\n",
    "\n",
    "x_label_list = ['0.5', '0.75', '1.0']\n",
    "\n",
    "ax.set_xticks(np.arange(3))\n",
    "ax.set_yticks(np.arange(3))\n",
    "\n",
    "ax.set_xticklabels(x_label_list)\n",
    "\n",
    "y_label_list = ['0.6', '0.8', '1.0']\n",
    "\n",
    "\n",
    "ax.set_yticklabels(y_label_list)\n",
    "plt.ylabel('colsample_bytree')\n",
    "plt.xlabel('sub_sample')\n",
    "plt.title('AUQC max_depth = 6')\n",
    "\n",
    "fig.colorbar(img)\n",
    "\n",
    "#____________________________________________________________________\n",
    "\n",
    "np_scoring = np.array(scoring)\n",
    "colsample_subsample_depth8 = []\n",
    "for i in range(6,36,12):\n",
    "    print(i)\n",
    "    colsample_subsample_depth8.append(np_scoring[i])\n",
    "    colsample_subsample_depth8.append(np_scoring[i+1])\n",
    "    colsample_subsample_depth8.append(np_scoring[i+2])\n",
    "    \n",
    "colsample_subsample_depth8 = np.array(colsample_subsample_depth8).reshape(3,3)\n",
    "print(colsample_subsample_depth8)\n",
    "\n",
    "\n",
    "fig, ax = plt.subplots()\n",
    "\n",
    "img = ax.imshow(colsample_subsample_depth8)\n",
    "\n",
    "x_label_list = ['0.5', '0.75', '1.0']\n",
    "\n",
    "ax.set_xticks(np.arange(3))\n",
    "ax.set_yticks(np.arange(3))\n",
    "\n",
    "ax.set_xticklabels(x_label_list)\n",
    "\n",
    "y_label_list = ['0.6', '0.8', '1.0']\n",
    "\n",
    "\n",
    "ax.set_yticklabels(y_label_list)\n",
    "plt.ylabel('colsample_bytree')\n",
    "plt.xlabel('sub_sample')\n",
    "plt.title('AUQC max_depth = 8')\n",
    "\n",
    "fig.colorbar(img)\n",
    "\n",
    "#____________________________________________________________________\n",
    "\n",
    "np_scoring = np.array(scoring)\n",
    "colsample_subsample_depth10 = []\n",
    "for i in range(9,36,12):\n",
    "    print(i)\n",
    "    colsample_subsample_depth10.append(np_scoring[i])\n",
    "    colsample_subsample_depth10.append(np_scoring[i+1])\n",
    "    colsample_subsample_depth10.append(np_scoring[i+2])\n",
    "    \n",
    "colsample_subsample_depth10 = np.array(colsample_subsample_depth10).reshape(3,3)\n",
    "print(colsample_subsample_depth10)\n",
    "\n",
    "\n",
    "fig, ax = plt.subplots()\n",
    "\n",
    "img = ax.imshow(colsample_subsample_depth10)\n",
    "\n",
    "x_label_list = ['0.5', '0.75', '1.0']\n",
    "\n",
    "ax.set_xticks(np.arange(3))\n",
    "ax.set_yticks(np.arange(3))\n",
    "\n",
    "ax.set_xticklabels(x_label_list)\n",
    "\n",
    "y_label_list = ['0.6', '0.8', '1.0']\n",
    "\n",
    "\n",
    "ax.set_yticklabels(y_label_list)\n",
    "plt.ylabel('colsample_bytree')\n",
    "plt.xlabel('sub_sample')\n",
    "plt.title('AUQC max_depth = 10')\n",
    "\n",
    "fig.colorbar(img)"
   ]
  },
  {
   "cell_type": "markdown",
   "metadata": {},
   "source": [
    "# uplift trees\n"
   ]
  },
  {
   "cell_type": "code",
   "execution_count": 15,
   "metadata": {},
   "outputs": [
    {
     "name": "stdout",
     "output_type": "stream",
     "text": [
      "[{'criterion': 'uplift_gini', 'max_features': 0.1, 'min_samples_leaf': 1000}, {'criterion': 'uplift_gini', 'max_features': 0.1, 'min_samples_leaf': 10000}, {'criterion': 'uplift_gini', 'max_features': 0.1, 'min_samples_leaf': 100000}, {'criterion': 'uplift_gini', 'max_features': 0.5, 'min_samples_leaf': 1000}, {'criterion': 'uplift_gini', 'max_features': 0.5, 'min_samples_leaf': 10000}, {'criterion': 'uplift_gini', 'max_features': 0.5, 'min_samples_leaf': 100000}, {'criterion': 'uplift_gini', 'max_features': 1.0, 'min_samples_leaf': 1000}, {'criterion': 'uplift_gini', 'max_features': 1.0, 'min_samples_leaf': 10000}, {'criterion': 'uplift_gini', 'max_features': 1.0, 'min_samples_leaf': 100000}]\n"
     ]
    }
   ],
   "source": [
    "criterions = [\"uplift_gini\"]\n",
    "min_samples_leaf = [1000,10000,100000]\n",
    "\n",
    "max_features = [0.1,0.5,1.0]\n",
    "\n",
    "\n",
    "param_grid = {\n",
    "\n",
    "            'criterion': criterions,\n",
    "            'min_samples_leaf': min_samples_leaf,\n",
    "            'max_features': max_features\n",
    "}\n",
    "\n",
    "grid_list_rf = list(ParameterGrid(param_grid))\n",
    "grid_size = len(grid_list_rf)\n",
    "print(grid_list_rf)"
   ]
  },
  {
   "cell_type": "code",
   "execution_count": null,
   "metadata": {},
   "outputs": [
    {
     "name": "stdout",
     "output_type": "stream",
     "text": [
      "parametres =  {'criterion': 'uplift_gini', 'max_features': 0.1, 'min_samples_leaf': 1000}\n",
      "AUQC 56140677448.28409\n"
     ]
    },
    {
     "name": "stderr",
     "output_type": "stream",
     "text": [
      "c:\\python38\\lib\\site-packages\\pandas\\core\\series.py:942: FutureWarning: \n",
      "Passing list-likes to .loc or [] with any missing label will raise\n",
      "KeyError in the future, you can use .reindex() as an alternative.\n",
      "\n",
      "See the documentation here:\n",
      "https://pandas.pydata.org/pandas-docs/stable/indexing.html#deprecate-loc-reindex-listlike\n",
      "  return self.loc[key]\n"
     ]
    },
    {
     "name": "stdout",
     "output_type": "stream",
     "text": [
      "uplift_30% nan\n",
      "1 point 84847 84847.0\n",
      "2 point 3802538 84847.0\n",
      "3 point 3853008 34377.0\n",
      "parametres =  {'criterion': 'uplift_gini', 'max_features': 0.1, 'min_samples_leaf': 10000}\n",
      "AUQC 55043905171.14151\n"
     ]
    },
    {
     "name": "stderr",
     "output_type": "stream",
     "text": [
      "c:\\python38\\lib\\site-packages\\pandas\\core\\series.py:942: FutureWarning: \n",
      "Passing list-likes to .loc or [] with any missing label will raise\n",
      "KeyError in the future, you can use .reindex() as an alternative.\n",
      "\n",
      "See the documentation here:\n",
      "https://pandas.pydata.org/pandas-docs/stable/indexing.html#deprecate-loc-reindex-listlike\n",
      "  return self.loc[key]\n"
     ]
    },
    {
     "name": "stdout",
     "output_type": "stream",
     "text": [
      "uplift_30% nan\n",
      "parametres =  {'criterion': 'uplift_gini', 'max_features': 0.1, 'min_samples_leaf': 100000}\n",
      "AUQC 54644071846.51399\n"
     ]
    },
    {
     "name": "stderr",
     "output_type": "stream",
     "text": [
      "c:\\python38\\lib\\site-packages\\pandas\\core\\series.py:942: FutureWarning: \n",
      "Passing list-likes to .loc or [] with any missing label will raise\n",
      "KeyError in the future, you can use .reindex() as an alternative.\n",
      "\n",
      "See the documentation here:\n",
      "https://pandas.pydata.org/pandas-docs/stable/indexing.html#deprecate-loc-reindex-listlike\n",
      "  return self.loc[key]\n"
     ]
    },
    {
     "name": "stdout",
     "output_type": "stream",
     "text": [
      "uplift_30% nan\n",
      "parametres =  {'criterion': 'uplift_gini', 'max_features': 0.5, 'min_samples_leaf': 1000}\n"
     ]
    }
   ],
   "source": [
    "from uplift.ensemble import RandomForestClassifier\n",
    "\n",
    "from uplift.vizualization import  plot_qini_curve\n",
    "\n",
    "scoring_up_rf = []\n",
    "best_res_up_rf = 0\n",
    "\n",
    "for params in grid_list_rf:\n",
    "    \n",
    " \n",
    "    print(\"parametres = \", params)\n",
    "      \n",
    "    up_rf =  RandomForestClassifier(n_estimators = 100, min_samples_leaf = params['min_samples_leaf'], \n",
    "                                    max_features = params['max_features']\n",
    "                                    , criterion=params['criterion'],n_jobs=-1,bootstrap=True)\n",
    "    \n",
    "    up_rf = up_rf.fit(train_features, target_train, treatment_train)\n",
    "    uplift_up_rf = up_rf.predict_uplift(test_features)\n",
    "    \n",
    "    cur_res = qini_auc_score(target_test,uplift_up_rf, treatment_test)\n",
    "    print(\"AUQC\", cur_res)\n",
    "    print(\"uplift_30%\",uplift_at_k(target_test,uplift_up_rf, treatment_test,rate=0.3))\n",
    "    scoring_up_rf.append(cur_res)\n",
    "    if cur_res > best_res_up_rf:\n",
    "        best_res_up_rf = cur_res\n",
    "        best_param_up_rf = params\n",
    "        plot_qini_curve(target_test,uplift_up_rf, treatment_test)"
   ]
  },
  {
   "cell_type": "code",
   "execution_count": null,
   "metadata": {},
   "outputs": [],
   "source": []
  },
  {
   "cell_type": "code",
   "execution_count": null,
   "metadata": {},
   "outputs": [],
   "source": [
    "up_rf =  RandomForestClassifier(n_estimators = 110,max_depth=4, \n",
    "                                    max_features = params['max_features']\n",
    "                                    , criterion=params['criterion'])\n",
    "    \n",
    "    up_rf = up_rf.fit(train_features, target_train, treatment_train)\n",
    "    uplift_up_rf = up_rf.predict_uplift(test_features)\n",
    "    \n",
    "    cur_res = qini_auc_score(target_test,uplift_up_rf, treatment_test)\n",
    "    print(\"AUQC\", cur_res)\n",
    "    print(\"uplift_30%\",uplift_at_k(target_test,uplift_up_rf, treatment_test))"
   ]
  }
 ],
 "metadata": {
  "kernelspec": {
   "display_name": "Python 3",
   "language": "python",
   "name": "python3"
  },
  "language_info": {
   "codemirror_mode": {
    "name": "ipython",
    "version": 3
   },
   "file_extension": ".py",
   "mimetype": "text/x-python",
   "name": "python",
   "nbconvert_exporter": "python",
   "pygments_lexer": "ipython3",
   "version": "3.8.2"
  }
 },
 "nbformat": 4,
 "nbformat_minor": 4
}
