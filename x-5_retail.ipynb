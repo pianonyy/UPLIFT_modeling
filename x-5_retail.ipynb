{
 "cells": [
  {
   "cell_type": "code",
   "execution_count": 1,
   "metadata": {},
   "outputs": [
    {
     "name": "stdout",
     "output_type": "stream",
     "text": [
      "Populating the interactive namespace from numpy and matplotlib\n"
     ]
    }
   ],
   "source": [
    "%pylab inline\n",
    "import numpy as np\n",
    "import pandas as pd\n",
    "import xgboost as xgb\n",
    "from uplift.models import SoloModel\n",
    "from sklearn.model_selection import train_test_split"
   ]
  },
  {
   "cell_type": "code",
   "execution_count": 26,
   "metadata": {},
   "outputs": [
    {
     "name": "stdout",
     "output_type": "stream",
     "text": [
      "признаки\n"
     ]
    }
   ],
   "source": [
    "df_clients = pd.read_csv('data/clients.csv', index_col='client_id')\n",
    "df_train = pd.read_csv('data/uplift_train.csv', index_col='client_id')\n",
    "df_test = pd.read_csv('data/uplift_test.csv', index_col='client_id')\n",
    "\n",
    "# Извлечение признаков\n",
    "\n",
    "df_clients['first_issue_time'] = \\\n",
    "    (pd.to_datetime(df_clients['first_issue_date'])\n",
    "     - pd.Timestamp('1970-01-01')) // pd.Timedelta('1s')\n",
    "df_clients['first_redeem_time'] = \\\n",
    "    (pd.to_datetime(df_clients['first_redeem_date'])\n",
    "     - pd.Timestamp('1970-01-01')) // pd.Timedelta('1s')\n",
    "df_clients['issue_redeem_delay'] = df_clients['first_redeem_time'] \\\n",
    "    - df_clients['first_issue_time']\n",
    "df_clients = df_clients.drop(['first_issue_date', 'first_redeem_date'], axis=1)\n",
    "\n",
    "df_features = pd.DataFrame({\n",
    "    'gender_M': (df_clients['gender'] == 'M').astype(int),\n",
    "    'gender_F': (df_clients['gender'] == 'F').astype(int),\n",
    "    'gender_U': (df_clients['gender'] == 'U').astype(int),\n",
    "    'age': df_clients['age'],\n",
    "    'first_issue_time': df_clients['first_issue_time'],\n",
    "    'first_redeem_time': df_clients['first_redeem_time'],\n",
    "    'issue_redeem_delay': df_clients['issue_redeem_delay'],\n",
    "}).fillna(0)\n",
    "\n",
    "\n",
    "print(\"признаки\")\n",
    "df_features = df_features.loc[df_features.index.isin(df_train.index)]\n",
    "\n",
    "indices_train = df_train.index"
   ]
  },
  {
   "cell_type": "code",
   "execution_count": 149,
   "metadata": {},
   "outputs": [
    {
     "name": "stdout",
     "output_type": "stream",
     "text": [
      "(200035, 7)\n",
      "(200035,)\n",
      "(200035,)\n",
      "client_id\n",
      "000012768d    1\n",
      "000036f903    1\n",
      "00010925a5    1\n",
      "0001f552b0    1\n",
      "00020e7b18    1\n",
      "000220a0a7    1\n",
      "00022fd34f    1\n",
      "0002ce2217    1\n",
      "00031cbbe6    1\n",
      "00035a21d9    0\n",
      "00038f9200    1\n",
      "0004231e2a    0\n",
      "0004254599    0\n",
      "00042a927a    1\n",
      "0004315e57    1\n",
      "00047b3720    0\n",
      "0004e1e14e    0\n",
      "00065f11c7    1\n",
      "00068fd5dc    0\n",
      "0006b9ad75    1\n",
      "0006f24465    1\n",
      "0006fca4bf    0\n",
      "000702109b    1\n",
      "00071890c8    1\n",
      "0007667c60    1\n",
      "00078c508d    1\n",
      "0007b4ca21    0\n",
      "0008244fb3    1\n",
      "00083b5b14    0\n",
      "0008b2cb41    1\n",
      "             ..\n",
      "fff4844212    0\n",
      "fff4b5c0a5    1\n",
      "fff597059d    1\n",
      "fff66442e1    1\n",
      "fff71bfb89    1\n",
      "fff72e9dbb    0\n",
      "fff73c7cc8    1\n",
      "fff741a4f0    1\n",
      "fff7cca176    1\n",
      "fff7fa24ca    0\n",
      "fff8604e27    1\n",
      "fff866484c    1\n",
      "fff9229003    1\n",
      "fff93c52e3    1\n",
      "fff989a7a9    0\n",
      "fff9aa288c    0\n",
      "fff9f772f6    1\n",
      "fffa7299cf    1\n",
      "fffb19ee74    1\n",
      "fffb36a724    0\n",
      "fffb52b456    0\n",
      "fffb9a1eaa    1\n",
      "fffbdaf8ed    0\n",
      "fffc2e37ab    1\n",
      "fffc2eadcb    0\n",
      "fffcb91f10    0\n",
      "fffd5cd0c6    1\n",
      "fffd63dfe3    1\n",
      "fffd8c9d7d    0\n",
      "fffe0abb97    0\n",
      "Name: target, Length: 200035, dtype: int64\n"
     ]
    }
   ],
   "source": [
    "X_train = df_features.loc[indices_train, :]\n",
    "y_train = df_train.loc[indices_train, 'target']\n",
    "treat_train = df_train.loc[indices_train, 'treatment_flg']\n",
    "print(X_train.shape)\n",
    "print(y_train.shape)\n",
    "print(treat_train.shape)\n",
    "print(y_train)"
   ]
  },
  {
   "cell_type": "markdown",
   "metadata": {},
   "source": [
    "##  solo, cross validation 5, фиксируем шаг(learning rate), оптимизируем по числу деревьев (рассматриваем xgboost, lgbm)"
   ]
  },
  {
   "cell_type": "code",
   "execution_count": null,
   "metadata": {},
   "outputs": [],
   "source": [
    "num_folds = 5\n",
    "val_count = (df_train.shape[0]) // num_folds #volume of validation set\n",
    "train_count = (df_train.shape[0]) - val_count\n",
    "print(val_count)\n",
    "print(train_count)\n",
    "print(df_train.shape[0])"
   ]
  },
  {
   "cell_type": "code",
   "execution_count": 58,
   "metadata": {},
   "outputs": [],
   "source": [
    "from uplift.metrics import uplift_at_k\n",
    "n_trees = [1] + list(range(10, 70, 5))\n",
    "\n",
    "indices_all_folds = np.array_split(indices_train, num_folds)\n",
    "xgb_score_uplift_30 = []\n",
    "for n_tree in n_trees:\n",
    "    val_score = []\n",
    "    for i in range(num_folds):\n",
    "        \n",
    "        \n",
    "        x_val = X_train.loc[indices_all_folds[i]].values\n",
    "        y_val = df_train.loc[indices_all_folds[i],'target'].values\n",
    "        treatment_val = treat_train.loc[indices_all_folds[i]].values\n",
    "    \n",
    "    \n",
    "        united = np.vstack(indices_all_folds[0:i]+indices_all_folds[i+1:])\n",
    "        united = united.reshape(train_count)\n",
    "    \n",
    "        x_train = X_train.loc[united].values\n",
    "        y_train = df_train.loc[united,'target'].values\n",
    "        treatment_train = treat_train.loc[united].values\n",
    "        \n",
    "        estimator = xgb.XGBClassifier(learning_rate=0.1, max_depth=5, \n",
    "                                      n_estimators=n_tree, min_child_weight=3)\n",
    "        sm = SoloModel(estimator)\n",
    "       \n",
    "        sm = sm.fit(x_train, y_train, treatment_train)\n",
    "        uplift_sm = sm.predict(x_val)\n",
    "    \n",
    "        val_score.append(uplift_at_k(y_true=y_val, uplift=uplift_sm, \n",
    "                                     treatment=treatment_val, strategy= \"by_group\", k=0.3))\n",
    "        \n",
    "    xgb_score_uplift_30.append(val_score)"
   ]
  },
  {
   "cell_type": "code",
   "execution_count": 60,
   "metadata": {},
   "outputs": [
    {
     "name": "stdout",
     "output_type": "stream",
     "text": [
      "[[0.03101109 0.03052601 0.03256329 0.03621856 0.0436661 ]\n",
      " [0.0301398  0.03206246 0.04982303 0.03684721 0.04146303]\n",
      " [0.03013536 0.04178918 0.05292617 0.0431222  0.05544204]\n",
      " [0.04044031 0.04172658 0.06027093 0.04507492 0.04928073]\n",
      " [0.05408716 0.04660141 0.0732029  0.04253132 0.06975344]\n",
      " [0.05758913 0.05456817 0.07250256 0.04201835 0.06975433]\n",
      " [0.0502719  0.04958321 0.07348109 0.0447109  0.0601026 ]\n",
      " [0.04161423 0.04928267 0.07297317 0.04045798 0.05728029]\n",
      " [0.03778786 0.05430696 0.07145471 0.0487273  0.05544893]\n",
      " [0.03862161 0.05632322 0.07530618 0.04361628 0.05029145]\n",
      " [0.04128451 0.05901595 0.07329224 0.04213167 0.05695057]\n",
      " [0.0407847  0.05853646 0.07163824 0.03961877 0.05178954]\n",
      " [0.03745414 0.05432006 0.07114631 0.03846041 0.04929073]]\n"
     ]
    }
   ],
   "source": [
    "xgb_score_uplift_30 = np.matrix(xgb_score_uplift_30)\n",
    "print(xgb_score_uplift_30)"
   ]
  },
  {
   "cell_type": "code",
   "execution_count": 155,
   "metadata": {},
   "outputs": [],
   "source": [
    "from lightgbm import LGBMClassifier\n",
    "n_trees = [1] + list(range(10, 70, 5))\n",
    "\n",
    "indices_all_folds = np.array_split(indices_train, num_folds)\n",
    "lgbm_score_uplift_30 = []\n",
    "for n_tree in n_trees:\n",
    "    val_score = []\n",
    "    for i in range(num_folds):\n",
    "        \n",
    "        \n",
    "        x_val = X_train.loc[indices_all_folds[i]].values\n",
    "        y_val = df_train.loc[indices_all_folds[i],'target'].values\n",
    "        treatment_val = treat_train.loc[indices_all_folds[i]].values\n",
    "    \n",
    "    \n",
    "        united = np.vstack(indices_all_folds[0:i]+indices_all_folds[i+1:])\n",
    "        united = united.reshape(train_count)\n",
    "        \n",
    "        x_train = X_train.loc[united].values\n",
    "        y_train = df_train.loc[united,'target'].values\n",
    "        treatment_train = treat_train.loc[united].values\n",
    "        \n",
    "        estimator = LGBMClassifier(\n",
    "        n_estimators = n_tree,\n",
    "        num_leaves = 33,\n",
    "        boosting_type='gbdt',\n",
    "        max_depth=5,\n",
    "        learning_rate=0.1\n",
    "    )\n",
    "        sm = SoloModel(estimator)\n",
    "        \n",
    "        sm = sm.fit(x_train, y_train, treatment_train)\n",
    "        uplift_sm = sm.predict(x_val)\n",
    "    \n",
    "        val_score.append(uplift_at_k(y_true=y_val, uplift=uplift_sm, \n",
    "                                     treatment=treatment_val, strategy= \"by_group\", k=0.3))\n",
    "        \n",
    "    lgbm_score_uplift_30.append(val_score)"
   ]
  },
  {
   "cell_type": "code",
   "execution_count": 73,
   "metadata": {},
   "outputs": [
    {
     "name": "stdout",
     "output_type": "stream",
     "text": [
      "[[0.02868059 0.03069513 0.03256329 0.03621856 0.0436661 ]\n",
      " [0.0271463  0.04807954 0.04932043 0.02785931 0.0243131 ]\n",
      " [0.03379497 0.03968901 0.05422022 0.04142726 0.05711221]\n",
      " [0.03661839 0.04936658 0.05173034 0.0370256  0.05078148]\n",
      " [0.04893857 0.05771089 0.05575822 0.04201363 0.06244377]\n",
      " [0.04061462 0.06124755 0.06581726 0.04463772 0.05844043]\n",
      " [0.03911653 0.06308651 0.06698821 0.03758343 0.05495201]\n",
      " [0.04278526 0.05686367 0.06629676 0.03605397 0.05378276]\n",
      " [0.03995428 0.05953182 0.06257373 0.03973468 0.05711265]\n",
      " [0.04162178 0.05837915 0.05465528 0.03792619 0.05411871]\n",
      " [0.04112309 0.05604596 0.05133485 0.03961169 0.05494912]\n",
      " [0.04095656 0.05203636 0.05167347 0.03578675 0.05428434]\n",
      " [0.03962389 0.05001518 0.05118864 0.03709879 0.05278426]]\n"
     ]
    }
   ],
   "source": [
    "lgbm_score_uplift_30 = np.matrix(lgbm_score_uplift_30)\n",
    "print(lgbm_score_uplift_30)"
   ]
  },
  {
   "cell_type": "code",
   "execution_count": 74,
   "metadata": {},
   "outputs": [
    {
     "data": {
      "text/plain": [
       "<matplotlib.legend.Legend at 0x22f9e687340>"
      ]
     },
     "execution_count": 74,
     "metadata": {},
     "output_type": "execute_result"
    },
    {
     "data": {
      "image/png": "[encoded data removed]",
      "text/plain": [
       "<Figure size 432x288 with 1 Axes>"
      ]
     },
     "metadata": {
      "needs_background": "light"
     },
     "output_type": "display_data"
    }
   ],
   "source": [
    "pylab.plot(n_trees, xgb_score_uplift_30.mean(axis = 1), marker='.', label='XGBoost')\n",
    "pylab.plot(n_trees, lgbm_score_uplift_30.mean(axis = 1), marker='.', label='LGBM')\n",
    "pylab.grid(True)\n",
    "pylab.xlabel('n_trees')\n",
    "pylab.ylabel('score_uplift_at_30%')\n",
    "pylab.title('Accuracy score')\n",
    "pylab.legend(loc='lower right')"
   ]
  },
  {
   "cell_type": "code",
   "execution_count": 79,
   "metadata": {},
   "outputs": [
    {
     "name": "stdout",
     "output_type": "stream",
     "text": [
      "Best score lgbm = 0.054152\n",
      "Best score xgboost = 0.059287\n"
     ]
    }
   ],
   "source": [
    "print(\"Best score lgbm = %f\" %(max(lgbm_score_uplift_30.mean(axis=1))))\n",
    "print(\"Best score xgboost = %f\" %(max(xgb_score_uplift_30.mean(axis=1))))"
   ]
  },
  {
   "cell_type": "markdown",
   "metadata": {},
   "source": [
    "## solo, cross val = 5, фиксируем число деревьев, подбираем размер шага (learning rate)"
   ]
  },
  {
   "cell_type": "code",
   "execution_count": 80,
   "metadata": {},
   "outputs": [
    {
     "name": "stdout",
     "output_type": "stream",
     "text": [
      "40007\n",
      "160028\n",
      "200035\n"
     ]
    }
   ],
   "source": [
    "num_folds = 5\n",
    "val_count = (df_train.shape[0]) // num_folds #volume of validation set\n",
    "train_count = (df_train.shape[0]) - val_count\n",
    "print(val_count)\n",
    "print(train_count)\n",
    "print(df_train.shape[0])"
   ]
  },
  {
   "cell_type": "code",
   "execution_count": 89,
   "metadata": {},
   "outputs": [],
   "source": [
    "n_lrates = [0.0001, 0.001, 0.01, 0.1]\n",
    "\n",
    "indices_all_folds = np.array_split(indices_train, num_folds)\n",
    "xgb_score_uplift_30_2 = []\n",
    "for lrate in n_lrates:\n",
    "    val_score = []\n",
    "    for i in range(num_folds):\n",
    "        \n",
    "        \n",
    "        x_val = X_train.loc[indices_all_folds[i]].values\n",
    "        y_val = df_train.loc[indices_all_folds[i],'target'].values\n",
    "        treatment_val = treat_train.loc[indices_all_folds[i]].values\n",
    "    \n",
    "    \n",
    "        united = np.vstack(indices_all_folds[0:i]+indices_all_folds[i+1:])\n",
    "        united = united.reshape(train_count)\n",
    "    \n",
    "        x_train = X_train.loc[united].values\n",
    "        y_train = df_train.loc[united,'target'].values\n",
    "        treatment_train = treat_train.loc[united].values\n",
    "        \n",
    "        estimator = xgb.XGBClassifier(learning_rate=lrate, max_depth=5, \n",
    "                                      n_estimators=40, min_child_weight=3)\n",
    "        sm = SoloModel(estimator)\n",
    "       \n",
    "        sm = sm.fit(x_train, y_train, treatment_train)\n",
    "        uplift_sm = sm.predict(x_val)\n",
    "    \n",
    "        val_score.append(uplift_at_k(y_true=y_val, uplift=uplift_sm, \n",
    "                                     treatment=treatment_val, strategy= \"by_group\", k=0.3))\n",
    "        \n",
    "    xgb_score_uplift_30_2.append(val_score)"
   ]
  },
  {
   "cell_type": "code",
   "execution_count": 91,
   "metadata": {},
   "outputs": [
    {
     "name": "stdout",
     "output_type": "stream",
     "text": [
      "[[0.03101109 0.03052601 0.03256329 0.03621856 0.0436661 ]\n",
      " [0.02901676 0.03052601 0.03239398 0.03588524 0.04299999]\n",
      " [0.0320127  0.02784967 0.03224422 0.03486166 0.04365766]\n",
      " [0.04161423 0.04928267 0.07297317 0.04045798 0.05728029]]\n"
     ]
    }
   ],
   "source": [
    "xgb_score_uplift_30_2 = np.matrix(xgb_score_uplift_30_2)\n",
    "print(xgb_score_uplift_30_2)"
   ]
  },
  {
   "cell_type": "code",
   "execution_count": 92,
   "metadata": {},
   "outputs": [],
   "source": [
    "n_lrates = [0.0001, 0.001, 0.01, 0.1]\n",
    "\n",
    "indices_all_folds = np.array_split(indices_train, num_folds)\n",
    "lgbm_score_uplift_30_2 = []\n",
    "for lrate in n_lrates:\n",
    "    val_score = []\n",
    "    for i in range(num_folds):\n",
    "        \n",
    "        \n",
    "        x_val = X_train.loc[indices_all_folds[i]].values\n",
    "        y_val = df_train.loc[indices_all_folds[i],'target'].values\n",
    "        treatment_val = treat_train.loc[indices_all_folds[i]].values\n",
    "    \n",
    "    \n",
    "        united = np.vstack(indices_all_folds[0:i]+indices_all_folds[i+1:])\n",
    "        united = united.reshape(train_count)\n",
    "    \n",
    "        x_train = X_train.loc[united].values\n",
    "        y_train = df_train.loc[united,'target'].values\n",
    "        treatment_train = treat_train.loc[united].values\n",
    "        \n",
    "        estimator = LGBMClassifier(\n",
    "        n_estimators = 40,\n",
    "        num_leaves = 33,\n",
    "        boosting_type='gbdt',\n",
    "        max_depth=5,\n",
    "        learning_rate=lrate\n",
    "    )\n",
    "        sm = SoloModel(estimator)\n",
    "       \n",
    "        sm = sm.fit(x_train, y_train, treatment_train)\n",
    "        uplift_sm = sm.predict(x_val)\n",
    "    \n",
    "        val_score.append(uplift_at_k(y_true=y_val, uplift=uplift_sm, \n",
    "                                     treatment=treatment_val, strategy= \"by_group\", k=0.3))\n",
    "        \n",
    "    lgbm_score_uplift_30_2.append(val_score)"
   ]
  },
  {
   "cell_type": "code",
   "execution_count": 93,
   "metadata": {},
   "outputs": [
    {
     "name": "stdout",
     "output_type": "stream",
     "text": [
      "[[0.02868059 0.03069513 0.03256329 0.03621856 0.0436661 ]\n",
      " [0.02901676 0.03069513 0.03256329 0.03621856 0.0436661 ]\n",
      " [0.03467493 0.03102516 0.03290902 0.03904353 0.04432422]\n",
      " [0.04278526 0.05686367 0.06629676 0.03605397 0.05378276]]\n"
     ]
    }
   ],
   "source": [
    "lgbm_score_uplift_30_2 = np.matrix(lgbm_score_uplift_30_2)\n",
    "print(lgbm_score_uplift_30_2)"
   ]
  },
  {
   "cell_type": "code",
   "execution_count": 94,
   "metadata": {},
   "outputs": [
    {
     "data": {
      "text/plain": [
       "<matplotlib.legend.Legend at 0x22fa10b6040>"
      ]
     },
     "execution_count": 94,
     "metadata": {},
     "output_type": "execute_result"
    },
    {
     "data": {
      "image/png": "[encoded data removed]",
      "text/plain": [
       "<Figure size 432x288 with 1 Axes>"
      ]
     },
     "metadata": {
      "needs_background": "light"
     },
     "output_type": "display_data"
    }
   ],
   "source": [
    "pylab.plot(n_lrates, xgb_score_uplift_30_2.mean(axis = 1), marker='.', label='XGBoost')\n",
    "pylab.plot(n_lrates, lgbm_score_uplift_30_2.mean(axis = 1), marker='.', label='LGBM')\n",
    "pylab.grid(True)\n",
    "pylab.xlabel('learning_rates')\n",
    "pylab.ylabel('score_uplift_at_30%')\n",
    "pylab.title('Accuracy score')\n",
    "pylab.legend(loc='lower right')"
   ]
  },
  {
   "cell_type": "code",
   "execution_count": 95,
   "metadata": {},
   "outputs": [
    {
     "name": "stdout",
     "output_type": "stream",
     "text": [
      "Best score lgbm = 0.051156\n",
      "Best score xgboost = 0.052322\n"
     ]
    }
   ],
   "source": [
    "print(\"Best score lgbm = %f\" %(max(lgbm_score_uplift_30_2.mean(axis=1))))\n",
    "print(\"Best score xgboost = %f\" %(max(xgb_score_uplift_30_2.mean(axis=1))))"
   ]
  },
  {
   "cell_type": "markdown",
   "metadata": {},
   "source": [
    "## using grid search"
   ]
  },
  {
   "cell_type": "code",
   "execution_count": 99,
   "metadata": {},
   "outputs": [],
   "source": [
    "from pprint import pprint\n",
    "from sklearn.model_selection import ParameterGrid\n",
    "\n",
    "n_estimators = [1] + list(range(10, 70, 5))\n",
    "learning_rate = [0.0001, 0.001, 0.01, 0.1]\n",
    "\n",
    "param_grid = {\n",
    "              'n_estimators': n_estimators,\n",
    "               'learning_rate': learning_rate}\n",
    "\n",
    "\n",
    "grid_list = list(ParameterGrid(param_grid))\n",
    "grid_size = len(grid_list)\n"
   ]
  },
  {
   "cell_type": "code",
   "execution_count": 100,
   "metadata": {},
   "outputs": [],
   "source": [
    "indices_all_folds = np.array_split(indices_train, num_folds)\n",
    "xgb_score_uplift_30_all = []\n",
    "\n",
    "for params in grid_list:\n",
    "    val_score = []\n",
    "    for i in range(num_folds):\n",
    "        \n",
    "        \n",
    "        x_val = X_train.loc[indices_all_folds[i]].values\n",
    "        y_val = df_train.loc[indices_all_folds[i],'target'].values\n",
    "        treatment_val = treat_train.loc[indices_all_folds[i]].values\n",
    "    \n",
    "    \n",
    "        united = np.vstack(indices_all_folds[0:i]+indices_all_folds[i+1:])\n",
    "        united = united.reshape(train_count)\n",
    "    \n",
    "        x_train = X_train.loc[united].values\n",
    "        y_train = df_train.loc[united,'target'].values\n",
    "        treatment_train = treat_train.loc[united].values\n",
    "        \n",
    "        estimator = xgb.XGBClassifier(learning_rate=params[\"learning_rate\"], max_depth=5, \n",
    "                                      n_estimators=params[\"n_estimators\"], min_child_weight=3)\n",
    "        sm = SoloModel(estimator)\n",
    "       \n",
    "        sm = sm.fit(x_train, y_train, treatment_train)\n",
    "        uplift_sm = sm.predict(x_val)\n",
    "    \n",
    "        val_score.append(uplift_at_k(y_true=y_val, uplift=uplift_sm, \n",
    "                                     treatment=treatment_val, strategy= \"by_group\", k=0.3))\n",
    "        \n",
    "    xgb_score_uplift_30_all.append(val_score)"
   ]
  },
  {
   "cell_type": "code",
   "execution_count": 101,
   "metadata": {},
   "outputs": [
    {
     "name": "stdout",
     "output_type": "stream",
     "text": [
      "[[0.03101109 0.03052601 0.03256329 0.03621856 0.0436661 ]\n",
      " [0.03101109 0.03052601 0.03256329 0.03621856 0.0436661 ]\n",
      " [0.03101109 0.03052601 0.03256329 0.03621856 0.0436661 ]\n",
      " [0.03101109 0.03052601 0.03256329 0.03621856 0.0436661 ]\n",
      " [0.03101109 0.03052601 0.03256329 0.03621856 0.0436661 ]\n",
      " [0.03101109 0.03052601 0.03256329 0.03621856 0.0436661 ]\n",
      " [0.03101109 0.03052601 0.03256329 0.03621856 0.0436661 ]\n",
      " [0.03101109 0.03052601 0.03256329 0.03621856 0.0436661 ]\n",
      " [0.03101109 0.03052601 0.03256329 0.03621856 0.0436661 ]\n",
      " [0.03101109 0.03052601 0.03256329 0.03621856 0.0436661 ]\n",
      " [0.03101109 0.03052601 0.03256329 0.03621856 0.0436661 ]\n",
      " [0.03101109 0.03052601 0.03256329 0.03621856 0.0436661 ]\n",
      " [0.03101109 0.03052601 0.03256329 0.03621856 0.0436661 ]\n",
      " [0.03101109 0.03052601 0.03256329 0.03621856 0.0436661 ]\n",
      " [0.03101109 0.03052601 0.03256329 0.03621856 0.04299999]\n",
      " [0.03101109 0.03052601 0.03256329 0.03621856 0.04299999]\n",
      " [0.03101109 0.03052601 0.03256329 0.03621856 0.04299999]\n",
      " [0.02901653 0.03052601 0.03256329 0.03621856 0.04299999]\n",
      " [0.02901676 0.03052601 0.03256329 0.03621856 0.04299999]\n",
      " [0.02901676 0.03052601 0.03256329 0.03588524 0.04299999]\n",
      " [0.02901676 0.03052601 0.03239398 0.03588524 0.04299999]\n",
      " [0.02901676 0.03052601 0.03239398 0.03588524 0.04299999]\n",
      " [0.02901676 0.03052601 0.03239398 0.03588524 0.04299999]\n",
      " [0.02901676 0.03052601 0.03239398 0.03588524 0.04299999]\n",
      " [0.02901676 0.03052601 0.03239398 0.03588524 0.04299999]\n",
      " [0.02901676 0.03052601 0.03239398 0.03588524 0.04299999]\n",
      " [0.03101109 0.03052601 0.03256329 0.03621856 0.0436661 ]\n",
      " [0.03084745 0.03052601 0.03239398 0.03588524 0.04299999]\n",
      " [0.03084745 0.0280237  0.03239398 0.03905298 0.04399272]\n",
      " [0.03084745 0.02835538 0.03239398 0.03905298 0.04365766]\n",
      " [0.03084745 0.02835538 0.03239398 0.03905298 0.04365766]\n",
      " [0.03084745 0.02784967 0.03239398 0.03486166 0.04365766]\n",
      " [0.0320127  0.02784967 0.03308011 0.03486166 0.04365766]\n",
      " [0.0320127  0.02784967 0.03224422 0.03486166 0.04365766]\n",
      " [0.0320127  0.02784967 0.03224422 0.03486166 0.04365766]\n",
      " [0.0070393  0.02784967 0.03241176 0.03486166 0.04365766]\n",
      " [0.00720582 0.02784967 0.03241176 0.03699402 0.04365766]\n",
      " [0.00537313 0.02051874 0.03241176 0.03699402 0.04365766]\n",
      " [0.00537313 0.02051383 0.05166766 0.03699402 0.04582252]\n",
      " [0.03101109 0.03052601 0.03256329 0.03621856 0.0436661 ]\n",
      " [0.0301398  0.03206246 0.04982303 0.03684721 0.04146303]\n",
      " [0.03013536 0.04178918 0.05292617 0.0431222  0.05544204]\n",
      " [0.04044031 0.04172658 0.06027093 0.04507492 0.04928073]\n",
      " [0.05408716 0.04660141 0.0732029  0.04253132 0.06975344]\n",
      " [0.05758913 0.05456817 0.07250256 0.04201835 0.06975433]\n",
      " [0.0502719  0.04958321 0.07348109 0.0447109  0.0601026 ]\n",
      " [0.04161423 0.04928267 0.07297317 0.04045798 0.05728029]\n",
      " [0.03778786 0.05430696 0.07145471 0.0487273  0.05544893]\n",
      " [0.03862161 0.05632322 0.07530618 0.04361628 0.05029145]\n",
      " [0.04128451 0.05901595 0.07329224 0.04213167 0.05695057]\n",
      " [0.0407847  0.05853646 0.07163824 0.03961877 0.05178954]\n",
      " [0.03745414 0.05432006 0.07114631 0.03846041 0.04929073]]\n"
     ]
    }
   ],
   "source": [
    "xgb_score_uplift_30_all = np.matrix(xgb_score_uplift_30_all)\n",
    "print(xgb_score_uplift_30_all)"
   ]
  },
  {
   "cell_type": "code",
   "execution_count": 119,
   "metadata": {},
   "outputs": [
    {
     "name": "stdout",
     "output_type": "stream",
     "text": [
      "52\n",
      "[0, 1, 2, 3, 4, 5, 6, 7, 8, 9, 10, 11, 12, 13, 14, 15, 16, 17, 18, 19, 20, 21, 22, 23, 24, 25, 26, 27, 28, 29, 30, 31, 32, 33, 34, 35, 36, 37, 38, 39, 40, 41, 42, 43, 44, 45, 46, 47, 48, 49, 50, 51]\n",
      "[{'learning_rate': 0.1, 'n_estimators': 1}, {'learning_rate': 0.1, 'n_estimators': 10}, {'learning_rate': 0.1, 'n_estimators': 15}, {'learning_rate': 0.1, 'n_estimators': 20}, {'learning_rate': 0.1, 'n_estimators': 25}, {'learning_rate': 0.1, 'n_estimators': 30}, {'learning_rate': 0.1, 'n_estimators': 35}, {'learning_rate': 0.1, 'n_estimators': 40}, {'learning_rate': 0.1, 'n_estimators': 45}, {'learning_rate': 0.1, 'n_estimators': 50}, {'learning_rate': 0.1, 'n_estimators': 55}, {'learning_rate': 0.1, 'n_estimators': 60}, {'learning_rate': 0.1, 'n_estimators': 65}]\n"
     ]
    }
   ],
   "source": [
    "print(len(grid_list))\n",
    "arr = [i for i in range (0,52)]\n",
    "print(arr)\n"
   ]
  },
  {
   "cell_type": "code",
   "execution_count": 116,
   "metadata": {},
   "outputs": [
    {
     "data": {
      "text/plain": [
       "<matplotlib.legend.Legend at 0x22fa3322fd0>"
      ]
     },
     "execution_count": 116,
     "metadata": {},
     "output_type": "execute_result"
    },
    {
     "data": {
      "image/png": "[encoded data removed]",
      "text/plain": [
       "<Figure size 432x288 with 1 Axes>"
      ]
     },
     "metadata": {
      "needs_background": "light"
     },
     "output_type": "display_data"
    }
   ],
   "source": [
    "pylab.plot(arr, xgb_score_uplift_30_all.mean(axis = 1), marker='.', label='XGBoost')\n",
    "\n",
    "pylab.grid(True)\n",
    "pylab.xlabel('learning_rates')\n",
    "pylab.ylabel('score_uplift_at_30%')\n",
    "pylab.title('Accuracy score')\n",
    "pylab.legend(loc='lower right')"
   ]
  },
  {
   "cell_type": "code",
   "execution_count": 112,
   "metadata": {},
   "outputs": [
    {
     "name": "stdout",
     "output_type": "stream",
     "text": [
      "Best score xgboost = 0.059287\n"
     ]
    }
   ],
   "source": [
    "print(\"Best score xgboost = %f\" %(max(xgb_score_uplift_30_all.mean(axis=1))))"
   ]
  },
  {
   "cell_type": "code",
   "execution_count": 120,
   "metadata": {},
   "outputs": [
    {
     "name": "stdout",
     "output_type": "stream",
     "text": [
      "Empty DataFrame\n",
      "Columns: []\n",
      "Index: [000048b7a6, 000073194a, 00007c7133, 00007f9014, 0000a90cf7, 0000b59cec, 0000bb4e4e, 0000bcec9c, 0000eecb82, 0000f0ecdb, 0003363542, 00034f1549, 00037a9650, 0003b55871, 00049b7bae, 0004b68a3a, 0004ce2e52, 0004d028a5, 00051d6b59, 00055427d8, 0005ce475d, 0005d47bbf, 000687035e, 0006c801df, 0006f7f5cf, 0007379fdc, 00075162b6, 00077c053e, 0007c203da, 0008017403, 00087f07ea, 0008a9cf61, 0008eceb3c, 00091e04ca, 000926cf86, 0009545f90, 0009d3f2f6, 0009faeb8a, 000a240963, 000a3e3c00, 000aaffaed, 000ad99332, 000aef1e0b, 000af410d8, 000b397480, 000b585ab3, 000ba237bf, 000bcb2fe5, 000c05054d, 000c2677f6, 000c4ff46f, 000c56cea0, 000c6e91c8, 000c9409e1, 000c94c607, 000d007ae1, 000d4661c7, 000d743b7a, 000ee3b330, 000ee5104e, 000f064b75, 000f21f19a, 000f62d628, 000f8ae5d6, 000fbdbf4b, 00100bc1b2, 00105a51be, 00108635ca, 0010a047fb, 0011530aaa, 00115952a0, 001164992a, 00121553fa, 00129d119c, 0012b6cac6, 00132e311c, 001364541a, 00139c3ad9, 0014722cf2, 0014d2fb96, 001530523f, 001560d360, 0015a95fa2, 00168f431c, 0016cd9a58, 00177143ab, 001783ff43, 0017a4a400, 00183b30d3, 00184f633d, 0018998065, 0018aa7cc1, 0018e13417, 0018f6c9ba, 0019a74c0f, 0019b67e7f, 0019ec93d7, 001a0c56af, 001a1aebde, 001a3c9e6d, ...]\n",
      "\n",
      "[200123 rows x 0 columns]\n"
     ]
    }
   ],
   "source": [
    "print(df_test)"
   ]
  },
  {
   "cell_type": "code",
   "execution_count": 162,
   "metadata": {},
   "outputs": [
    {
     "name": "stdout",
     "output_type": "stream",
     "text": [
      "0.06848473461572202\n"
     ]
    }
   ],
   "source": [
    "x_train = X_train.values\n",
    "y_train = df_train['target'].values\n",
    "treatment_train = treat_train.values\n",
    "\n",
    "\n",
    "estimator = xgb.XGBClassifier(learning_rate=0.1, max_depth=5, \n",
    "                                      n_estimators=30, min_child_weight=3)\n",
    "sm = SoloModel(estimator)\n",
    "sm = sm.fit(x_train, y_train, treatment_train)\n",
    "uplift_sm = sm.predict(x_train)\n",
    "\n",
    "score = uplift_at_k(y_true=y_train, uplift=uplift_sm, \n",
    "                                     treatment=treatment_train, strategy= \"by_group\", k=0.3)\n",
    "print(score)"
   ]
  }
 ],
 "metadata": {
  "kernelspec": {
   "display_name": "Python 3",
   "language": "python",
   "name": "python3"
  },
  "language_info": {
   "codemirror_mode": {
    "name": "ipython",
    "version": 3
   },
   "file_extension": ".py",
   "mimetype": "text/x-python",
   "name": "python",
   "nbconvert_exporter": "python",
   "pygments_lexer": "ipython3",
   "version": "3.8.2"
  }
 },
 "nbformat": 4,
 "nbformat_minor": 4
}
